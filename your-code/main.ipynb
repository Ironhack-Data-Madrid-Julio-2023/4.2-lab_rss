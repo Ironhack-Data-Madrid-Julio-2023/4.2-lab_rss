{
 "cells": [
  {
   "cell_type": "markdown",
   "metadata": {},
   "source": [
    "# Working with RSS Feeds Lab\n",
    "\n",
    "Complete the following set of exercises to solidify your knowledge of parsing RSS feeds and extracting information from them."
   ]
  },
  {
   "cell_type": "code",
   "execution_count": 1,
   "metadata": {},
   "outputs": [],
   "source": [
    "import feedparser\n",
    "import pandas as pd"
   ]
  },
  {
   "cell_type": "markdown",
   "metadata": {},
   "source": [
    "### 1. Use feedparser to parse the following RSS feed URL."
   ]
  },
  {
   "cell_type": "code",
   "execution_count": 2,
   "metadata": {},
   "outputs": [
    {
     "name": "stdout",
     "output_type": "stream",
     "text": [
      "{'tags': [{'term': 'tech', 'scheme': None, 'label': 'r/tech'}], 'updated': '2023-08-28T15:54:47+00:00', 'updated_parsed': time.struct_time(tm_year=2023, tm_mon=8, tm_mday=28, tm_hour=15, tm_min=54, tm_sec=47, tm_wday=0, tm_yday=240, tm_isdst=0), 'icon': 'https://www.redditstatic.com/icon.png/', 'id': 'https://www.reddit.com/r/tech.rss', 'guidislink': True, 'link': 'https://www.reddit.com/r/tech', 'links': [{'rel': 'self', 'href': 'https://www.reddit.com/r/tech.rss', 'type': 'application/atom+xml'}, {'rel': 'alternate', 'href': 'https://www.reddit.com/r/tech', 'type': 'text/html'}], 'logo': 'https://f.thumbs.redditmedia.com/kI7eGVG6kaObGTdM.png', 'subtitle': 'The goal of /r/tech is to provide a space dedicated to the intelligent discussion of innovations and changes to technology in our ever changing world. We focus on high quality news articles about technology and informative and thought provoking self posts.', 'subtitle_detail': {'type': 'text/plain', 'language': None, 'base': 'https://www.reddit.com/r/tech.rss', 'value': 'The goal of /r/tech is to provide a space dedicated to the intelligent discussion of innovations and changes to technology in our ever changing world. We focus on high quality news articles about technology and informative and thought provoking self posts.'}, 'title': '/r/tech: Technological innovations and changes', 'title_detail': {'type': 'text/plain', 'language': None, 'base': 'https://www.reddit.com/r/tech.rss', 'value': '/r/tech: Technological innovations and changes'}}\n"
     ]
    }
   ],
   "source": [
    "reddit = feedparser.parse('https://www.reddit.com/r/tech.rss')  # paseo la url en modo rss de Reddit\n",
    "print(reddit[\"feed\"])\n",
    "\n"
   ]
  },
  {
   "cell_type": "markdown",
   "metadata": {},
   "source": [
    "### 2. Obtain a list of components (keys) that are available for this feed."
   ]
  },
  {
   "cell_type": "code",
   "execution_count": 3,
   "metadata": {},
   "outputs": [
    {
     "data": {
      "text/plain": [
       "dict_keys(['bozo', 'entries', 'feed', 'headers', 'href', 'status', 'encoding', 'version', 'namespaces'])"
      ]
     },
     "execution_count": 3,
     "metadata": {},
     "output_type": "execute_result"
    }
   ],
   "source": [
    "reddit.keys() # Me da únicamente las llaves de los diccionarios"
   ]
  },
  {
   "cell_type": "markdown",
   "metadata": {},
   "source": [
    "### 3. Obtain a list of components (keys) that are available for the *feed* component of this RSS feed."
   ]
  },
  {
   "cell_type": "code",
   "execution_count": 4,
   "metadata": {},
   "outputs": [
    {
     "data": {
      "text/plain": [
       "['bozo',\n",
       " 'entries',\n",
       " 'feed',\n",
       " 'headers',\n",
       " 'href',\n",
       " 'status',\n",
       " 'encoding',\n",
       " 'version',\n",
       " 'namespaces']"
      ]
     },
     "execution_count": 4,
     "metadata": {},
     "output_type": "execute_result"
    }
   ],
   "source": [
    "lista =list(reddit.keys()) #Obtengo una lista de las llaves de Reddit\n",
    "lista"
   ]
  },
  {
   "cell_type": "markdown",
   "metadata": {},
   "source": [
    "### 4. Extract and print the feed title, subtitle, author, and link."
   ]
  },
  {
   "cell_type": "code",
   "execution_count": 5,
   "metadata": {},
   "outputs": [
    {
     "name": "stdout",
     "output_type": "stream",
     "text": [
      "/r/tech: Technological innovations and changes\n",
      "\n",
      "The goal of /r/tech is to provide a space dedicated to the intelligent discussion of innovations and changes to technology in our ever changing world. We focus on high quality news articles about technology and informative and thought provoking self posts.\n",
      "\n",
      "https://www.reddit.com/r/tech\n",
      "\n"
     ]
    }
   ],
   "source": [
    "reddit.feed.keys() #Las llaves del feed\n",
    "\n",
    "print(f\"{reddit.feed.title}\\n\") # Me busca dentro de Reddit, en el feed la cabecera\n",
    "print(f\"{reddit.feed.subtitle}\\n\")\n",
    "print(f\"{reddit.feed.link}\\n\")\n",
    "# print(f\"{reddit.feed.author}\\n\") No hay nigún autor\n",
    "\n",
    "\n",
    "\n",
    "\n"
   ]
  },
  {
   "cell_type": "markdown",
   "metadata": {},
   "source": [
    "### 5. Count the number of entries that are contained in this RSS feed."
   ]
  },
  {
   "cell_type": "code",
   "execution_count": 6,
   "metadata": {},
   "outputs": [
    {
     "data": {
      "text/plain": [
       "25"
      ]
     },
     "execution_count": 6,
     "metadata": {},
     "output_type": "execute_result"
    }
   ],
   "source": [
    "len(reddit.entries) # Longitud de las entradas de Reddit"
   ]
  },
  {
   "cell_type": "markdown",
   "metadata": {},
   "source": [
    "### 6. Obtain a list of components (keys) available for an entry.\n",
    "\n",
    "*Hint: Remember to index first before requesting the keys*"
   ]
  },
  {
   "cell_type": "code",
   "execution_count": 7,
   "metadata": {},
   "outputs": [
    {
     "data": {
      "text/plain": [
       "dict_keys(['authors', 'author_detail', 'href', 'author', 'tags', 'content', 'summary', 'id', 'guidislink', 'link', 'media_thumbnail', 'links', 'updated', 'updated_parsed', 'published', 'published_parsed', 'title', 'title_detail'])"
      ]
     },
     "execution_count": 7,
     "metadata": {},
     "output_type": "execute_result"
    }
   ],
   "source": [
    "reddit.entries[1].keys()  \n"
   ]
  },
  {
   "cell_type": "markdown",
   "metadata": {},
   "source": [
    "### 7. Extract a list of entry titles."
   ]
  },
  {
   "cell_type": "code",
   "execution_count": 8,
   "metadata": {},
   "outputs": [
    {
     "name": "stdout",
     "output_type": "stream",
     "text": [
      "['How robotaxis are dividing San Francisco', 'Scientists Treat Severe Injuries in One Eye With Stem Cells From the Other', 'This startup has engineered a clever way to reuse waste heat from cloud computing. Heata is now using these busy servers to heat water for homes.', 'Smart contact lens battery charged by human tears | The battery can be charged for up to 200 cycles and does not contain wires or toxic heavy metals.', 'All-in-one gadget sees the invisible to accurately spot problem wounds', 'This Universal Charger Could Simplify the EV Landscape. The charger can top up any EV battery between 120 and 900 volts', 'Paralyzed Patients Speak Again Thanks to AI-Powered Brain Implants | Efforts to restore speech to people silenced by brain injuries and diseases have taken a significant step forward.', 'Scientists developed an invisible tagging system called BrightMarker, which embeds fluorescent tags into objects that can be viewed and tracked through an infrared camera.', 'Researchers Develop Arrays of Tiny Crystals That Deliver Efficient Wireless Energy', 'Tiny faux organs could crack the mystery of menstruation. Researchers are using organoids to unlock one of the human body’s most mysterious—and miraculous—processes.', 'Communication using thought alone? Unbabel unveils AI project to give us superhuman capabilities | The language translation startup has linked a wearable device to Generative AI, helping unlock ALS patients, and more', 'Fiber Optic Cables Are Natural Earthquake Detectors. Optical cables could give early warnings through dense, low-cost arrays.', \"CATL's EV battery Shenxing offers 250 miles in 10 minutes | The Chinese manufacturer will put it into production immediately and make it available for users early next year to increase EV adoption.\", \"Scientists recreate an iconic Pink Floyd song by scanning listeners' brains | The research looked at how brains interact with music.\", 'New silicon-based \"metasurfaces\" can rapidly detect toxins, viruses, cancer, and other diseases | A biochip with wondrous diagnostic capabilities, seemingly ready for commercialization', 'Apple is already using its chatbot for internal work', 'U.S., Japan to develop hypersonic missile interceptor', \"Nvidia aims to captialize on generative AI growth with launch of new Grace Hopper super chip, world's first with HBM3e RAM\", 'What started out as trying to create soft, simulated organs for medical devices & surgical robots, gave us a touch-sensitive, shape-morphing 3D display. This device is about as big as a board game, can create pop-up patterns, manipulate objects across its surface, & shake a beaker of liquid.', 'High-tech inks let anyone draw stretchable LEDs with a ballpoint pen', 'Chip implants get under your skin so you can leave your keys at home', 'New high-tech microscope using AI successfully detects malaria in returning travelers | Researchers have tested the accuracy of an automated microscope combined with AI software to identify malaria parasites in blood samples', 'Liquid-Metal Battery Will Be on the Grid Next Year. The molten calcium-antimony design promises low cost and long life.', 'Cruise begins testing self-driving vehicles in Atlanta', 'US scientists repeat fusion ignition breakthrough for 2nd time']\n"
     ]
    }
   ],
   "source": [
    "titles = [reddit.entries[i].title for i in range(len(reddit.entries))]\n",
    "print(titles)"
   ]
  },
  {
   "cell_type": "markdown",
   "metadata": {},
   "source": [
    "### 8. Calculate the percentage of \"Four short links\" entry titles."
   ]
  },
  {
   "cell_type": "code",
   "execution_count": null,
   "metadata": {},
   "outputs": [],
   "source": []
  },
  {
   "cell_type": "markdown",
   "metadata": {},
   "source": [
    "### 9. Create a Pandas data frame from the feed's entries."
   ]
  },
  {
   "cell_type": "code",
   "execution_count": 9,
   "metadata": {},
   "outputs": [
    {
     "data": {
      "text/html": [
       "<div>\n",
       "<style scoped>\n",
       "    .dataframe tbody tr th:only-of-type {\n",
       "        vertical-align: middle;\n",
       "    }\n",
       "\n",
       "    .dataframe tbody tr th {\n",
       "        vertical-align: top;\n",
       "    }\n",
       "\n",
       "    .dataframe thead th {\n",
       "        text-align: right;\n",
       "    }\n",
       "</style>\n",
       "<table border=\"1\" class=\"dataframe\">\n",
       "  <thead>\n",
       "    <tr style=\"text-align: right;\">\n",
       "      <th></th>\n",
       "      <th>authors</th>\n",
       "      <th>author_detail</th>\n",
       "      <th>href</th>\n",
       "      <th>author</th>\n",
       "      <th>tags</th>\n",
       "      <th>content</th>\n",
       "      <th>summary</th>\n",
       "      <th>id</th>\n",
       "      <th>guidislink</th>\n",
       "      <th>link</th>\n",
       "      <th>media_thumbnail</th>\n",
       "      <th>links</th>\n",
       "      <th>updated</th>\n",
       "      <th>updated_parsed</th>\n",
       "      <th>published</th>\n",
       "      <th>published_parsed</th>\n",
       "      <th>title</th>\n",
       "      <th>title_detail</th>\n",
       "    </tr>\n",
       "  </thead>\n",
       "  <tbody>\n",
       "    <tr>\n",
       "      <th>0</th>\n",
       "      <td>[{'name': '/u/Ok_Wall_7154', 'href': 'https://...</td>\n",
       "      <td>{'name': '/u/Ok_Wall_7154', 'href': 'https://w...</td>\n",
       "      <td></td>\n",
       "      <td>/u/Ok_Wall_7154</td>\n",
       "      <td>[{'term': 'tech', 'scheme': None, 'label': 'r/...</td>\n",
       "      <td>[{'type': 'text/html', 'language': None, 'base...</td>\n",
       "      <td>&lt;table&gt; &lt;tr&gt;&lt;td&gt; &lt;a href=\"https://www.reddit.c...</td>\n",
       "      <td>https://www.reddit.com/r/t3_163ggua</td>\n",
       "      <td>True</td>\n",
       "      <td>https://www.reddit.com/r/tech/comments/163ggua...</td>\n",
       "      <td>[{'url': 'https://external-preview.redd.it/y-M...</td>\n",
       "      <td>[{'href': 'https://www.reddit.com/r/tech/comme...</td>\n",
       "      <td>2023-08-28T08:35:15+00:00</td>\n",
       "      <td>(2023, 8, 28, 8, 35, 15, 0, 240, 0)</td>\n",
       "      <td>2023-08-28T08:35:15+00:00</td>\n",
       "      <td>(2023, 8, 28, 8, 35, 15, 0, 240, 0)</td>\n",
       "      <td>How robotaxis are dividing San Francisco</td>\n",
       "      <td>{'type': 'text/plain', 'language': None, 'base...</td>\n",
       "    </tr>\n",
       "    <tr>\n",
       "      <th>1</th>\n",
       "      <td>[{'name': '/u/Sariel007', 'href': 'https://www...</td>\n",
       "      <td>{'name': '/u/Sariel007', 'href': 'https://www....</td>\n",
       "      <td></td>\n",
       "      <td>/u/Sariel007</td>\n",
       "      <td>[{'term': 'tech', 'scheme': None, 'label': 'r/...</td>\n",
       "      <td>[{'type': 'text/html', 'language': None, 'base...</td>\n",
       "      <td>&lt;table&gt; &lt;tr&gt;&lt;td&gt; &lt;a href=\"https://www.reddit.c...</td>\n",
       "      <td>https://www.reddit.com/r/t3_162uvh2</td>\n",
       "      <td>True</td>\n",
       "      <td>https://www.reddit.com/r/tech/comments/162uvh2...</td>\n",
       "      <td>[{'url': 'https://external-preview.redd.it/ESn...</td>\n",
       "      <td>[{'href': 'https://www.reddit.com/r/tech/comme...</td>\n",
       "      <td>2023-08-27T16:25:38+00:00</td>\n",
       "      <td>(2023, 8, 27, 16, 25, 38, 6, 239, 0)</td>\n",
       "      <td>2023-08-27T16:25:38+00:00</td>\n",
       "      <td>(2023, 8, 27, 16, 25, 38, 6, 239, 0)</td>\n",
       "      <td>Scientists Treat Severe Injuries in One Eye Wi...</td>\n",
       "      <td>{'type': 'text/plain', 'language': None, 'base...</td>\n",
       "    </tr>\n",
       "    <tr>\n",
       "      <th>2</th>\n",
       "      <td>[{'name': '/u/Sariel007', 'href': 'https://www...</td>\n",
       "      <td>{'name': '/u/Sariel007', 'href': 'https://www....</td>\n",
       "      <td></td>\n",
       "      <td>/u/Sariel007</td>\n",
       "      <td>[{'term': 'tech', 'scheme': None, 'label': 'r/...</td>\n",
       "      <td>[{'type': 'text/html', 'language': None, 'base...</td>\n",
       "      <td>&lt;table&gt; &lt;tr&gt;&lt;td&gt; &lt;a href=\"https://www.reddit.c...</td>\n",
       "      <td>https://www.reddit.com/r/t3_161zppi</td>\n",
       "      <td>True</td>\n",
       "      <td>https://www.reddit.com/r/tech/comments/161zppi...</td>\n",
       "      <td>[{'url': 'https://external-preview.redd.it/B4M...</td>\n",
       "      <td>[{'href': 'https://www.reddit.com/r/tech/comme...</td>\n",
       "      <td>2023-08-26T16:28:50+00:00</td>\n",
       "      <td>(2023, 8, 26, 16, 28, 50, 5, 238, 0)</td>\n",
       "      <td>2023-08-26T16:28:50+00:00</td>\n",
       "      <td>(2023, 8, 26, 16, 28, 50, 5, 238, 0)</td>\n",
       "      <td>This startup has engineered a clever way to re...</td>\n",
       "      <td>{'type': 'text/plain', 'language': None, 'base...</td>\n",
       "    </tr>\n",
       "    <tr>\n",
       "      <th>3</th>\n",
       "      <td>[{'name': '/u/chrisdh79', 'href': 'https://www...</td>\n",
       "      <td>{'name': '/u/chrisdh79', 'href': 'https://www....</td>\n",
       "      <td></td>\n",
       "      <td>/u/chrisdh79</td>\n",
       "      <td>[{'term': 'tech', 'scheme': None, 'label': 'r/...</td>\n",
       "      <td>[{'type': 'text/html', 'language': None, 'base...</td>\n",
       "      <td>&lt;table&gt; &lt;tr&gt;&lt;td&gt; &lt;a href=\"https://www.reddit.c...</td>\n",
       "      <td>https://www.reddit.com/r/t3_16123di</td>\n",
       "      <td>True</td>\n",
       "      <td>https://www.reddit.com/r/tech/comments/16123di...</td>\n",
       "      <td>[{'url': 'https://external-preview.redd.it/fYS...</td>\n",
       "      <td>[{'href': 'https://www.reddit.com/r/tech/comme...</td>\n",
       "      <td>2023-08-25T15:15:58+00:00</td>\n",
       "      <td>(2023, 8, 25, 15, 15, 58, 4, 237, 0)</td>\n",
       "      <td>2023-08-25T15:15:58+00:00</td>\n",
       "      <td>(2023, 8, 25, 15, 15, 58, 4, 237, 0)</td>\n",
       "      <td>Smart contact lens battery charged by human te...</td>\n",
       "      <td>{'type': 'text/plain', 'language': None, 'base...</td>\n",
       "    </tr>\n",
       "  </tbody>\n",
       "</table>\n",
       "</div>"
      ],
      "text/plain": [
       "                                             authors  \\\n",
       "0  [{'name': '/u/Ok_Wall_7154', 'href': 'https://...   \n",
       "1  [{'name': '/u/Sariel007', 'href': 'https://www...   \n",
       "2  [{'name': '/u/Sariel007', 'href': 'https://www...   \n",
       "3  [{'name': '/u/chrisdh79', 'href': 'https://www...   \n",
       "\n",
       "                                       author_detail href           author  \\\n",
       "0  {'name': '/u/Ok_Wall_7154', 'href': 'https://w...       /u/Ok_Wall_7154   \n",
       "1  {'name': '/u/Sariel007', 'href': 'https://www....          /u/Sariel007   \n",
       "2  {'name': '/u/Sariel007', 'href': 'https://www....          /u/Sariel007   \n",
       "3  {'name': '/u/chrisdh79', 'href': 'https://www....          /u/chrisdh79   \n",
       "\n",
       "                                                tags  \\\n",
       "0  [{'term': 'tech', 'scheme': None, 'label': 'r/...   \n",
       "1  [{'term': 'tech', 'scheme': None, 'label': 'r/...   \n",
       "2  [{'term': 'tech', 'scheme': None, 'label': 'r/...   \n",
       "3  [{'term': 'tech', 'scheme': None, 'label': 'r/...   \n",
       "\n",
       "                                             content  \\\n",
       "0  [{'type': 'text/html', 'language': None, 'base...   \n",
       "1  [{'type': 'text/html', 'language': None, 'base...   \n",
       "2  [{'type': 'text/html', 'language': None, 'base...   \n",
       "3  [{'type': 'text/html', 'language': None, 'base...   \n",
       "\n",
       "                                             summary  \\\n",
       "0  <table> <tr><td> <a href=\"https://www.reddit.c...   \n",
       "1  <table> <tr><td> <a href=\"https://www.reddit.c...   \n",
       "2  <table> <tr><td> <a href=\"https://www.reddit.c...   \n",
       "3  <table> <tr><td> <a href=\"https://www.reddit.c...   \n",
       "\n",
       "                                    id  guidislink  \\\n",
       "0  https://www.reddit.com/r/t3_163ggua        True   \n",
       "1  https://www.reddit.com/r/t3_162uvh2        True   \n",
       "2  https://www.reddit.com/r/t3_161zppi        True   \n",
       "3  https://www.reddit.com/r/t3_16123di        True   \n",
       "\n",
       "                                                link  \\\n",
       "0  https://www.reddit.com/r/tech/comments/163ggua...   \n",
       "1  https://www.reddit.com/r/tech/comments/162uvh2...   \n",
       "2  https://www.reddit.com/r/tech/comments/161zppi...   \n",
       "3  https://www.reddit.com/r/tech/comments/16123di...   \n",
       "\n",
       "                                     media_thumbnail  \\\n",
       "0  [{'url': 'https://external-preview.redd.it/y-M...   \n",
       "1  [{'url': 'https://external-preview.redd.it/ESn...   \n",
       "2  [{'url': 'https://external-preview.redd.it/B4M...   \n",
       "3  [{'url': 'https://external-preview.redd.it/fYS...   \n",
       "\n",
       "                                               links  \\\n",
       "0  [{'href': 'https://www.reddit.com/r/tech/comme...   \n",
       "1  [{'href': 'https://www.reddit.com/r/tech/comme...   \n",
       "2  [{'href': 'https://www.reddit.com/r/tech/comme...   \n",
       "3  [{'href': 'https://www.reddit.com/r/tech/comme...   \n",
       "\n",
       "                     updated                        updated_parsed  \\\n",
       "0  2023-08-28T08:35:15+00:00   (2023, 8, 28, 8, 35, 15, 0, 240, 0)   \n",
       "1  2023-08-27T16:25:38+00:00  (2023, 8, 27, 16, 25, 38, 6, 239, 0)   \n",
       "2  2023-08-26T16:28:50+00:00  (2023, 8, 26, 16, 28, 50, 5, 238, 0)   \n",
       "3  2023-08-25T15:15:58+00:00  (2023, 8, 25, 15, 15, 58, 4, 237, 0)   \n",
       "\n",
       "                   published                      published_parsed  \\\n",
       "0  2023-08-28T08:35:15+00:00   (2023, 8, 28, 8, 35, 15, 0, 240, 0)   \n",
       "1  2023-08-27T16:25:38+00:00  (2023, 8, 27, 16, 25, 38, 6, 239, 0)   \n",
       "2  2023-08-26T16:28:50+00:00  (2023, 8, 26, 16, 28, 50, 5, 238, 0)   \n",
       "3  2023-08-25T15:15:58+00:00  (2023, 8, 25, 15, 15, 58, 4, 237, 0)   \n",
       "\n",
       "                                               title  \\\n",
       "0           How robotaxis are dividing San Francisco   \n",
       "1  Scientists Treat Severe Injuries in One Eye Wi...   \n",
       "2  This startup has engineered a clever way to re...   \n",
       "3  Smart contact lens battery charged by human te...   \n",
       "\n",
       "                                        title_detail  \n",
       "0  {'type': 'text/plain', 'language': None, 'base...  \n",
       "1  {'type': 'text/plain', 'language': None, 'base...  \n",
       "2  {'type': 'text/plain', 'language': None, 'base...  \n",
       "3  {'type': 'text/plain', 'language': None, 'base...  "
      ]
     },
     "execution_count": 9,
     "metadata": {},
     "output_type": "execute_result"
    }
   ],
   "source": [
    "data = pd.DataFrame(reddit.entries)\n",
    "data.head(4)"
   ]
  },
  {
   "cell_type": "markdown",
   "metadata": {},
   "source": [
    "### 10. Count the number of entries per author and sort them in descending order."
   ]
  },
  {
   "cell_type": "code",
   "execution_count": 10,
   "metadata": {},
   "outputs": [
    {
     "name": "stdout",
     "output_type": "stream",
     "text": [
      "               author  count\n",
      "6        /u/chrisdh79     13\n",
      "3        /u/Sariel007      7\n",
      "0  /u/JackFisherBooks      1\n",
      "1       /u/MichaelTen      1\n",
      "2     /u/Ok_Wall_7154      1\n",
      "4       /u/Tao_Dragon      1\n",
      "5       /u/bybatasdie      1\n"
     ]
    }
   ],
   "source": [
    "entries_per_author = data.groupby(\"author\").size().reset_index(name=\"count\")\n",
    "entries_per_author = entries_per_author.sort_values(by=\"count\", ascending=False)\n",
    "\n",
    "print(entries_per_author)"
   ]
  },
  {
   "cell_type": "markdown",
   "metadata": {},
   "source": [
    "### 11. Add a new column to the data frame that contains the length (number of characters) of each entry title. Return a data frame that contains the title, author, and title length of each entry in descending order (longest title length at the top)."
   ]
  },
  {
   "cell_type": "code",
   "execution_count": 24,
   "metadata": {},
   "outputs": [
    {
     "data": {
      "text/plain": [
       "Index(['authors', 'author_detail', 'href', 'author', 'tags', 'content',\n",
       "       'summary', 'id', 'guidislink', 'link', 'media_thumbnail', 'links',\n",
       "       'updated', 'updated_parsed', 'published', 'published_parsed', 'title',\n",
       "       'title_detail', 'title_lenght'],\n",
       "      dtype='object')"
      ]
     },
     "execution_count": 24,
     "metadata": {},
     "output_type": "execute_result"
    }
   ],
   "source": [
    "data.columns\n"
   ]
  },
  {
   "cell_type": "code",
   "execution_count": 27,
   "metadata": {},
   "outputs": [
    {
     "ename": "KeyError",
     "evalue": "\"['title_length'] not in index\"",
     "output_type": "error",
     "traceback": [
      "\u001b[1;31m---------------------------------------------------------------------------\u001b[0m",
      "\u001b[1;31mKeyError\u001b[0m                                  Traceback (most recent call last)",
      "Cell \u001b[1;32mIn[27], line 4\u001b[0m\n\u001b[0;32m      1\u001b[0m data[\u001b[39m\"\u001b[39m\u001b[39mtitle_lenght\u001b[39m\u001b[39m\"\u001b[39m] \u001b[39m=\u001b[39m data[\u001b[39m\"\u001b[39m\u001b[39mtitle\u001b[39m\u001b[39m\"\u001b[39m]\u001b[39m.\u001b[39mapply(\u001b[39mlen\u001b[39m) \u001b[39m#apply(len) devuelve la longiutd de la columna title\u001b[39;00m\n\u001b[1;32m----> 4\u001b[0m data[[\u001b[39m\"\u001b[39;49m\u001b[39mtitle_length\u001b[39;49m\u001b[39m\"\u001b[39;49m, \u001b[39m\"\u001b[39;49m\u001b[39mtitle\u001b[39;49m\u001b[39m\"\u001b[39;49m]]\u001b[39m.\u001b[39msort_values(\u001b[39m\"\u001b[39m\u001b[39mtitle_length\u001b[39m\u001b[39m\"\u001b[39m, ascending\u001b[39m=\u001b[39m\u001b[39mTrue\u001b[39;00m)\u001b[39m.\u001b[39mhead()\n",
      "File \u001b[1;32mc:\\Users\\filokaizen\\anaconda3\\Lib\\site-packages\\pandas\\core\\frame.py:3813\u001b[0m, in \u001b[0;36mDataFrame.__getitem__\u001b[1;34m(self, key)\u001b[0m\n\u001b[0;32m   3811\u001b[0m     \u001b[39mif\u001b[39;00m is_iterator(key):\n\u001b[0;32m   3812\u001b[0m         key \u001b[39m=\u001b[39m \u001b[39mlist\u001b[39m(key)\n\u001b[1;32m-> 3813\u001b[0m     indexer \u001b[39m=\u001b[39m \u001b[39mself\u001b[39;49m\u001b[39m.\u001b[39;49mcolumns\u001b[39m.\u001b[39;49m_get_indexer_strict(key, \u001b[39m\"\u001b[39;49m\u001b[39mcolumns\u001b[39;49m\u001b[39m\"\u001b[39;49m)[\u001b[39m1\u001b[39m]\n\u001b[0;32m   3815\u001b[0m \u001b[39m# take() does not accept boolean indexers\u001b[39;00m\n\u001b[0;32m   3816\u001b[0m \u001b[39mif\u001b[39;00m \u001b[39mgetattr\u001b[39m(indexer, \u001b[39m\"\u001b[39m\u001b[39mdtype\u001b[39m\u001b[39m\"\u001b[39m, \u001b[39mNone\u001b[39;00m) \u001b[39m==\u001b[39m \u001b[39mbool\u001b[39m:\n",
      "File \u001b[1;32mc:\\Users\\filokaizen\\anaconda3\\Lib\\site-packages\\pandas\\core\\indexes\\base.py:6070\u001b[0m, in \u001b[0;36mIndex._get_indexer_strict\u001b[1;34m(self, key, axis_name)\u001b[0m\n\u001b[0;32m   6067\u001b[0m \u001b[39melse\u001b[39;00m:\n\u001b[0;32m   6068\u001b[0m     keyarr, indexer, new_indexer \u001b[39m=\u001b[39m \u001b[39mself\u001b[39m\u001b[39m.\u001b[39m_reindex_non_unique(keyarr)\n\u001b[1;32m-> 6070\u001b[0m \u001b[39mself\u001b[39;49m\u001b[39m.\u001b[39;49m_raise_if_missing(keyarr, indexer, axis_name)\n\u001b[0;32m   6072\u001b[0m keyarr \u001b[39m=\u001b[39m \u001b[39mself\u001b[39m\u001b[39m.\u001b[39mtake(indexer)\n\u001b[0;32m   6073\u001b[0m \u001b[39mif\u001b[39;00m \u001b[39misinstance\u001b[39m(key, Index):\n\u001b[0;32m   6074\u001b[0m     \u001b[39m# GH 42790 - Preserve name from an Index\u001b[39;00m\n",
      "File \u001b[1;32mc:\\Users\\filokaizen\\anaconda3\\Lib\\site-packages\\pandas\\core\\indexes\\base.py:6133\u001b[0m, in \u001b[0;36mIndex._raise_if_missing\u001b[1;34m(self, key, indexer, axis_name)\u001b[0m\n\u001b[0;32m   6130\u001b[0m     \u001b[39mraise\u001b[39;00m \u001b[39mKeyError\u001b[39;00m(\u001b[39mf\u001b[39m\u001b[39m\"\u001b[39m\u001b[39mNone of [\u001b[39m\u001b[39m{\u001b[39;00mkey\u001b[39m}\u001b[39;00m\u001b[39m] are in the [\u001b[39m\u001b[39m{\u001b[39;00maxis_name\u001b[39m}\u001b[39;00m\u001b[39m]\u001b[39m\u001b[39m\"\u001b[39m)\n\u001b[0;32m   6132\u001b[0m not_found \u001b[39m=\u001b[39m \u001b[39mlist\u001b[39m(ensure_index(key)[missing_mask\u001b[39m.\u001b[39mnonzero()[\u001b[39m0\u001b[39m]]\u001b[39m.\u001b[39munique())\n\u001b[1;32m-> 6133\u001b[0m \u001b[39mraise\u001b[39;00m \u001b[39mKeyError\u001b[39;00m(\u001b[39mf\u001b[39m\u001b[39m\"\u001b[39m\u001b[39m{\u001b[39;00mnot_found\u001b[39m}\u001b[39;00m\u001b[39m not in index\u001b[39m\u001b[39m\"\u001b[39m)\n",
      "\u001b[1;31mKeyError\u001b[0m: \"['title_length'] not in index\""
     ]
    }
   ],
   "source": [
    "data[\"title_lenght\"] = data[\"title\"].apply(len) #apply(len) devuelve la longiutd de la columna title\n",
    "\n",
    "\n",
    "data[[\"title_length\", \"title\"]].sort_values(\"title_length\", ascending=True).head()\n",
    "\n",
    "\n"
   ]
  },
  {
   "cell_type": "code",
   "execution_count": 28,
   "metadata": {},
   "outputs": [
    {
     "data": {
      "text/plain": [
       "Index(['authors', 'author_detail', 'href', 'author', 'tags', 'content',\n",
       "       'summary', 'id', 'guidislink', 'link', 'media_thumbnail', 'links',\n",
       "       'updated', 'updated_parsed', 'published', 'published_parsed', 'title',\n",
       "       'title_detail', 'title_lenght'],\n",
       "      dtype='object')"
      ]
     },
     "execution_count": 28,
     "metadata": {},
     "output_type": "execute_result"
    }
   ],
   "source": []
  },
  {
   "cell_type": "markdown",
   "metadata": {},
   "source": [
    "### 12. Create a list of entry titles whose summary includes the phrase \"machine learning.\""
   ]
  },
  {
   "cell_type": "code",
   "execution_count": 29,
   "metadata": {},
   "outputs": [],
   "source": [
    "entries_with_machine_learning = data[data['summary'].str.contains('machine learning', case=False)]['title'].tolist()\n"
   ]
  },
  {
   "cell_type": "code",
   "execution_count": 31,
   "metadata": {},
   "outputs": [
    {
     "name": "stdout",
     "output_type": "stream",
     "text": [
      "[]\n"
     ]
    }
   ],
   "source": []
  }
 ],
 "metadata": {
  "kernelspec": {
   "display_name": "Python 3 (ipykernel)",
   "language": "python",
   "name": "python3"
  },
  "language_info": {
   "codemirror_mode": {
    "name": "ipython",
    "version": 3
   },
   "file_extension": ".py",
   "mimetype": "text/x-python",
   "name": "python",
   "nbconvert_exporter": "python",
   "pygments_lexer": "ipython3",
   "version": "3.11.4"
  }
 },
 "nbformat": 4,
 "nbformat_minor": 2
}
