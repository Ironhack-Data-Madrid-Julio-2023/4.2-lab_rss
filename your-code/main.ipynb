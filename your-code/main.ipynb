{
 "cells": [
  {
   "cell_type": "markdown",
   "metadata": {},
   "source": [
    "# Working with RSS Feeds Lab\n",
    "\n",
    "Complete the following set of exercises to solidify your knowledge of parsing RSS feeds and extracting information from them."
   ]
  },
  {
   "cell_type": "code",
   "execution_count": 38,
   "metadata": {},
   "outputs": [],
   "source": [
    "import feedparser\n",
    "import pandas as pd"
   ]
  },
  {
   "cell_type": "markdown",
   "metadata": {},
   "source": [
    "### 1. Use feedparser to parse the following RSS feed URL."
   ]
  },
  {
   "cell_type": "code",
   "execution_count": 2,
   "metadata": {},
   "outputs": [],
   "source": [
    "apology = feedparser.parse('https://rss.art19.com/apology-line')"
   ]
  },
  {
   "cell_type": "markdown",
   "metadata": {},
   "source": [
    "### 2. Obtain a list of components (keys) that are available for this feed."
   ]
  },
  {
   "cell_type": "code",
   "execution_count": 3,
   "metadata": {},
   "outputs": [
    {
     "data": {
      "text/plain": [
       "dict_keys(['bozo', 'entries', 'feed', 'headers', 'updated', 'updated_parsed', 'href', 'status', 'encoding', 'version', 'namespaces'])"
      ]
     },
     "execution_count": 3,
     "metadata": {},
     "output_type": "execute_result"
    }
   ],
   "source": [
    "apology.keys() # the same as in every rss feed"
   ]
  },
  {
   "cell_type": "markdown",
   "metadata": {},
   "source": [
    "### 3. Obtain a list of components (keys) that are available for the *feed* component of this RSS feed."
   ]
  },
  {
   "cell_type": "code",
   "execution_count": 4,
   "metadata": {},
   "outputs": [
    {
     "data": {
      "text/plain": [
       "dict_keys(['title', 'title_detail', 'subtitle', 'subtitle_detail', 'authors', 'author', 'author_detail', 'rights', 'rights_detail', 'generator_detail', 'generator', 'links', 'link', 'publisher_detail', 'summary', 'summary_detail', 'language', 'itunes_explicit', 'tags', 'itunes_type', 'image'])"
      ]
     },
     "execution_count": 4,
     "metadata": {},
     "output_type": "execute_result"
    }
   ],
   "source": [
    "apology['feed'].keys()"
   ]
  },
  {
   "cell_type": "markdown",
   "metadata": {},
   "source": [
    "### 4. Extract and print the feed title, subtitle, author, and link."
   ]
  },
  {
   "cell_type": "code",
   "execution_count": 15,
   "metadata": {},
   "outputs": [
    {
     "name": "stdout",
     "output_type": "stream",
     "text": [
      "The Apology Line \n",
      "\n",
      "If you could call a number and say you’re sorry, and no one would know…what would you apologize for? For fifteen years, you could call a number in Manhattan and do just that. This is the story of the line, and the man at the other end who became consumed by his own creation. He was known as “Mr. Apology.” As thousands of callers flooded the line, confessing to everything from shoplifting to infidelity, drug dealing to murder, Mr. Apology realized he couldn’t just listen. He had to do something, even if it meant risking everything. From Wondery the makers of Dr. Death and The Shrink Next Door, comes a story about empathy, deception and obsession. Marissa Bridge, who knew Mr. Apology better than anyone, hosts this six episode series. All episodes are available now. You can binge the series ad-free on Wondery+ or on Amazon Music with a Prime membership or Amazon Music Unlimited subscription.   \n",
      "\n",
      "Wondery \n",
      "\n",
      "https://wondery.com/shows/the-apology-line/?utm_source=rss \n",
      "\n"
     ]
    }
   ],
   "source": [
    "title = apology['feed']['title']\n",
    "subtitle = apology['feed']['subtitle'].replace('<p>','').replace('</p>',' ') # por dejarlo más mono\n",
    "author = apology['feed']['author']\n",
    "link = apology['feed']['link']\n",
    "\n",
    "print(title,'\\n')\n",
    "print(subtitle,'\\n')\n",
    "print(author,'\\n')\n",
    "print(link,'\\n')"
   ]
  },
  {
   "cell_type": "markdown",
   "metadata": {},
   "source": [
    "### 5. Count the number of entries that are contained in this RSS feed."
   ]
  },
  {
   "cell_type": "code",
   "execution_count": 33,
   "metadata": {},
   "outputs": [
    {
     "data": {
      "text/plain": [
       "6"
      ]
     },
     "execution_count": 33,
     "metadata": {},
     "output_type": "execute_result"
    }
   ],
   "source": [
    "len(apology['entries'])"
   ]
  },
  {
   "cell_type": "markdown",
   "metadata": {},
   "source": [
    "### 6. Obtain a list of components (keys) available for an entry.\n",
    "\n",
    "*Hint: Remember to index first before requesting the keys*"
   ]
  },
  {
   "cell_type": "code",
   "execution_count": 35,
   "metadata": {},
   "outputs": [
    {
     "data": {
      "text/plain": [
       "dict_keys(['title', 'title_detail', 'summary', 'summary_detail', 'itunes_title', 'itunes_episodetype', 'content', 'id', 'guidislink', 'published', 'published_parsed', 'itunes_explicit', 'image', 'tags', 'itunes_duration', 'links'])"
      ]
     },
     "execution_count": 35,
     "metadata": {},
     "output_type": "execute_result"
    }
   ],
   "source": [
    "apology['entries'][0].keys()"
   ]
  },
  {
   "cell_type": "markdown",
   "metadata": {},
   "source": [
    "### 7. Extract a list of entry titles."
   ]
  },
  {
   "cell_type": "code",
   "execution_count": 36,
   "metadata": {},
   "outputs": [
    {
     "data": {
      "text/plain": [
       "['Listen Now - Think Twice: Michael Jackson',\n",
       " 'Listen Now: Suspect \"Five Shots in the Dark\"',\n",
       " 'Where to find Episodes 2-7 of The Apology Line',\n",
       " 'Introducing: The Generation Why',\n",
       " 'Who’s Sorry Now? | 1',\n",
       " 'Introducing: The Apology Line']"
      ]
     },
     "execution_count": 36,
     "metadata": {},
     "output_type": "execute_result"
    }
   ],
   "source": [
    "titles = [i['title'] for i in apology['entries']]\n",
    "\n",
    "titles"
   ]
  },
  {
   "cell_type": "markdown",
   "metadata": {},
   "source": [
    "### 8. Calculate the percentage of \"Four short links\" entry titles."
   ]
  },
  {
   "cell_type": "code",
   "execution_count": null,
   "metadata": {},
   "outputs": [],
   "source": [
    "# En su lugar calcularé el porcentaje de titulos "
   ]
  },
  {
   "cell_type": "markdown",
   "metadata": {},
   "source": [
    "### 9. Create a Pandas data frame from the feed's entries."
   ]
  },
  {
   "cell_type": "code",
   "execution_count": 39,
   "metadata": {},
   "outputs": [],
   "source": [
    "entries = pd.DataFrame(apology['entries'])"
   ]
  },
  {
   "cell_type": "code",
   "execution_count": 40,
   "metadata": {},
   "outputs": [
    {
     "data": {
      "text/html": [
       "<div>\n",
       "<style scoped>\n",
       "    .dataframe tbody tr th:only-of-type {\n",
       "        vertical-align: middle;\n",
       "    }\n",
       "\n",
       "    .dataframe tbody tr th {\n",
       "        vertical-align: top;\n",
       "    }\n",
       "\n",
       "    .dataframe thead th {\n",
       "        text-align: right;\n",
       "    }\n",
       "</style>\n",
       "<table border=\"1\" class=\"dataframe\">\n",
       "  <thead>\n",
       "    <tr style=\"text-align: right;\">\n",
       "      <th></th>\n",
       "      <th>title</th>\n",
       "      <th>title_detail</th>\n",
       "      <th>summary</th>\n",
       "      <th>summary_detail</th>\n",
       "      <th>itunes_title</th>\n",
       "      <th>itunes_episodetype</th>\n",
       "      <th>content</th>\n",
       "      <th>id</th>\n",
       "      <th>guidislink</th>\n",
       "      <th>published</th>\n",
       "      <th>published_parsed</th>\n",
       "      <th>itunes_explicit</th>\n",
       "      <th>image</th>\n",
       "      <th>tags</th>\n",
       "      <th>itunes_duration</th>\n",
       "      <th>links</th>\n",
       "      <th>itunes_episode</th>\n",
       "    </tr>\n",
       "  </thead>\n",
       "  <tbody>\n",
       "    <tr>\n",
       "      <th>0</th>\n",
       "      <td>Listen Now - Think Twice: Michael Jackson</td>\n",
       "      <td>{'type': 'text/plain', 'language': None, 'base...</td>\n",
       "      <td>&lt;p&gt;More than a decade since Michael Jackson’s ...</td>\n",
       "      <td>{'type': 'text/html', 'language': None, 'base'...</td>\n",
       "      <td>Listen Now - Think Twice: Michael Jackson</td>\n",
       "      <td>trailer</td>\n",
       "      <td>[{'type': 'text/plain', 'language': None, 'bas...</td>\n",
       "      <td>gid://art19-episode-locator/V0/RB0GUh28sKfRDnX...</td>\n",
       "      <td>False</td>\n",
       "      <td>Mon, 31 Jul 2023 08:00:00 -0000</td>\n",
       "      <td>(2023, 7, 31, 8, 0, 0, 0, 212, 0)</td>\n",
       "      <td>True</td>\n",
       "      <td>{'href': 'https://content.production.cdn.art19...</td>\n",
       "      <td>[{'term': 'SERIAL KILLER', 'scheme': 'http://w...</td>\n",
       "      <td>00:07:48</td>\n",
       "      <td>[{'type': 'audio/mpeg', 'length': '7488574', '...</td>\n",
       "      <td>NaN</td>\n",
       "    </tr>\n",
       "    <tr>\n",
       "      <th>1</th>\n",
       "      <td>Listen Now: Suspect \"Five Shots in the Dark\"</td>\n",
       "      <td>{'type': 'text/plain', 'language': None, 'base...</td>\n",
       "      <td>&lt;p&gt;Suspect is an investigative series about mi...</td>\n",
       "      <td>{'type': 'text/html', 'language': None, 'base'...</td>\n",
       "      <td>Listen Now: Suspect \"Five Shots in the Dark\"</td>\n",
       "      <td>trailer</td>\n",
       "      <td>[{'type': 'text/plain', 'language': None, 'bas...</td>\n",
       "      <td>gid://art19-episode-locator/V0/zOcPUHGtQrWg5FP...</td>\n",
       "      <td>False</td>\n",
       "      <td>Mon, 17 Jul 2023 08:00:00 -0000</td>\n",
       "      <td>(2023, 7, 17, 8, 0, 0, 0, 198, 0)</td>\n",
       "      <td>True</td>\n",
       "      <td>{'href': 'https://content.production.cdn.art19...</td>\n",
       "      <td>[{'term': 'serial killer', 'scheme': 'http://w...</td>\n",
       "      <td>00:06:02</td>\n",
       "      <td>[{'type': 'audio/mpeg', 'length': '5797093', '...</td>\n",
       "      <td>NaN</td>\n",
       "    </tr>\n",
       "    <tr>\n",
       "      <th>2</th>\n",
       "      <td>Where to find Episodes 2-7 of The Apology Line</td>\n",
       "      <td>{'type': 'text/plain', 'language': None, 'base...</td>\n",
       "      <td>&lt;p&gt;The Apology Line has moved. You can listen ...</td>\n",
       "      <td>{'type': 'text/html', 'language': None, 'base'...</td>\n",
       "      <td>Where to find Episodes 2-7 of The Apology Line</td>\n",
       "      <td>bonus</td>\n",
       "      <td>[{'type': 'text/plain', 'language': None, 'bas...</td>\n",
       "      <td>gid://art19-episode-locator/V0/FZOLMXrfpw3yiFJ...</td>\n",
       "      <td>False</td>\n",
       "      <td>Mon, 03 Jul 2023 15:28:44 -0000</td>\n",
       "      <td>(2023, 7, 3, 15, 28, 44, 0, 184, 0)</td>\n",
       "      <td>True</td>\n",
       "      <td>{'href': 'https://content.production.cdn.art19...</td>\n",
       "      <td>[{'term': 'SERIAL KILLER', 'scheme': 'http://w...</td>\n",
       "      <td>00:00:51</td>\n",
       "      <td>[{'type': 'audio/mpeg', 'length': '827559', 'h...</td>\n",
       "      <td>NaN</td>\n",
       "    </tr>\n",
       "    <tr>\n",
       "      <th>3</th>\n",
       "      <td>Introducing: The Generation Why</td>\n",
       "      <td>{'type': 'text/plain', 'language': None, 'base...</td>\n",
       "      <td>&lt;p&gt;The Generation Why Podcast released its fir...</td>\n",
       "      <td>{'type': 'text/html', 'language': None, 'base'...</td>\n",
       "      <td>Introducing: The Generation Why</td>\n",
       "      <td>trailer</td>\n",
       "      <td>[{'type': 'text/html', 'language': None, 'base...</td>\n",
       "      <td>gid://art19-episode-locator/V0/sUtNdRf3gL71KX2...</td>\n",
       "      <td>False</td>\n",
       "      <td>Mon, 03 Jul 2023 08:00:00 -0000</td>\n",
       "      <td>(2023, 7, 3, 8, 0, 0, 0, 184, 0)</td>\n",
       "      <td>True</td>\n",
       "      <td>{'href': 'https://content.production.cdn.art19...</td>\n",
       "      <td>[{'term': 'SERIAL KILLER', 'scheme': 'http://w...</td>\n",
       "      <td>00:08:10</td>\n",
       "      <td>[{'type': 'audio/mpeg', 'length': '7840914', '...</td>\n",
       "      <td>NaN</td>\n",
       "    </tr>\n",
       "    <tr>\n",
       "      <th>4</th>\n",
       "      <td>Who’s Sorry Now? | 1</td>\n",
       "      <td>{'type': 'text/plain', 'language': None, 'base...</td>\n",
       "      <td>&lt;p&gt;Marissa Bridge has only had a premonition t...</td>\n",
       "      <td>{'type': 'text/html', 'language': None, 'base'...</td>\n",
       "      <td>Who’s Sorry Now?</td>\n",
       "      <td>full</td>\n",
       "      <td>[{'type': 'text/plain', 'language': None, 'bas...</td>\n",
       "      <td>gid://art19-episode-locator/V0/eZqOUfJOCHVNII-...</td>\n",
       "      <td>False</td>\n",
       "      <td>Sun, 17 Jan 2021 08:00:00 -0000</td>\n",
       "      <td>(2021, 1, 17, 8, 0, 0, 6, 17, 0)</td>\n",
       "      <td>True</td>\n",
       "      <td>{'href': 'https://content.production.cdn.art19...</td>\n",
       "      <td>[{'term': 'Exhibit C', 'scheme': 'http://www.i...</td>\n",
       "      <td>00:37:20</td>\n",
       "      <td>[{'type': 'audio/mpeg', 'length': '35845433', ...</td>\n",
       "      <td>1</td>\n",
       "    </tr>\n",
       "  </tbody>\n",
       "</table>\n",
       "</div>"
      ],
      "text/plain": [
       "                                            title  \\\n",
       "0       Listen Now - Think Twice: Michael Jackson   \n",
       "1    Listen Now: Suspect \"Five Shots in the Dark\"   \n",
       "2  Where to find Episodes 2-7 of The Apology Line   \n",
       "3                 Introducing: The Generation Why   \n",
       "4                            Who’s Sorry Now? | 1   \n",
       "\n",
       "                                        title_detail  \\\n",
       "0  {'type': 'text/plain', 'language': None, 'base...   \n",
       "1  {'type': 'text/plain', 'language': None, 'base...   \n",
       "2  {'type': 'text/plain', 'language': None, 'base...   \n",
       "3  {'type': 'text/plain', 'language': None, 'base...   \n",
       "4  {'type': 'text/plain', 'language': None, 'base...   \n",
       "\n",
       "                                             summary  \\\n",
       "0  <p>More than a decade since Michael Jackson’s ...   \n",
       "1  <p>Suspect is an investigative series about mi...   \n",
       "2  <p>The Apology Line has moved. You can listen ...   \n",
       "3  <p>The Generation Why Podcast released its fir...   \n",
       "4  <p>Marissa Bridge has only had a premonition t...   \n",
       "\n",
       "                                      summary_detail  \\\n",
       "0  {'type': 'text/html', 'language': None, 'base'...   \n",
       "1  {'type': 'text/html', 'language': None, 'base'...   \n",
       "2  {'type': 'text/html', 'language': None, 'base'...   \n",
       "3  {'type': 'text/html', 'language': None, 'base'...   \n",
       "4  {'type': 'text/html', 'language': None, 'base'...   \n",
       "\n",
       "                                     itunes_title itunes_episodetype  \\\n",
       "0       Listen Now - Think Twice: Michael Jackson            trailer   \n",
       "1    Listen Now: Suspect \"Five Shots in the Dark\"            trailer   \n",
       "2  Where to find Episodes 2-7 of The Apology Line              bonus   \n",
       "3                 Introducing: The Generation Why            trailer   \n",
       "4                                Who’s Sorry Now?               full   \n",
       "\n",
       "                                             content  \\\n",
       "0  [{'type': 'text/plain', 'language': None, 'bas...   \n",
       "1  [{'type': 'text/plain', 'language': None, 'bas...   \n",
       "2  [{'type': 'text/plain', 'language': None, 'bas...   \n",
       "3  [{'type': 'text/html', 'language': None, 'base...   \n",
       "4  [{'type': 'text/plain', 'language': None, 'bas...   \n",
       "\n",
       "                                                  id  guidislink  \\\n",
       "0  gid://art19-episode-locator/V0/RB0GUh28sKfRDnX...       False   \n",
       "1  gid://art19-episode-locator/V0/zOcPUHGtQrWg5FP...       False   \n",
       "2  gid://art19-episode-locator/V0/FZOLMXrfpw3yiFJ...       False   \n",
       "3  gid://art19-episode-locator/V0/sUtNdRf3gL71KX2...       False   \n",
       "4  gid://art19-episode-locator/V0/eZqOUfJOCHVNII-...       False   \n",
       "\n",
       "                         published                     published_parsed  \\\n",
       "0  Mon, 31 Jul 2023 08:00:00 -0000    (2023, 7, 31, 8, 0, 0, 0, 212, 0)   \n",
       "1  Mon, 17 Jul 2023 08:00:00 -0000    (2023, 7, 17, 8, 0, 0, 0, 198, 0)   \n",
       "2  Mon, 03 Jul 2023 15:28:44 -0000  (2023, 7, 3, 15, 28, 44, 0, 184, 0)   \n",
       "3  Mon, 03 Jul 2023 08:00:00 -0000     (2023, 7, 3, 8, 0, 0, 0, 184, 0)   \n",
       "4  Sun, 17 Jan 2021 08:00:00 -0000     (2021, 1, 17, 8, 0, 0, 6, 17, 0)   \n",
       "\n",
       "   itunes_explicit                                              image  \\\n",
       "0             True  {'href': 'https://content.production.cdn.art19...   \n",
       "1             True  {'href': 'https://content.production.cdn.art19...   \n",
       "2             True  {'href': 'https://content.production.cdn.art19...   \n",
       "3             True  {'href': 'https://content.production.cdn.art19...   \n",
       "4             True  {'href': 'https://content.production.cdn.art19...   \n",
       "\n",
       "                                                tags itunes_duration  \\\n",
       "0  [{'term': 'SERIAL KILLER', 'scheme': 'http://w...        00:07:48   \n",
       "1  [{'term': 'serial killer', 'scheme': 'http://w...        00:06:02   \n",
       "2  [{'term': 'SERIAL KILLER', 'scheme': 'http://w...        00:00:51   \n",
       "3  [{'term': 'SERIAL KILLER', 'scheme': 'http://w...        00:08:10   \n",
       "4  [{'term': 'Exhibit C', 'scheme': 'http://www.i...        00:37:20   \n",
       "\n",
       "                                               links itunes_episode  \n",
       "0  [{'type': 'audio/mpeg', 'length': '7488574', '...            NaN  \n",
       "1  [{'type': 'audio/mpeg', 'length': '5797093', '...            NaN  \n",
       "2  [{'type': 'audio/mpeg', 'length': '827559', 'h...            NaN  \n",
       "3  [{'type': 'audio/mpeg', 'length': '7840914', '...            NaN  \n",
       "4  [{'type': 'audio/mpeg', 'length': '35845433', ...              1  "
      ]
     },
     "execution_count": 40,
     "metadata": {},
     "output_type": "execute_result"
    }
   ],
   "source": [
    "entries.head()"
   ]
  },
  {
   "cell_type": "code",
   "execution_count": 43,
   "metadata": {},
   "outputs": [
    {
     "data": {
      "text/html": [
       "<div>\n",
       "<style scoped>\n",
       "    .dataframe tbody tr th:only-of-type {\n",
       "        vertical-align: middle;\n",
       "    }\n",
       "\n",
       "    .dataframe tbody tr th {\n",
       "        vertical-align: top;\n",
       "    }\n",
       "\n",
       "    .dataframe thead th {\n",
       "        text-align: right;\n",
       "    }\n",
       "</style>\n",
       "<table border=\"1\" class=\"dataframe\">\n",
       "  <thead>\n",
       "    <tr style=\"text-align: right;\">\n",
       "      <th></th>\n",
       "      <th>title</th>\n",
       "      <th>title_detail</th>\n",
       "      <th>summary</th>\n",
       "      <th>summary_detail</th>\n",
       "      <th>itunes_title</th>\n",
       "      <th>itunes_episodetype</th>\n",
       "      <th>content</th>\n",
       "      <th>id</th>\n",
       "      <th>guidislink</th>\n",
       "      <th>published</th>\n",
       "      <th>published_parsed</th>\n",
       "      <th>itunes_explicit</th>\n",
       "      <th>image</th>\n",
       "      <th>tags</th>\n",
       "      <th>itunes_duration</th>\n",
       "      <th>links</th>\n",
       "      <th>itunes_episode</th>\n",
       "    </tr>\n",
       "  </thead>\n",
       "  <tbody>\n",
       "    <tr>\n",
       "      <th>0</th>\n",
       "      <td>Listen Now - Think Twice: Michael Jackson</td>\n",
       "      <td>{'type': 'text/plain', 'language': None, 'base...</td>\n",
       "      <td>&lt;p&gt;More than a decade since Michael Jackson’s ...</td>\n",
       "      <td>{'type': 'text/html', 'language': None, 'base'...</td>\n",
       "      <td>Listen Now - Think Twice: Michael Jackson</td>\n",
       "      <td>trailer</td>\n",
       "      <td>{'type': 'text/plain', 'language': None, 'base...</td>\n",
       "      <td>gid://art19-episode-locator/V0/RB0GUh28sKfRDnX...</td>\n",
       "      <td>False</td>\n",
       "      <td>Mon, 31 Jul 2023 08:00:00 -0000</td>\n",
       "      <td>(2023, 7, 31, 8, 0, 0, 0, 212, 0)</td>\n",
       "      <td>True</td>\n",
       "      <td>{'href': 'https://content.production.cdn.art19...</td>\n",
       "      <td>[{'term': 'SERIAL KILLER', 'scheme': 'http://w...</td>\n",
       "      <td>00:07:48</td>\n",
       "      <td>[{'type': 'audio/mpeg', 'length': '7488574', '...</td>\n",
       "      <td>NaN</td>\n",
       "    </tr>\n",
       "    <tr>\n",
       "      <th>0</th>\n",
       "      <td>Listen Now - Think Twice: Michael Jackson</td>\n",
       "      <td>{'type': 'text/plain', 'language': None, 'base...</td>\n",
       "      <td>&lt;p&gt;More than a decade since Michael Jackson’s ...</td>\n",
       "      <td>{'type': 'text/html', 'language': None, 'base'...</td>\n",
       "      <td>Listen Now - Think Twice: Michael Jackson</td>\n",
       "      <td>trailer</td>\n",
       "      <td>{'type': 'text/html', 'language': None, 'base'...</td>\n",
       "      <td>gid://art19-episode-locator/V0/RB0GUh28sKfRDnX...</td>\n",
       "      <td>False</td>\n",
       "      <td>Mon, 31 Jul 2023 08:00:00 -0000</td>\n",
       "      <td>(2023, 7, 31, 8, 0, 0, 0, 212, 0)</td>\n",
       "      <td>True</td>\n",
       "      <td>{'href': 'https://content.production.cdn.art19...</td>\n",
       "      <td>[{'term': 'SERIAL KILLER', 'scheme': 'http://w...</td>\n",
       "      <td>00:07:48</td>\n",
       "      <td>[{'type': 'audio/mpeg', 'length': '7488574', '...</td>\n",
       "      <td>NaN</td>\n",
       "    </tr>\n",
       "    <tr>\n",
       "      <th>1</th>\n",
       "      <td>Listen Now: Suspect \"Five Shots in the Dark\"</td>\n",
       "      <td>{'type': 'text/plain', 'language': None, 'base...</td>\n",
       "      <td>&lt;p&gt;Suspect is an investigative series about mi...</td>\n",
       "      <td>{'type': 'text/html', 'language': None, 'base'...</td>\n",
       "      <td>Listen Now: Suspect \"Five Shots in the Dark\"</td>\n",
       "      <td>trailer</td>\n",
       "      <td>{'type': 'text/plain', 'language': None, 'base...</td>\n",
       "      <td>gid://art19-episode-locator/V0/zOcPUHGtQrWg5FP...</td>\n",
       "      <td>False</td>\n",
       "      <td>Mon, 17 Jul 2023 08:00:00 -0000</td>\n",
       "      <td>(2023, 7, 17, 8, 0, 0, 0, 198, 0)</td>\n",
       "      <td>True</td>\n",
       "      <td>{'href': 'https://content.production.cdn.art19...</td>\n",
       "      <td>[{'term': 'serial killer', 'scheme': 'http://w...</td>\n",
       "      <td>00:06:02</td>\n",
       "      <td>[{'type': 'audio/mpeg', 'length': '5797093', '...</td>\n",
       "      <td>NaN</td>\n",
       "    </tr>\n",
       "    <tr>\n",
       "      <th>1</th>\n",
       "      <td>Listen Now: Suspect \"Five Shots in the Dark\"</td>\n",
       "      <td>{'type': 'text/plain', 'language': None, 'base...</td>\n",
       "      <td>&lt;p&gt;Suspect is an investigative series about mi...</td>\n",
       "      <td>{'type': 'text/html', 'language': None, 'base'...</td>\n",
       "      <td>Listen Now: Suspect \"Five Shots in the Dark\"</td>\n",
       "      <td>trailer</td>\n",
       "      <td>{'type': 'text/html', 'language': None, 'base'...</td>\n",
       "      <td>gid://art19-episode-locator/V0/zOcPUHGtQrWg5FP...</td>\n",
       "      <td>False</td>\n",
       "      <td>Mon, 17 Jul 2023 08:00:00 -0000</td>\n",
       "      <td>(2023, 7, 17, 8, 0, 0, 0, 198, 0)</td>\n",
       "      <td>True</td>\n",
       "      <td>{'href': 'https://content.production.cdn.art19...</td>\n",
       "      <td>[{'term': 'serial killer', 'scheme': 'http://w...</td>\n",
       "      <td>00:06:02</td>\n",
       "      <td>[{'type': 'audio/mpeg', 'length': '5797093', '...</td>\n",
       "      <td>NaN</td>\n",
       "    </tr>\n",
       "    <tr>\n",
       "      <th>2</th>\n",
       "      <td>Where to find Episodes 2-7 of The Apology Line</td>\n",
       "      <td>{'type': 'text/plain', 'language': None, 'base...</td>\n",
       "      <td>&lt;p&gt;The Apology Line has moved. You can listen ...</td>\n",
       "      <td>{'type': 'text/html', 'language': None, 'base'...</td>\n",
       "      <td>Where to find Episodes 2-7 of The Apology Line</td>\n",
       "      <td>bonus</td>\n",
       "      <td>{'type': 'text/plain', 'language': None, 'base...</td>\n",
       "      <td>gid://art19-episode-locator/V0/FZOLMXrfpw3yiFJ...</td>\n",
       "      <td>False</td>\n",
       "      <td>Mon, 03 Jul 2023 15:28:44 -0000</td>\n",
       "      <td>(2023, 7, 3, 15, 28, 44, 0, 184, 0)</td>\n",
       "      <td>True</td>\n",
       "      <td>{'href': 'https://content.production.cdn.art19...</td>\n",
       "      <td>[{'term': 'SERIAL KILLER', 'scheme': 'http://w...</td>\n",
       "      <td>00:00:51</td>\n",
       "      <td>[{'type': 'audio/mpeg', 'length': '827559', 'h...</td>\n",
       "      <td>NaN</td>\n",
       "    </tr>\n",
       "  </tbody>\n",
       "</table>\n",
       "</div>"
      ],
      "text/plain": [
       "                                            title  \\\n",
       "0       Listen Now - Think Twice: Michael Jackson   \n",
       "0       Listen Now - Think Twice: Michael Jackson   \n",
       "1    Listen Now: Suspect \"Five Shots in the Dark\"   \n",
       "1    Listen Now: Suspect \"Five Shots in the Dark\"   \n",
       "2  Where to find Episodes 2-7 of The Apology Line   \n",
       "\n",
       "                                        title_detail  \\\n",
       "0  {'type': 'text/plain', 'language': None, 'base...   \n",
       "0  {'type': 'text/plain', 'language': None, 'base...   \n",
       "1  {'type': 'text/plain', 'language': None, 'base...   \n",
       "1  {'type': 'text/plain', 'language': None, 'base...   \n",
       "2  {'type': 'text/plain', 'language': None, 'base...   \n",
       "\n",
       "                                             summary  \\\n",
       "0  <p>More than a decade since Michael Jackson’s ...   \n",
       "0  <p>More than a decade since Michael Jackson’s ...   \n",
       "1  <p>Suspect is an investigative series about mi...   \n",
       "1  <p>Suspect is an investigative series about mi...   \n",
       "2  <p>The Apology Line has moved. You can listen ...   \n",
       "\n",
       "                                      summary_detail  \\\n",
       "0  {'type': 'text/html', 'language': None, 'base'...   \n",
       "0  {'type': 'text/html', 'language': None, 'base'...   \n",
       "1  {'type': 'text/html', 'language': None, 'base'...   \n",
       "1  {'type': 'text/html', 'language': None, 'base'...   \n",
       "2  {'type': 'text/html', 'language': None, 'base'...   \n",
       "\n",
       "                                     itunes_title itunes_episodetype  \\\n",
       "0       Listen Now - Think Twice: Michael Jackson            trailer   \n",
       "0       Listen Now - Think Twice: Michael Jackson            trailer   \n",
       "1    Listen Now: Suspect \"Five Shots in the Dark\"            trailer   \n",
       "1    Listen Now: Suspect \"Five Shots in the Dark\"            trailer   \n",
       "2  Where to find Episodes 2-7 of The Apology Line              bonus   \n",
       "\n",
       "                                             content  \\\n",
       "0  {'type': 'text/plain', 'language': None, 'base...   \n",
       "0  {'type': 'text/html', 'language': None, 'base'...   \n",
       "1  {'type': 'text/plain', 'language': None, 'base...   \n",
       "1  {'type': 'text/html', 'language': None, 'base'...   \n",
       "2  {'type': 'text/plain', 'language': None, 'base...   \n",
       "\n",
       "                                                  id  guidislink  \\\n",
       "0  gid://art19-episode-locator/V0/RB0GUh28sKfRDnX...       False   \n",
       "0  gid://art19-episode-locator/V0/RB0GUh28sKfRDnX...       False   \n",
       "1  gid://art19-episode-locator/V0/zOcPUHGtQrWg5FP...       False   \n",
       "1  gid://art19-episode-locator/V0/zOcPUHGtQrWg5FP...       False   \n",
       "2  gid://art19-episode-locator/V0/FZOLMXrfpw3yiFJ...       False   \n",
       "\n",
       "                         published                     published_parsed  \\\n",
       "0  Mon, 31 Jul 2023 08:00:00 -0000    (2023, 7, 31, 8, 0, 0, 0, 212, 0)   \n",
       "0  Mon, 31 Jul 2023 08:00:00 -0000    (2023, 7, 31, 8, 0, 0, 0, 212, 0)   \n",
       "1  Mon, 17 Jul 2023 08:00:00 -0000    (2023, 7, 17, 8, 0, 0, 0, 198, 0)   \n",
       "1  Mon, 17 Jul 2023 08:00:00 -0000    (2023, 7, 17, 8, 0, 0, 0, 198, 0)   \n",
       "2  Mon, 03 Jul 2023 15:28:44 -0000  (2023, 7, 3, 15, 28, 44, 0, 184, 0)   \n",
       "\n",
       "   itunes_explicit                                              image  \\\n",
       "0             True  {'href': 'https://content.production.cdn.art19...   \n",
       "0             True  {'href': 'https://content.production.cdn.art19...   \n",
       "1             True  {'href': 'https://content.production.cdn.art19...   \n",
       "1             True  {'href': 'https://content.production.cdn.art19...   \n",
       "2             True  {'href': 'https://content.production.cdn.art19...   \n",
       "\n",
       "                                                tags itunes_duration  \\\n",
       "0  [{'term': 'SERIAL KILLER', 'scheme': 'http://w...        00:07:48   \n",
       "0  [{'term': 'SERIAL KILLER', 'scheme': 'http://w...        00:07:48   \n",
       "1  [{'term': 'serial killer', 'scheme': 'http://w...        00:06:02   \n",
       "1  [{'term': 'serial killer', 'scheme': 'http://w...        00:06:02   \n",
       "2  [{'term': 'SERIAL KILLER', 'scheme': 'http://w...        00:00:51   \n",
       "\n",
       "                                               links itunes_episode  \n",
       "0  [{'type': 'audio/mpeg', 'length': '7488574', '...            NaN  \n",
       "0  [{'type': 'audio/mpeg', 'length': '7488574', '...            NaN  \n",
       "1  [{'type': 'audio/mpeg', 'length': '5797093', '...            NaN  \n",
       "1  [{'type': 'audio/mpeg', 'length': '5797093', '...            NaN  \n",
       "2  [{'type': 'audio/mpeg', 'length': '827559', 'h...            NaN  "
      ]
     },
     "execution_count": 43,
     "metadata": {},
     "output_type": "execute_result"
    }
   ],
   "source": [
    "# A ver si podemos desenredarla un poco:\n",
    "\n",
    "entries.explode('content').head() # Meh, no mucho mejor pero dejémosla así"
   ]
  },
  {
   "cell_type": "markdown",
   "metadata": {},
   "source": [
    "### 10. Count the number of entries per author and sort them in descending order."
   ]
  },
  {
   "cell_type": "code",
   "execution_count": 47,
   "metadata": {},
   "outputs": [],
   "source": [
    "# No hay columna de autor en mis entries, pero si hubiera habría que hacer un group by, un count y listo"
   ]
  },
  {
   "cell_type": "markdown",
   "metadata": {},
   "source": [
    "### 11. Add a new column to the data frame that contains the length (number of characters) of each entry title. Return a data frame that contains the title, author, and title length of each entry in descending order (longest title length at the top)."
   ]
  },
  {
   "cell_type": "code",
   "execution_count": 49,
   "metadata": {},
   "outputs": [
    {
     "data": {
      "text/html": [
       "<div>\n",
       "<style scoped>\n",
       "    .dataframe tbody tr th:only-of-type {\n",
       "        vertical-align: middle;\n",
       "    }\n",
       "\n",
       "    .dataframe tbody tr th {\n",
       "        vertical-align: top;\n",
       "    }\n",
       "\n",
       "    .dataframe thead th {\n",
       "        text-align: right;\n",
       "    }\n",
       "</style>\n",
       "<table border=\"1\" class=\"dataframe\">\n",
       "  <thead>\n",
       "    <tr style=\"text-align: right;\">\n",
       "      <th></th>\n",
       "      <th>title</th>\n",
       "      <th>length</th>\n",
       "    </tr>\n",
       "  </thead>\n",
       "  <tbody>\n",
       "    <tr>\n",
       "      <th>2</th>\n",
       "      <td>Where to find Episodes 2-7 of The Apology Line</td>\n",
       "      <td>46</td>\n",
       "    </tr>\n",
       "    <tr>\n",
       "      <th>1</th>\n",
       "      <td>Listen Now: Suspect \"Five Shots in the Dark\"</td>\n",
       "      <td>44</td>\n",
       "    </tr>\n",
       "    <tr>\n",
       "      <th>0</th>\n",
       "      <td>Listen Now - Think Twice: Michael Jackson</td>\n",
       "      <td>41</td>\n",
       "    </tr>\n",
       "    <tr>\n",
       "      <th>3</th>\n",
       "      <td>Introducing: The Generation Why</td>\n",
       "      <td>31</td>\n",
       "    </tr>\n",
       "    <tr>\n",
       "      <th>5</th>\n",
       "      <td>Introducing: The Apology Line</td>\n",
       "      <td>29</td>\n",
       "    </tr>\n",
       "  </tbody>\n",
       "</table>\n",
       "</div>"
      ],
      "text/plain": [
       "                                            title  length\n",
       "2  Where to find Episodes 2-7 of The Apology Line      46\n",
       "1    Listen Now: Suspect \"Five Shots in the Dark\"      44\n",
       "0       Listen Now - Think Twice: Michael Jackson      41\n",
       "3                 Introducing: The Generation Why      31\n",
       "5                   Introducing: The Apology Line      29"
      ]
     },
     "execution_count": 49,
     "metadata": {},
     "output_type": "execute_result"
    }
   ],
   "source": [
    "entries['length'] = [len(i) for i in entries.title]\n",
    "df = entries[['title','length']].sort_values(by = 'length', ascending = False)\n",
    "\n",
    "df.head()"
   ]
  },
  {
   "cell_type": "markdown",
   "metadata": {},
   "source": [
    "### 12. Create a list of entry titles whose summary includes the phrase \"machine learning.\""
   ]
  },
  {
   "cell_type": "code",
   "execution_count": 50,
   "metadata": {},
   "outputs": [],
   "source": [
    "# He elegido otro RSS y no va de machine learning. \n",
    "# Bastaría con una lista comprimida bajo la condicion if 'machine learnign' in i for i in entries['title']"
   ]
  }
 ],
 "metadata": {
  "kernelspec": {
   "display_name": "Python 3 (ipykernel)",
   "language": "python",
   "name": "python3"
  },
  "language_info": {
   "codemirror_mode": {
    "name": "ipython",
    "version": 3
   },
   "file_extension": ".py",
   "mimetype": "text/x-python",
   "name": "python",
   "nbconvert_exporter": "python",
   "pygments_lexer": "ipython3",
   "version": "3.10.9"
  }
 },
 "nbformat": 4,
 "nbformat_minor": 2
}
