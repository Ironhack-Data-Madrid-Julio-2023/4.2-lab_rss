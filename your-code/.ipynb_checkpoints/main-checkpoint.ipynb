{
 "cells": [
  {
   "cell_type": "markdown",
   "metadata": {},
   "source": [
    "# Working with RSS Feeds Lab\n",
    "\n",
    "Complete the following set of exercises to solidify your knowledge of parsing RSS feeds and extracting information from them."
   ]
  },
  {
   "cell_type": "code",
   "execution_count": 2,
   "metadata": {},
   "outputs": [
    {
     "name": "stdout",
     "output_type": "stream",
     "text": [
      "Collecting feedparser\n",
      "  Downloading feedparser-6.0.10-py3-none-any.whl (81 kB)\n",
      "     ---------------------------------------- 81.1/81.1 kB 2.3 MB/s eta 0:00:00\n",
      "Collecting sgmllib3k\n",
      "  Downloading sgmllib3k-1.0.0.tar.gz (5.8 kB)\n",
      "  Preparing metadata (setup.py): started\n",
      "  Preparing metadata (setup.py): finished with status 'done'\n",
      "Building wheels for collected packages: sgmllib3k\n",
      "  Building wheel for sgmllib3k (setup.py): started\n",
      "  Building wheel for sgmllib3k (setup.py): finished with status 'done'\n",
      "  Created wheel for sgmllib3k: filename=sgmllib3k-1.0.0-py3-none-any.whl size=6061 sha256=423a2fcf7d6f37b5bc403682e3d4a8ed03dd61026bd2de5f0fc604f304356151\n",
      "  Stored in directory: c:\\users\\demia\\appdata\\local\\pip\\cache\\wheels\\3b\\24\\68\\f82c1fe16fe6cc7c6f9f67fe4bbf2a4ce527dea6b14a4b34ee\n",
      "Successfully built sgmllib3k\n",
      "Installing collected packages: sgmllib3k, feedparser\n",
      "Successfully installed feedparser-6.0.10 sgmllib3k-1.0.0\n"
     ]
    }
   ],
   "source": [
    "!pip install feedparser"
   ]
  },
  {
   "cell_type": "code",
   "execution_count": 4,
   "metadata": {
    "scrolled": true
   },
   "outputs": [],
   "source": [
    "import feedparser"
   ]
  },
  {
   "cell_type": "markdown",
   "metadata": {},
   "source": [
    "### 1. Use feedparser to parse the following RSS feed URL."
   ]
  },
  {
   "cell_type": "code",
   "execution_count": 5,
   "metadata": {},
   "outputs": [],
   "source": [
    "life = feedparser.parse('https://lifehacker.com/rss')"
   ]
  },
  {
   "cell_type": "markdown",
   "metadata": {},
   "source": [
    "### 2. Obtain a list of components (keys) that are available for this feed."
   ]
  },
  {
   "cell_type": "code",
   "execution_count": 6,
   "metadata": {},
   "outputs": [
    {
     "data": {
      "text/plain": [
       "dict_keys(['bozo', 'entries', 'feed', 'headers', 'href', 'status', 'encoding', 'version', 'namespaces'])"
      ]
     },
     "execution_count": 6,
     "metadata": {},
     "output_type": "execute_result"
    }
   ],
   "source": [
    "life.keys()"
   ]
  },
  {
   "cell_type": "markdown",
   "metadata": {},
   "source": [
    "### 3. Obtain a list of components (keys) that are available for the *feed* component of this RSS feed."
   ]
  },
  {
   "cell_type": "code",
   "execution_count": 7,
   "metadata": {},
   "outputs": [
    {
     "data": {
      "text/plain": [
       "dict_keys(['title', 'title_detail', 'links', 'link', 'subtitle', 'subtitle_detail', 'language'])"
      ]
     },
     "execution_count": 7,
     "metadata": {},
     "output_type": "execute_result"
    }
   ],
   "source": [
    "life.feed.keys()"
   ]
  },
  {
   "cell_type": "markdown",
   "metadata": {},
   "source": [
    "### 4. Extract and print the feed title, subtitle, author, and link."
   ]
  },
  {
   "cell_type": "code",
   "execution_count": 8,
   "metadata": {},
   "outputs": [
    {
     "name": "stdout",
     "output_type": "stream",
     "text": [
      "Lifehacker\n",
      " \n",
      "Feed Title: Lifehacker\n"
     ]
    }
   ],
   "source": [
    "print (life.feed.title)\n",
    "print(' ')\n",
    "title = life.feed.get('title')\n",
    "print(\"Feed Title:\", title)"
   ]
  },
  {
   "cell_type": "code",
   "execution_count": 10,
   "metadata": {},
   "outputs": [
    {
     "name": "stdout",
     "output_type": "stream",
     "text": [
      "Lifehacker\n",
      " \n",
      "Do everything better\n",
      " \n",
      "{'type': 'text/plain', 'language': None, 'base': 'https://lifehacker.com/rss', 'value': 'Lifehacker'}\n",
      " \n",
      "https://lifehacker.com\n",
      " \n"
     ]
    }
   ],
   "source": [
    "print (life.feed.title)\n",
    "print(' ')\n",
    "print (life.feed.subtitle)\n",
    "print(' ')\n",
    "print (life.feed.title_detail)\n",
    "print(' ')\n",
    "print (life.feed.link)\n",
    "print(' ')"
   ]
  },
  {
   "cell_type": "markdown",
   "metadata": {},
   "source": [
    "### 5. Count the number of entries that are contained in this RSS feed."
   ]
  },
  {
   "cell_type": "code",
   "execution_count": 11,
   "metadata": {},
   "outputs": [
    {
     "name": "stdout",
     "output_type": "stream",
     "text": [
      "51\n"
     ]
    }
   ],
   "source": [
    "entries_count = len(life.entries)\n",
    "print(entries_count)"
   ]
  },
  {
   "cell_type": "markdown",
   "metadata": {},
   "source": [
    "### 6. Obtain a list of components (keys) available for an entry.\n",
    "\n",
    "*Hint: Remember to index first before requesting the keys*"
   ]
  },
  {
   "cell_type": "code",
   "execution_count": 12,
   "metadata": {},
   "outputs": [
    {
     "data": {
      "text/plain": [
       "dict_keys(['title', 'title_detail', 'links', 'link', 'summary', 'summary_detail', 'tags', 'published', 'published_parsed', 'id', 'guidislink', 'authors', 'author', 'author_detail', 'media_thumbnail', 'href'])"
      ]
     },
     "execution_count": 12,
     "metadata": {},
     "output_type": "execute_result"
    }
   ],
   "source": [
    "life.entries[0].keys()"
   ]
  },
  {
   "cell_type": "code",
   "execution_count": 13,
   "metadata": {},
   "outputs": [],
   "source": [
    "entry_index = 0  # Replace with the index of the entry you want to retrieve\n",
    "entry = life.entries[entry_index]"
   ]
  },
  {
   "cell_type": "code",
   "execution_count": 14,
   "metadata": {},
   "outputs": [
    {
     "name": "stdout",
     "output_type": "stream",
     "text": [
      "['title', 'title_detail', 'links', 'link', 'summary', 'summary_detail', 'tags', 'published', 'published_parsed', 'id', 'guidislink', 'authors', 'author', 'author_detail', 'media_thumbnail', 'href']\n"
     ]
    }
   ],
   "source": [
    "components = entry.keys()\n",
    "print(list(components))"
   ]
  },
  {
   "cell_type": "markdown",
   "metadata": {},
   "source": [
    "### 7. Extract a list of entry titles."
   ]
  },
  {
   "cell_type": "code",
   "execution_count": 15,
   "metadata": {},
   "outputs": [
    {
     "name": "stdout",
     "output_type": "stream",
     "text": [
      "['Just Go Buy the Weird Padded Cycling Shorts', 'People Are Deadheading Their Flowers All Wrong', 'Turn a Peach Into a Sweet and Summery Pasta Sauce', '10 Celebrity Gossip Podcasts That Spill the Tea', 'When to Be Honest With Your Partner, and When a White Lie is OK', 'Turn Your Overcooked Steak Into Something Better', \"Ask Yourself These Questions Before Saying 'No' at Work\", 'Why You Need to Check Local Laws Before Booking Your Next Airbnb', \"What's New on Prime Video and Freevee in August 2023\", 'How to Return Nearly Anything Without a Receipt', 'This Apple Pen Alternative Is $36 Right Now', \"What's New on Max in August 2023\", 'Make a Sweeter Caprese Salad With Peaches and Plums', 'This Costco Membership Comes With a $45 Gift Card and $40 Off One Purchase', 'Make Summer Cooking Tolerable With These Tools', 'Why the Hell Did We Ever Stop Wearing Sweatbands?', 'Trader Joe’s Falafel Might Contain Rocks, Too', 'Save Money With These Wifi-Enabled Smart Watering Devices', 'Keep Your Dog Cool With These DIY Frozen Treats', 'This Refurbished MacBook Air Is $300 Right Now', 'How AI Is Used to Scam You (and What You Can Do About It)', 'When You Ask AI to Write an Obituary', 'The Ethics of Making (and Publishing) AI Art', 'Why Our Laws and Regulations Aren’t Ready for AI', \"OpenAI’s 'Pay As You Go' Is the Best Way to Use ChatGPT\", 'Four Ways to Build AI Tools Without Knowing How to Code', \"When It’s OK to Use AI at Work (and When It's Not)\", '10 Fictional AI, Ranked by How Likely They Are to Kill Us All', \"A Beginner's Guide to Using ChatGPT Plugins\", '11 AI-Powered Apps That Are Actually Useful', 'Advice I Wish Someone Had Given Me After Graduating High School', \"How to Tell When an Artificial Intelligence Is 'Hallucinating'\", 'The War Between ChatGPT, Bing Chat, and Google Bard', 'Your Ultimate AI Glossary', 'You Can Try Auto-GPT, the Next Generation of ChatGPT, Right Now', 'From 1950 to Today: A Brief History of AI (so Far)', 'The Difference Between Unplugging and Recharging (and Why It Matters)', 'Avoid These Mistakes When Planting Trees in Your Yard', 'Here’s When to Replace All Four Tires After Getting a Flat', 'You Can Download Instructions for More Than 6,800 LEGO Kits for Free', 'The Easiest Ways to Keep Your Garage Cool During the Summer', 'These Are the Best Cheap Hotel Chains in the U.S., According to Guests', 'How to Survive the Summer When Summer Makes You Miserable', 'This HD Portable Laptop Monitor Is 40% Off', 'Where Have All the Barbie Video Games Gone?', 'The Most Clever Google Maps Settings Everyone Should Be Using', 'Turn a Single Peach Into an Air Fried Cobbler for One', 'Why Kids Stop Reading for Fun by Age 9 (and What to Do About It)', 'Use Flashfood to Buy Discounted Groceries Before They Expire', 'Four Minute Books Is $40 Right Now', 'Do These Things to Make Your Yard Fire-Resistant']\n"
     ]
    }
   ],
   "source": [
    "titles = [life.entries[i].title for i in range(len(life.entries))]\n",
    "print(titles)"
   ]
  },
  {
   "cell_type": "markdown",
   "metadata": {},
   "source": [
    "### 8. Calculate the percentage of \"Four short links\" entry titles."
   ]
  },
  {
   "cell_type": "code",
   "execution_count": 16,
   "metadata": {},
   "outputs": [
    {
     "name": "stdout",
     "output_type": "stream",
     "text": [
      "Percentage of 'summer' or 'Summer' entry titles: 7.84%\n"
     ]
    }
   ],
   "source": [
    "total_titles = len(life.entries)\n",
    "\n",
    "# Count number of entry titles containing \"summer\" or \"Summer\"\n",
    "summer_count = sum('summer' in entry['title'].lower() or 'Summer' in entry['title'] for entry in life.entries)\n",
    "\n",
    "# Calculate the percentage of \"summer\" or \"Summer\" entry titles\n",
    "percentage = (summer_count / total_titles) * 100\n",
    "\n",
    "print(f\"Percentage of 'summer' or 'Summer' entry titles: {percentage:.2f}%\")"
   ]
  },
  {
   "cell_type": "markdown",
   "metadata": {},
   "source": [
    "### 9. Create a Pandas data frame from the feed's entries."
   ]
  },
  {
   "cell_type": "code",
   "execution_count": 17,
   "metadata": {},
   "outputs": [
    {
     "data": {
      "text/html": [
       "<div>\n",
       "<style scoped>\n",
       "    .dataframe tbody tr th:only-of-type {\n",
       "        vertical-align: middle;\n",
       "    }\n",
       "\n",
       "    .dataframe tbody tr th {\n",
       "        vertical-align: top;\n",
       "    }\n",
       "\n",
       "    .dataframe thead th {\n",
       "        text-align: right;\n",
       "    }\n",
       "</style>\n",
       "<table border=\"1\" class=\"dataframe\">\n",
       "  <thead>\n",
       "    <tr style=\"text-align: right;\">\n",
       "      <th></th>\n",
       "      <th>title</th>\n",
       "      <th>title_detail</th>\n",
       "      <th>links</th>\n",
       "      <th>link</th>\n",
       "      <th>summary</th>\n",
       "      <th>summary_detail</th>\n",
       "      <th>tags</th>\n",
       "      <th>published</th>\n",
       "      <th>published_parsed</th>\n",
       "      <th>id</th>\n",
       "      <th>guidislink</th>\n",
       "      <th>authors</th>\n",
       "      <th>author</th>\n",
       "      <th>author_detail</th>\n",
       "      <th>media_thumbnail</th>\n",
       "      <th>href</th>\n",
       "    </tr>\n",
       "  </thead>\n",
       "  <tbody>\n",
       "    <tr>\n",
       "      <th>0</th>\n",
       "      <td>Just Go Buy the Weird Padded Cycling Shorts</td>\n",
       "      <td>{'type': 'text/plain', 'language': None, 'base...</td>\n",
       "      <td>[{'rel': 'alternate', 'type': 'text/html', 'hr...</td>\n",
       "      <td>https://lifehacker.com/just-go-buy-the-weird-p...</td>\n",
       "      <td>&lt;img class=\"type:primaryImage\" src=\"https://i....</td>\n",
       "      <td>{'type': 'text/html', 'language': None, 'base'...</td>\n",
       "      <td>[{'term': 'cycling', 'scheme': None, 'label': ...</td>\n",
       "      <td>Tue, 01 Aug 2023 15:00:00 +0000</td>\n",
       "      <td>(2023, 8, 1, 15, 0, 0, 1, 213, 0)</td>\n",
       "      <td>1850688084</td>\n",
       "      <td>False</td>\n",
       "      <td>[{'name': 'Beth Skwarecki'}]</td>\n",
       "      <td>Beth Skwarecki</td>\n",
       "      <td>{'name': 'Beth Skwarecki'}</td>\n",
       "      <td>[{'url': 'https://i.kinja-img.com/gawker-media...</td>\n",
       "      <td></td>\n",
       "    </tr>\n",
       "    <tr>\n",
       "      <th>1</th>\n",
       "      <td>People Are Deadheading Their Flowers All Wrong</td>\n",
       "      <td>{'type': 'text/plain', 'language': None, 'base...</td>\n",
       "      <td>[{'rel': 'alternate', 'type': 'text/html', 'hr...</td>\n",
       "      <td>https://lifehacker.com/people-are-deadheading-...</td>\n",
       "      <td>&lt;img class=\"type:primaryImage\" src=\"https://i....</td>\n",
       "      <td>{'type': 'text/html', 'language': None, 'base'...</td>\n",
       "      <td>[{'term': 'deadheading', 'scheme': None, 'labe...</td>\n",
       "      <td>Tue, 01 Aug 2023 14:30:00 +0000</td>\n",
       "      <td>(2023, 8, 1, 14, 30, 0, 1, 213, 0)</td>\n",
       "      <td>1850690797</td>\n",
       "      <td>False</td>\n",
       "      <td>[{'name': 'Amanda Blum'}]</td>\n",
       "      <td>Amanda Blum</td>\n",
       "      <td>{'name': 'Amanda Blum'}</td>\n",
       "      <td>[{'url': 'https://i.kinja-img.com/gawker-media...</td>\n",
       "      <td></td>\n",
       "    </tr>\n",
       "    <tr>\n",
       "      <th>2</th>\n",
       "      <td>Turn a Peach Into a Sweet and Summery Pasta Sauce</td>\n",
       "      <td>{'type': 'text/plain', 'language': None, 'base...</td>\n",
       "      <td>[{'rel': 'alternate', 'type': 'text/html', 'hr...</td>\n",
       "      <td>https://lifehacker.com/turn-a-peach-into-a-swe...</td>\n",
       "      <td>&lt;img class=\"type:primaryImage\" src=\"https://i....</td>\n",
       "      <td>{'type': 'text/html', 'language': None, 'base'...</td>\n",
       "      <td>[{'term': 'pasta', 'scheme': None, 'label': No...</td>\n",
       "      <td>Tue, 01 Aug 2023 14:00:00 +0000</td>\n",
       "      <td>(2023, 8, 1, 14, 0, 0, 1, 213, 0)</td>\n",
       "      <td>1850693637</td>\n",
       "      <td>False</td>\n",
       "      <td>[{'name': 'Claire Lower'}]</td>\n",
       "      <td>Claire Lower</td>\n",
       "      <td>{'name': 'Claire Lower'}</td>\n",
       "      <td>[{'url': 'https://i.kinja-img.com/gawker-media...</td>\n",
       "      <td></td>\n",
       "    </tr>\n",
       "    <tr>\n",
       "      <th>3</th>\n",
       "      <td>10 Celebrity Gossip Podcasts That Spill the Tea</td>\n",
       "      <td>{'type': 'text/plain', 'language': None, 'base...</td>\n",
       "      <td>[{'rel': 'alternate', 'type': 'text/html', 'hr...</td>\n",
       "      <td>https://lifehacker.com/best-celebrity-gossip-p...</td>\n",
       "      <td>&lt;img class=\"type:primaryImage\" src=\"https://i....</td>\n",
       "      <td>{'type': 'text/html', 'language': None, 'base'...</td>\n",
       "      <td>[{'term': 'celebrity', 'scheme': None, 'label'...</td>\n",
       "      <td>Tue, 01 Aug 2023 13:30:00 +0000</td>\n",
       "      <td>(2023, 8, 1, 13, 30, 0, 1, 213, 0)</td>\n",
       "      <td>1850689823</td>\n",
       "      <td>False</td>\n",
       "      <td>[{'name': 'Lauren Passell'}]</td>\n",
       "      <td>Lauren Passell</td>\n",
       "      <td>{'name': 'Lauren Passell'}</td>\n",
       "      <td>[{'url': 'https://i.kinja-img.com/gawker-media...</td>\n",
       "      <td></td>\n",
       "    </tr>\n",
       "    <tr>\n",
       "      <th>4</th>\n",
       "      <td>When to Be Honest With Your Partner, and When ...</td>\n",
       "      <td>{'type': 'text/plain', 'language': None, 'base...</td>\n",
       "      <td>[{'rel': 'alternate', 'type': 'text/html', 'hr...</td>\n",
       "      <td>https://lifehacker.com/when-to-be-honest-with-...</td>\n",
       "      <td>&lt;img class=\"type:primaryImage\" src=\"https://i....</td>\n",
       "      <td>{'type': 'text/html', 'language': None, 'base'...</td>\n",
       "      <td>[{'term': 'emotional safety', 'scheme': None, ...</td>\n",
       "      <td>Tue, 01 Aug 2023 13:00:00 +0000</td>\n",
       "      <td>(2023, 8, 1, 13, 0, 0, 1, 213, 0)</td>\n",
       "      <td>1850687382</td>\n",
       "      <td>False</td>\n",
       "      <td>[{'name': 'Brianne Hogan'}]</td>\n",
       "      <td>Brianne Hogan</td>\n",
       "      <td>{'name': 'Brianne Hogan'}</td>\n",
       "      <td>[{'url': 'https://i.kinja-img.com/gawker-media...</td>\n",
       "      <td></td>\n",
       "    </tr>\n",
       "  </tbody>\n",
       "</table>\n",
       "</div>"
      ],
      "text/plain": [
       "                                               title  \\\n",
       "0        Just Go Buy the Weird Padded Cycling Shorts   \n",
       "1     People Are Deadheading Their Flowers All Wrong   \n",
       "2  Turn a Peach Into a Sweet and Summery Pasta Sauce   \n",
       "3    10 Celebrity Gossip Podcasts That Spill the Tea   \n",
       "4  When to Be Honest With Your Partner, and When ...   \n",
       "\n",
       "                                        title_detail  \\\n",
       "0  {'type': 'text/plain', 'language': None, 'base...   \n",
       "1  {'type': 'text/plain', 'language': None, 'base...   \n",
       "2  {'type': 'text/plain', 'language': None, 'base...   \n",
       "3  {'type': 'text/plain', 'language': None, 'base...   \n",
       "4  {'type': 'text/plain', 'language': None, 'base...   \n",
       "\n",
       "                                               links  \\\n",
       "0  [{'rel': 'alternate', 'type': 'text/html', 'hr...   \n",
       "1  [{'rel': 'alternate', 'type': 'text/html', 'hr...   \n",
       "2  [{'rel': 'alternate', 'type': 'text/html', 'hr...   \n",
       "3  [{'rel': 'alternate', 'type': 'text/html', 'hr...   \n",
       "4  [{'rel': 'alternate', 'type': 'text/html', 'hr...   \n",
       "\n",
       "                                                link  \\\n",
       "0  https://lifehacker.com/just-go-buy-the-weird-p...   \n",
       "1  https://lifehacker.com/people-are-deadheading-...   \n",
       "2  https://lifehacker.com/turn-a-peach-into-a-swe...   \n",
       "3  https://lifehacker.com/best-celebrity-gossip-p...   \n",
       "4  https://lifehacker.com/when-to-be-honest-with-...   \n",
       "\n",
       "                                             summary  \\\n",
       "0  <img class=\"type:primaryImage\" src=\"https://i....   \n",
       "1  <img class=\"type:primaryImage\" src=\"https://i....   \n",
       "2  <img class=\"type:primaryImage\" src=\"https://i....   \n",
       "3  <img class=\"type:primaryImage\" src=\"https://i....   \n",
       "4  <img class=\"type:primaryImage\" src=\"https://i....   \n",
       "\n",
       "                                      summary_detail  \\\n",
       "0  {'type': 'text/html', 'language': None, 'base'...   \n",
       "1  {'type': 'text/html', 'language': None, 'base'...   \n",
       "2  {'type': 'text/html', 'language': None, 'base'...   \n",
       "3  {'type': 'text/html', 'language': None, 'base'...   \n",
       "4  {'type': 'text/html', 'language': None, 'base'...   \n",
       "\n",
       "                                                tags  \\\n",
       "0  [{'term': 'cycling', 'scheme': None, 'label': ...   \n",
       "1  [{'term': 'deadheading', 'scheme': None, 'labe...   \n",
       "2  [{'term': 'pasta', 'scheme': None, 'label': No...   \n",
       "3  [{'term': 'celebrity', 'scheme': None, 'label'...   \n",
       "4  [{'term': 'emotional safety', 'scheme': None, ...   \n",
       "\n",
       "                         published                    published_parsed  \\\n",
       "0  Tue, 01 Aug 2023 15:00:00 +0000   (2023, 8, 1, 15, 0, 0, 1, 213, 0)   \n",
       "1  Tue, 01 Aug 2023 14:30:00 +0000  (2023, 8, 1, 14, 30, 0, 1, 213, 0)   \n",
       "2  Tue, 01 Aug 2023 14:00:00 +0000   (2023, 8, 1, 14, 0, 0, 1, 213, 0)   \n",
       "3  Tue, 01 Aug 2023 13:30:00 +0000  (2023, 8, 1, 13, 30, 0, 1, 213, 0)   \n",
       "4  Tue, 01 Aug 2023 13:00:00 +0000   (2023, 8, 1, 13, 0, 0, 1, 213, 0)   \n",
       "\n",
       "           id  guidislink                       authors          author  \\\n",
       "0  1850688084       False  [{'name': 'Beth Skwarecki'}]  Beth Skwarecki   \n",
       "1  1850690797       False     [{'name': 'Amanda Blum'}]     Amanda Blum   \n",
       "2  1850693637       False    [{'name': 'Claire Lower'}]    Claire Lower   \n",
       "3  1850689823       False  [{'name': 'Lauren Passell'}]  Lauren Passell   \n",
       "4  1850687382       False   [{'name': 'Brianne Hogan'}]   Brianne Hogan   \n",
       "\n",
       "                author_detail  \\\n",
       "0  {'name': 'Beth Skwarecki'}   \n",
       "1     {'name': 'Amanda Blum'}   \n",
       "2    {'name': 'Claire Lower'}   \n",
       "3  {'name': 'Lauren Passell'}   \n",
       "4   {'name': 'Brianne Hogan'}   \n",
       "\n",
       "                                     media_thumbnail href  \n",
       "0  [{'url': 'https://i.kinja-img.com/gawker-media...       \n",
       "1  [{'url': 'https://i.kinja-img.com/gawker-media...       \n",
       "2  [{'url': 'https://i.kinja-img.com/gawker-media...       \n",
       "3  [{'url': 'https://i.kinja-img.com/gawker-media...       \n",
       "4  [{'url': 'https://i.kinja-img.com/gawker-media...       "
      ]
     },
     "execution_count": 17,
     "metadata": {},
     "output_type": "execute_result"
    }
   ],
   "source": [
    "import pandas as pd\n",
    "\n",
    "data = pd.DataFrame(life.entries)\n",
    "data.head()"
   ]
  },
  {
   "cell_type": "code",
   "execution_count": null,
   "metadata": {},
   "outputs": [],
   "source": []
  },
  {
   "cell_type": "markdown",
   "metadata": {},
   "source": [
    "### 10. Count the number of entries per author and sort them in descending order."
   ]
  },
  {
   "cell_type": "code",
   "execution_count": 18,
   "metadata": {},
   "outputs": [
    {
     "data": {
      "text/html": [
       "<div>\n",
       "<style scoped>\n",
       "    .dataframe tbody tr th:only-of-type {\n",
       "        vertical-align: middle;\n",
       "    }\n",
       "\n",
       "    .dataframe tbody tr th {\n",
       "        vertical-align: top;\n",
       "    }\n",
       "\n",
       "    .dataframe thead th {\n",
       "        text-align: right;\n",
       "    }\n",
       "</style>\n",
       "<table border=\"1\" class=\"dataframe\">\n",
       "  <thead>\n",
       "    <tr style=\"text-align: right;\">\n",
       "      <th></th>\n",
       "      <th>author</th>\n",
       "      <th>entries</th>\n",
       "    </tr>\n",
       "  </thead>\n",
       "  <tbody>\n",
       "    <tr>\n",
       "      <th>11</th>\n",
       "      <td>Jake Peterson</td>\n",
       "      <td>7</td>\n",
       "    </tr>\n",
       "    <tr>\n",
       "      <th>8</th>\n",
       "      <td>Elizabeth Yuko</td>\n",
       "      <td>6</td>\n",
       "    </tr>\n",
       "    <tr>\n",
       "      <th>12</th>\n",
       "      <td>Jessica Kanzler</td>\n",
       "      <td>4</td>\n",
       "    </tr>\n",
       "    <tr>\n",
       "      <th>21</th>\n",
       "      <td>Stephen Johnson</td>\n",
       "      <td>3</td>\n",
       "    </tr>\n",
       "    <tr>\n",
       "      <th>6</th>\n",
       "      <td>Claire Lower</td>\n",
       "      <td>3</td>\n",
       "    </tr>\n",
       "    <tr>\n",
       "      <th>7</th>\n",
       "      <td>Daniel Oropeza</td>\n",
       "      <td>3</td>\n",
       "    </tr>\n",
       "    <tr>\n",
       "      <th>1</th>\n",
       "      <td>Amanda Blum</td>\n",
       "      <td>3</td>\n",
       "    </tr>\n",
       "    <tr>\n",
       "      <th>3</th>\n",
       "      <td>Beth Skwarecki</td>\n",
       "      <td>2</td>\n",
       "    </tr>\n",
       "    <tr>\n",
       "      <th>4</th>\n",
       "      <td>Brendan Hesse</td>\n",
       "      <td>2</td>\n",
       "    </tr>\n",
       "    <tr>\n",
       "      <th>19</th>\n",
       "      <td>Pranay Parab</td>\n",
       "      <td>2</td>\n",
       "    </tr>\n",
       "    <tr>\n",
       "      <th>13</th>\n",
       "      <td>Joel Cunningham</td>\n",
       "      <td>2</td>\n",
       "    </tr>\n",
       "    <tr>\n",
       "      <th>14</th>\n",
       "      <td>Khamosh Pathak</td>\n",
       "      <td>2</td>\n",
       "    </tr>\n",
       "    <tr>\n",
       "      <th>17</th>\n",
       "      <td>Lindsey Ellefson</td>\n",
       "      <td>1</td>\n",
       "    </tr>\n",
       "    <tr>\n",
       "      <th>22</th>\n",
       "      <td>Thorin Klosowski</td>\n",
       "      <td>1</td>\n",
       "    </tr>\n",
       "    <tr>\n",
       "      <th>20</th>\n",
       "      <td>Ross Johnson</td>\n",
       "      <td>1</td>\n",
       "    </tr>\n",
       "    <tr>\n",
       "      <th>18</th>\n",
       "      <td>Michelle Woo</td>\n",
       "      <td>1</td>\n",
       "    </tr>\n",
       "    <tr>\n",
       "      <th>0</th>\n",
       "      <td>Allie Chanthorn Reinmann</td>\n",
       "      <td>1</td>\n",
       "    </tr>\n",
       "    <tr>\n",
       "      <th>16</th>\n",
       "      <td>Leigh Anderson</td>\n",
       "      <td>1</td>\n",
       "    </tr>\n",
       "    <tr>\n",
       "      <th>15</th>\n",
       "      <td>Lauren Passell</td>\n",
       "      <td>1</td>\n",
       "    </tr>\n",
       "    <tr>\n",
       "      <th>10</th>\n",
       "      <td>Heather Yamada-Hosley</td>\n",
       "      <td>1</td>\n",
       "    </tr>\n",
       "    <tr>\n",
       "      <th>9</th>\n",
       "      <td>Emily Long</td>\n",
       "      <td>1</td>\n",
       "    </tr>\n",
       "    <tr>\n",
       "      <th>5</th>\n",
       "      <td>Brianne Hogan</td>\n",
       "      <td>1</td>\n",
       "    </tr>\n",
       "    <tr>\n",
       "      <th>2</th>\n",
       "      <td>Becca Lewis</td>\n",
       "      <td>1</td>\n",
       "    </tr>\n",
       "    <tr>\n",
       "      <th>23</th>\n",
       "      <td>Whitson Gordon</td>\n",
       "      <td>1</td>\n",
       "    </tr>\n",
       "  </tbody>\n",
       "</table>\n",
       "</div>"
      ],
      "text/plain": [
       "                      author  entries\n",
       "11             Jake Peterson        7\n",
       "8             Elizabeth Yuko        6\n",
       "12           Jessica Kanzler        4\n",
       "21           Stephen Johnson        3\n",
       "6               Claire Lower        3\n",
       "7             Daniel Oropeza        3\n",
       "1                Amanda Blum        3\n",
       "3             Beth Skwarecki        2\n",
       "4              Brendan Hesse        2\n",
       "19              Pranay Parab        2\n",
       "13           Joel Cunningham        2\n",
       "14            Khamosh Pathak        2\n",
       "17          Lindsey Ellefson        1\n",
       "22          Thorin Klosowski        1\n",
       "20              Ross Johnson        1\n",
       "18              Michelle Woo        1\n",
       "0   Allie Chanthorn Reinmann        1\n",
       "16            Leigh Anderson        1\n",
       "15            Lauren Passell        1\n",
       "10     Heather Yamada-Hosley        1\n",
       "9                 Emily Long        1\n",
       "5              Brianne Hogan        1\n",
       "2                Becca Lewis        1\n",
       "23            Whitson Gordon        1"
      ]
     },
     "execution_count": 18,
     "metadata": {},
     "output_type": "execute_result"
    }
   ],
   "source": [
    "authors = data.groupby('author', as_index=False).agg({'title':'count'})\n",
    "authors.columns = ['author', 'entries']\n",
    "authors.sort_values('entries', ascending=False)"
   ]
  },
  {
   "cell_type": "markdown",
   "metadata": {},
   "source": [
    "### 11. Add a new column to the data frame that contains the length (number of characters) of each entry title. Return a data frame that contains the title, author, and title length of each entry in descending order (longest title length at the top)."
   ]
  },
  {
   "cell_type": "code",
   "execution_count": 19,
   "metadata": {},
   "outputs": [
    {
     "data": {
      "text/html": [
       "<div>\n",
       "<style scoped>\n",
       "    .dataframe tbody tr th:only-of-type {\n",
       "        vertical-align: middle;\n",
       "    }\n",
       "\n",
       "    .dataframe tbody tr th {\n",
       "        vertical-align: top;\n",
       "    }\n",
       "\n",
       "    .dataframe thead th {\n",
       "        text-align: right;\n",
       "    }\n",
       "</style>\n",
       "<table border=\"1\" class=\"dataframe\">\n",
       "  <thead>\n",
       "    <tr style=\"text-align: right;\">\n",
       "      <th></th>\n",
       "      <th>title</th>\n",
       "      <th>author</th>\n",
       "      <th>title_length</th>\n",
       "    </tr>\n",
       "  </thead>\n",
       "  <tbody>\n",
       "    <tr>\n",
       "      <th>13</th>\n",
       "      <td>This Costco Membership Comes With a $45 Gift C...</td>\n",
       "      <td>Daniel Oropeza</td>\n",
       "      <td>74</td>\n",
       "    </tr>\n",
       "    <tr>\n",
       "      <th>41</th>\n",
       "      <td>These Are the Best Cheap Hotel Chains in the U...</td>\n",
       "      <td>Elizabeth Yuko</td>\n",
       "      <td>70</td>\n",
       "    </tr>\n",
       "    <tr>\n",
       "      <th>36</th>\n",
       "      <td>The Difference Between Unplugging and Rechargi...</td>\n",
       "      <td>Elizabeth Yuko</td>\n",
       "      <td>69</td>\n",
       "    </tr>\n",
       "    <tr>\n",
       "      <th>39</th>\n",
       "      <td>You Can Download Instructions for More Than 6,...</td>\n",
       "      <td>Elizabeth Yuko</td>\n",
       "      <td>68</td>\n",
       "    </tr>\n",
       "    <tr>\n",
       "      <th>47</th>\n",
       "      <td>Why Kids Stop Reading for Fun by Age 9 (and Wh...</td>\n",
       "      <td>Michelle Woo</td>\n",
       "      <td>64</td>\n",
       "    </tr>\n",
       "  </tbody>\n",
       "</table>\n",
       "</div>"
      ],
      "text/plain": [
       "                                                title          author  \\\n",
       "13  This Costco Membership Comes With a $45 Gift C...  Daniel Oropeza   \n",
       "41  These Are the Best Cheap Hotel Chains in the U...  Elizabeth Yuko   \n",
       "36  The Difference Between Unplugging and Rechargi...  Elizabeth Yuko   \n",
       "39  You Can Download Instructions for More Than 6,...  Elizabeth Yuko   \n",
       "47  Why Kids Stop Reading for Fun by Age 9 (and Wh...    Michelle Woo   \n",
       "\n",
       "    title_length  \n",
       "13            74  \n",
       "41            70  \n",
       "36            69  \n",
       "39            68  \n",
       "47            64  "
      ]
     },
     "execution_count": 19,
     "metadata": {},
     "output_type": "execute_result"
    }
   ],
   "source": [
    "data['title_length'] = data['title'].apply(len)\n",
    "data[['title', 'author', 'title_length']].sort_values('title_length', ascending=False).head()"
   ]
  },
  {
   "cell_type": "markdown",
   "metadata": {},
   "source": [
    "### 12. Create a list of entry titles whose summary includes the phrase \"machine learning.\""
   ]
  },
  {
   "cell_type": "code",
   "execution_count": null,
   "metadata": {
    "scrolled": true
   },
   "outputs": [],
   "source": []
  },
  {
   "cell_type": "code",
   "execution_count": 32,
   "metadata": {},
   "outputs": [
    {
     "name": "stdout",
     "output_type": "stream",
     "text": [
      "[]\n"
     ]
    }
   ],
   "source": [
    "ml_titles = [entry['title'] for entry in life.entries if 'machine learning' in entry.summary.lower()]\n",
    "\n",
    "print(ml_titles)"
   ]
  },
  {
   "cell_type": "code",
   "execution_count": null,
   "metadata": {},
   "outputs": [],
   "source": []
  },
  {
   "cell_type": "code",
   "execution_count": null,
   "metadata": {},
   "outputs": [],
   "source": []
  }
 ],
 "metadata": {
  "kernelspec": {
   "display_name": "Python 3 (ipykernel)",
   "language": "python",
   "name": "python3"
  },
  "language_info": {
   "codemirror_mode": {
    "name": "ipython",
    "version": 3
   },
   "file_extension": ".py",
   "mimetype": "text/x-python",
   "name": "python",
   "nbconvert_exporter": "python",
   "pygments_lexer": "ipython3",
   "version": "3.10.9"
  }
 },
 "nbformat": 4,
 "nbformat_minor": 2
}
