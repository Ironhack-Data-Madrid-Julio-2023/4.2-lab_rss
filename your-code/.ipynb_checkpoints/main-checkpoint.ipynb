{
 "cells": [
  {
   "cell_type": "markdown",
   "metadata": {},
   "source": [
    "# Working with RSS Feeds Lab\n",
    "\n",
    "Complete the following set of exercises to solidify your knowledge of parsing RSS feeds and extracting information from them."
   ]
  },
  {
   "cell_type": "code",
   "execution_count": 1,
   "metadata": {},
   "outputs": [
    {
     "name": "stdout",
     "output_type": "stream",
     "text": [
      "Requirement already satisfied: feedparser in /Users/borja/anaconda3/lib/python3.10/site-packages (6.0.10)\n",
      "Requirement already satisfied: sgmllib3k in /Users/borja/anaconda3/lib/python3.10/site-packages (from feedparser) (1.0.0)\n",
      "Note: you may need to restart the kernel to use updated packages.\n"
     ]
    }
   ],
   "source": [
    "%pip install feedparser"
   ]
  },
  {
   "cell_type": "code",
   "execution_count": 2,
   "metadata": {},
   "outputs": [],
   "source": [
    "import feedparser\n",
    "import pandas as pd"
   ]
  },
  {
   "cell_type": "markdown",
   "metadata": {},
   "source": [
    "### 1. Use feedparser to parse the following RSS feed URL."
   ]
  },
  {
   "cell_type": "code",
   "execution_count": 3,
   "metadata": {},
   "outputs": [],
   "source": [
    "reddit = feedparser.parse('https://rss.com/blog/popular-rss-feeds/')"
   ]
  },
  {
   "cell_type": "code",
   "execution_count": 4,
   "metadata": {},
   "outputs": [
    {
     "data": {
      "text/plain": [
       "{'bozo': 1,\n",
       " 'entries': [],\n",
       " 'feed': {'html': {'lang': 'en-US'},\n",
       "  'meta': {'name': 'twitter:data2', 'content': '9 minutes'},\n",
       "  'links': [{'rel': 'profile',\n",
       "    'href': 'https://gmpg.org/xfn/11',\n",
       "    'type': 'text/html'},\n",
       "   {'rel': 'canonical',\n",
       "    'href': 'https://rss.com/blog/popular-rss-feeds/',\n",
       "    'type': 'text/html'},\n",
       "   {'rel': 'dns-prefetch',\n",
       "    'href': 'https://www.googletagmanager.com',\n",
       "    'type': 'text/html'},\n",
       "   {'rel': 'alternate',\n",
       "    'type': 'application/rss+xml',\n",
       "    'title': 'RSS.com &raquo; Feed',\n",
       "    'href': 'https://rss.com/blog/feed/'},\n",
       "   {'rel': 'alternate',\n",
       "    'type': 'application/rss+xml',\n",
       "    'title': 'RSS.com &raquo; Comments Feed',\n",
       "    'href': 'https://rss.com/blog/comments/feed/'},\n",
       "   {'rel': 'alternate',\n",
       "    'type': 'application/rss+xml',\n",
       "    'title': 'RSS.com &raquo; Popular RSS Feeds Comments Feed',\n",
       "    'href': 'https://rss.com/blog/popular-rss-feeds/feed/'}],\n",
       "  'script': {'type': 'application/ld+json', 'class': 'yoast-schema-graph'}},\n",
       " 'headers': {'content-type': 'text/html; charset=UTF-8',\n",
       "  'transfer-encoding': 'chunked',\n",
       "  'connection': 'close',\n",
       "  'date': 'Tue, 01 Aug 2023 13:15:54 GMT',\n",
       "  'server': 'Apache/2.4.29 (Ubuntu)',\n",
       "  'cache-control': 'no-cache',\n",
       "  'content-encoding': 'gzip',\n",
       "  'wpo-cache-status': 'cached',\n",
       "  'last-modified': 'Tue, 01 Aug 2023 01:43:48 GMT',\n",
       "  'x-cache': 'Miss from cloudfront',\n",
       "  'via': '1.1 c3a0a7e5c0f5b41e8c5ce4cb7be9f62e.cloudfront.net (CloudFront)',\n",
       "  'x-amz-cf-pop': 'MAD56-P3',\n",
       "  'x-amz-cf-id': 'Bz2T4WjOa59xHV0uQa1RPP2AW_8EUqjAGvUNQ4cg7v3nYPBnU2el7w=='},\n",
       " 'updated': 'Tue, 01 Aug 2023 01:43:48 GMT',\n",
       " 'updated_parsed': time.struct_time(tm_year=2023, tm_mon=8, tm_mday=1, tm_hour=1, tm_min=43, tm_sec=48, tm_wday=1, tm_yday=213, tm_isdst=0),\n",
       " 'href': 'https://rss.com/blog/popular-rss-feeds/',\n",
       " 'status': 200,\n",
       " 'encoding': 'UTF-8',\n",
       " 'bozo_exception': xml.sax._exceptions.SAXParseException('syntax error'),\n",
       " 'version': '',\n",
       " 'namespaces': {}}"
      ]
     },
     "execution_count": 4,
     "metadata": {},
     "output_type": "execute_result"
    }
   ],
   "source": [
    "reddit"
   ]
  },
  {
   "cell_type": "markdown",
   "metadata": {},
   "source": [
    "### 2. Obtain a list of components (keys) that are available for this feed."
   ]
  },
  {
   "cell_type": "code",
   "execution_count": 5,
   "metadata": {},
   "outputs": [
    {
     "data": {
      "text/plain": [
       "dict_keys(['bozo', 'entries', 'feed', 'headers', 'updated', 'updated_parsed', 'href', 'status', 'encoding', 'bozo_exception', 'version', 'namespaces'])"
      ]
     },
     "execution_count": 5,
     "metadata": {},
     "output_type": "execute_result"
    }
   ],
   "source": [
    "reddit.keys()"
   ]
  },
  {
   "cell_type": "markdown",
   "metadata": {},
   "source": [
    "### 3. Obtain a list of components (keys) that are available for the *feed* component of this RSS feed."
   ]
  },
  {
   "cell_type": "code",
   "execution_count": 6,
   "metadata": {},
   "outputs": [
    {
     "data": {
      "text/plain": [
       "dict_keys(['html', 'meta', 'links', 'script'])"
      ]
     },
     "execution_count": 6,
     "metadata": {},
     "output_type": "execute_result"
    }
   ],
   "source": [
    "reddit['feed'].keys()"
   ]
  },
  {
   "cell_type": "markdown",
   "metadata": {},
   "source": [
    "### 4. Extract and print the feed title, subtitle, author, and link."
   ]
  },
  {
   "cell_type": "code",
   "execution_count": 7,
   "metadata": {},
   "outputs": [
    {
     "name": "stdout",
     "output_type": "stream",
     "text": [
      "{'lang': 'en-US'}\n",
      "{'name': 'twitter:data2', 'content': '9 minutes'}\n",
      "[{'rel': 'profile', 'href': 'https://gmpg.org/xfn/11', 'type': 'text/html'}, {'rel': 'canonical', 'href': 'https://rss.com/blog/popular-rss-feeds/', 'type': 'text/html'}, {'rel': 'dns-prefetch', 'href': 'https://www.googletagmanager.com', 'type': 'text/html'}, {'rel': 'alternate', 'type': 'application/rss+xml', 'title': 'RSS.com &raquo; Feed', 'href': 'https://rss.com/blog/feed/'}, {'rel': 'alternate', 'type': 'application/rss+xml', 'title': 'RSS.com &raquo; Comments Feed', 'href': 'https://rss.com/blog/comments/feed/'}, {'rel': 'alternate', 'type': 'application/rss+xml', 'title': 'RSS.com &raquo; Popular RSS Feeds Comments Feed', 'href': 'https://rss.com/blog/popular-rss-feeds/feed/'}]\n",
      "{'type': 'application/ld+json', 'class': 'yoast-schema-graph'}\n"
     ]
    }
   ],
   "source": [
    "print(reddit['feed']['html'])\n",
    "print(reddit['feed']['meta'])\n",
    "print(reddit['feed']['links'])\n",
    "print(reddit['feed']['script'])"
   ]
  },
  {
   "cell_type": "markdown",
   "metadata": {},
   "source": [
    "### 5. Count the number of entries that are contained in this RSS feed."
   ]
  },
  {
   "cell_type": "code",
   "execution_count": 8,
   "metadata": {},
   "outputs": [
    {
     "data": {
      "text/plain": [
       "[]"
      ]
     },
     "execution_count": 8,
     "metadata": {},
     "output_type": "execute_result"
    }
   ],
   "source": [
    "reddit['entries']"
   ]
  },
  {
   "cell_type": "code",
   "execution_count": 9,
   "metadata": {},
   "outputs": [
    {
     "data": {
      "text/plain": [
       "0"
      ]
     },
     "execution_count": 9,
     "metadata": {},
     "output_type": "execute_result"
    }
   ],
   "source": [
    "len(reddit['entries'])"
   ]
  },
  {
   "cell_type": "markdown",
   "metadata": {},
   "source": [
    "### 6. Obtain a list of components (keys) available for an entry.\n",
    "\n",
    "*Hint: Remember to index first before requesting the keys*"
   ]
  },
  {
   "cell_type": "code",
   "execution_count": null,
   "metadata": {},
   "outputs": [],
   "source": []
  },
  {
   "cell_type": "markdown",
   "metadata": {},
   "source": [
    "### 7. Extract a list of entry titles."
   ]
  },
  {
   "cell_type": "code",
   "execution_count": null,
   "metadata": {},
   "outputs": [],
   "source": []
  },
  {
   "cell_type": "markdown",
   "metadata": {},
   "source": [
    "### 8. Calculate the percentage of \"Four short links\" entry titles."
   ]
  },
  {
   "cell_type": "code",
   "execution_count": null,
   "metadata": {},
   "outputs": [],
   "source": []
  },
  {
   "cell_type": "markdown",
   "metadata": {},
   "source": [
    "### 9. Create a Pandas data frame from the feed's entries."
   ]
  },
  {
   "cell_type": "code",
   "execution_count": null,
   "metadata": {},
   "outputs": [],
   "source": []
  },
  {
   "cell_type": "code",
   "execution_count": null,
   "metadata": {},
   "outputs": [],
   "source": []
  },
  {
   "cell_type": "markdown",
   "metadata": {},
   "source": [
    "### 10. Count the number of entries per author and sort them in descending order."
   ]
  },
  {
   "cell_type": "code",
   "execution_count": null,
   "metadata": {},
   "outputs": [],
   "source": []
  },
  {
   "cell_type": "markdown",
   "metadata": {},
   "source": [
    "### 11. Add a new column to the data frame that contains the length (number of characters) of each entry title. Return a data frame that contains the title, author, and title length of each entry in descending order (longest title length at the top)."
   ]
  },
  {
   "cell_type": "code",
   "execution_count": null,
   "metadata": {},
   "outputs": [],
   "source": []
  },
  {
   "cell_type": "markdown",
   "metadata": {},
   "source": [
    "### 12. Create a list of entry titles whose summary includes the phrase \"machine learning.\""
   ]
  },
  {
   "cell_type": "code",
   "execution_count": null,
   "metadata": {},
   "outputs": [],
   "source": []
  },
  {
   "cell_type": "code",
   "execution_count": null,
   "metadata": {},
   "outputs": [],
   "source": []
  }
 ],
 "metadata": {
  "kernelspec": {
   "display_name": "Python 3 (ipykernel)",
   "language": "python",
   "name": "python3"
  },
  "language_info": {
   "codemirror_mode": {
    "name": "ipython",
    "version": 3
   },
   "file_extension": ".py",
   "mimetype": "text/x-python",
   "name": "python",
   "nbconvert_exporter": "python",
   "pygments_lexer": "ipython3",
   "version": "3.10.9"
  }
 },
 "nbformat": 4,
 "nbformat_minor": 2
}
