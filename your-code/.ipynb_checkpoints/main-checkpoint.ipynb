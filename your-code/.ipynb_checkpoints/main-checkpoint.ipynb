{
 "cells": [
  {
   "cell_type": "markdown",
   "metadata": {},
   "source": [
    "# Working with RSS Feeds Lab\n",
    "\n",
    "Complete the following set of exercises to solidify your knowledge of parsing RSS feeds and extracting information from them."
   ]
  },
  {
   "cell_type": "code",
   "execution_count": 1,
   "metadata": {},
   "outputs": [
    {
     "name": "stdout",
     "output_type": "stream",
     "text": [
      "Requirement already satisfied: feedparser in /Users/david/anaconda3/lib/python3.10/site-packages (6.0.10)\n",
      "Requirement already satisfied: sgmllib3k in /Users/david/anaconda3/lib/python3.10/site-packages (from feedparser) (1.0.0)\n",
      "Note: you may need to restart the kernel to use updated packages.\n"
     ]
    }
   ],
   "source": [
    "%pip install feedparser\n",
    "\n",
    "import feedparser"
   ]
  },
  {
   "cell_type": "markdown",
   "metadata": {},
   "source": [
    "### 1. Use feedparser to parse the following RSS feed URL."
   ]
  },
  {
   "cell_type": "code",
   "execution_count": 2,
   "metadata": {},
   "outputs": [],
   "source": [
    "NBC = feedparser.parse('https://podcastfeeds.nbcnews.com/HL4TzgYC')"
   ]
  },
  {
   "cell_type": "code",
   "execution_count": 3,
   "metadata": {},
   "outputs": [
    {
     "name": "stdout",
     "output_type": "stream",
     "text": [
      "{'links': [{'href': 'https://feeds.simplecast.com/HL4TzgYC', 'rel': 'self', 'title': 'MP3 Audio', 'type': 'application/atom+xml'}, {'href': 'https://simplecast.superfeedr.com/', 'rel': 'hub', 'type': 'text/html'}, {'rel': 'alternate', 'type': 'text/html', 'href': 'https://www.nbcnews.com/dateline'}], 'generator_detail': {'name': 'https://simplecast.com'}, 'generator': 'https://simplecast.com', 'title': 'Dateline NBC', 'title_detail': {'type': 'text/plain', 'language': None, 'base': 'https://podcastfeeds.nbcnews.com/HL4TzgYC', 'value': 'Dateline NBC'}, 'subtitle': 'Current and classic episodes, featuring compelling true-crime mysteries, powerful documentaries and in-depth investigations.', 'subtitle_detail': {'type': 'text/html', 'language': None, 'base': 'https://podcastfeeds.nbcnews.com/HL4TzgYC', 'value': 'Current and classic episodes, featuring compelling true-crime mysteries, powerful documentaries and in-depth investigations.'}, 'rights': '2019 NBC News', 'rights_detail': {'type': 'text/plain', 'language': None, 'base': 'https://podcastfeeds.nbcnews.com/HL4TzgYC', 'value': '2019 NBC News'}, 'language': 'en', 'published': 'Tue, 1 Aug 2023 10:00:00 +0000', 'published_parsed': time.struct_time(tm_year=2023, tm_mon=8, tm_mday=1, tm_hour=10, tm_min=0, tm_sec=0, tm_wday=1, tm_yday=213, tm_isdst=0), 'updated': 'Tue, 1 Aug 2023 11:47:52 +0000', 'updated_parsed': time.struct_time(tm_year=2023, tm_mon=8, tm_mday=1, tm_hour=11, tm_min=47, tm_sec=52, tm_wday=1, tm_yday=213, tm_isdst=0), 'image': {'href': 'https://image.simplecastcdn.com/images/ae183fe2-c634-458a-93dd-5770f0676f77/b010809a-c311-425c-9325-2235c21e6939/3000x3000/7f0421f73d2ce0ca272e392c937e1a301285d44fe7c6d710c2844d80c0c7bb1a3e9838ac03ee80fc64199891cb9d5c6e9d4490f5081fb379c0ab2317f2cadf14.jpeg?aid=rss_feed'}, 'link': 'https://www.nbcnews.com/dateline', 'itunes_type': 'episodic', 'summary': 'Current and classic episodes, featuring compelling true-crime mysteries, powerful documentaries and in-depth investigations.', 'summary_detail': {'type': 'text/plain', 'language': None, 'base': 'https://podcastfeeds.nbcnews.com/HL4TzgYC', 'value': 'Current and classic episodes, featuring compelling true-crime mysteries, powerful documentaries and in-depth investigations.'}, 'authors': [{'name': 'NBC News', 'email': 'nbcnews.podcasts@gmail.com'}], 'author': 'NBC News', 'author_detail': {'name': 'NBC News', 'email': 'nbcnews.podcasts@gmail.com'}, 'itunes_explicit': None, 'itunes_new-feed-url': 'https://podcastfeeds.nbcnews.com/dateline', 'tags': [{'term': 'SOCIAL', 'scheme': 'http://www.itunes.com/', 'label': None}, {'term': 'TRUE CRIME', 'scheme': 'http://www.itunes.com/', 'label': None}, {'term': 'CULTURE', 'scheme': 'http://www.itunes.com/', 'label': None}, {'term': 'NEWS', 'scheme': 'http://www.itunes.com/', 'label': None}, {'term': 'True Crime', 'scheme': 'http://www.itunes.com/', 'label': None}, {'term': 'News', 'scheme': 'http://www.itunes.com/', 'label': None}, {'term': 'Society & Culture', 'scheme': 'http://www.itunes.com/', 'label': None}], 'publisher_detail': {'name': 'NBC News', 'email': 'nbcnews.podcasts@gmail.com'}}\n"
     ]
    }
   ],
   "source": [
    "print(NBC['feed'])"
   ]
  },
  {
   "cell_type": "markdown",
   "metadata": {},
   "source": [
    "### 2. Obtain a list of components (keys) that are available for this feed."
   ]
  },
  {
   "cell_type": "code",
   "execution_count": 4,
   "metadata": {},
   "outputs": [
    {
     "data": {
      "text/plain": [
       "dict_keys(['bozo', 'entries', 'feed', 'headers', 'etag', 'updated', 'updated_parsed', 'href', 'status', 'encoding', 'version', 'namespaces'])"
      ]
     },
     "execution_count": 4,
     "metadata": {},
     "output_type": "execute_result"
    }
   ],
   "source": [
    "NBC.keys()"
   ]
  },
  {
   "cell_type": "markdown",
   "metadata": {},
   "source": [
    "### 3. Obtain a list of components (keys) that are available for the *feed* component of this RSS feed."
   ]
  },
  {
   "cell_type": "code",
   "execution_count": 5,
   "metadata": {},
   "outputs": [
    {
     "data": {
      "text/plain": [
       "dict_keys(['links', 'generator_detail', 'generator', 'title', 'title_detail', 'subtitle', 'subtitle_detail', 'rights', 'rights_detail', 'language', 'published', 'published_parsed', 'updated', 'updated_parsed', 'image', 'link', 'itunes_type', 'summary', 'summary_detail', 'authors', 'author', 'author_detail', 'itunes_explicit', 'itunes_new-feed-url', 'tags', 'publisher_detail'])"
      ]
     },
     "execution_count": 5,
     "metadata": {},
     "output_type": "execute_result"
    }
   ],
   "source": [
    "NBC.feed.keys()"
   ]
  },
  {
   "cell_type": "markdown",
   "metadata": {},
   "source": [
    "### 4. Extract and print the feed title, subtitle, author, and link."
   ]
  },
  {
   "cell_type": "code",
   "execution_count": 6,
   "metadata": {},
   "outputs": [
    {
     "name": "stdout",
     "output_type": "stream",
     "text": [
      "Dateline NBC\n",
      "\n",
      "Current and classic episodes, featuring compelling true-crime mysteries, powerful documentaries and in-depth investigations.\n",
      "\n",
      "NBC News\n",
      "\n",
      "https://www.nbcnews.com/dateline\n"
     ]
    }
   ],
   "source": [
    "print (NBC.feed.title)\n",
    "print ('')\n",
    "print (NBC.feed.subtitle)\n",
    "print ('')\n",
    "print (NBC.feed.author)\n",
    "print ('')\n",
    "print (NBC.feed.link)"
   ]
  },
  {
   "cell_type": "markdown",
   "metadata": {},
   "source": [
    "### 5. Count the number of entries that are contained in this RSS feed."
   ]
  },
  {
   "cell_type": "code",
   "execution_count": 7,
   "metadata": {},
   "outputs": [
    {
     "data": {
      "text/plain": [
       "454"
      ]
     },
     "execution_count": 7,
     "metadata": {},
     "output_type": "execute_result"
    }
   ],
   "source": [
    "len(NBC.entries)"
   ]
  },
  {
   "cell_type": "code",
   "execution_count": 8,
   "metadata": {},
   "outputs": [
    {
     "data": {
      "text/plain": [
       "{'id': '34c72474-9e16-4dec-9d90-e3b7ab47ac42',\n",
       " 'guidislink': False,\n",
       " 'title': 'Circle of Friends',\n",
       " 'title_detail': {'type': 'text/plain',\n",
       "  'language': None,\n",
       "  'base': 'https://podcastfeeds.nbcnews.com/HL4TzgYC',\n",
       "  'value': 'Circle of Friends'},\n",
       " 'summary': 'In this Dateline classic, a circle of friends from a Miami high school are about to embark on a new beginning at college. But one friend surprises them all. Dennis Murphy reports. Originally aired on NBC on August 22, 2014.',\n",
       " 'summary_detail': {'type': 'text/plain',\n",
       "  'language': None,\n",
       "  'base': 'https://podcastfeeds.nbcnews.com/HL4TzgYC',\n",
       "  'value': 'In this Dateline classic, a circle of friends from a Miami high school are about to embark on a new beginning at college. But one friend surprises them all. Dennis Murphy reports. Originally aired on NBC on August 22, 2014.'},\n",
       " 'published': 'Tue, 1 Aug 2023 10:00:00 +0000',\n",
       " 'published_parsed': time.struct_time(tm_year=2023, tm_mon=8, tm_mday=1, tm_hour=10, tm_min=0, tm_sec=0, tm_wday=1, tm_yday=213, tm_isdst=0),\n",
       " 'authors': [{'name': 'NBC News', 'email': 'nbcnews.podcasts@gmail.com'},\n",
       "  {'name': 'NBC News'}],\n",
       " 'author': 'NBC News',\n",
       " 'author_detail': {'name': 'NBC News', 'email': 'nbcnews.podcasts@gmail.com'},\n",
       " 'links': [{'rel': 'alternate',\n",
       "   'type': 'text/html',\n",
       "   'href': 'https://www.nbcnews.com/dateline'},\n",
       "  {'length': '30120499',\n",
       "   'type': 'audio/mpeg',\n",
       "   'href': 'https://dts.podtrac.com/redirect.mp3/chtbl.com/track/6D589D/pdst.fm/e/nbcnews.simplecastaudio.com/ae183fe2-c634-458a-93dd-5770f0676f77/episodes/1de24a2e-b717-460b-976a-37e60eafca69/audio/128/default.mp3?aid=rss_feed&awCollectionId=ae183fe2-c634-458a-93dd-5770f0676f77&awEpisodeId=1de24a2e-b717-460b-976a-37e60eafca69&feed=HL4TzgYC',\n",
       "   'rel': 'enclosure'}],\n",
       " 'link': 'https://www.nbcnews.com/dateline',\n",
       " 'content': [{'type': 'text/html',\n",
       "   'language': None,\n",
       "   'base': 'https://podcastfeeds.nbcnews.com/HL4TzgYC',\n",
       "   'value': '<p>In this Dateline classic, a circle of friends from a Miami high school are about to embark on a new beginning at college. But one friend surprises them all. Dennis Murphy reports. Originally aired on NBC on August 22, 2014.</p>'}],\n",
       " 'itunes_title': 'Circle of Friends',\n",
       " 'itunes_duration': '00:41:49',\n",
       " 'subtitle': 'In this Dateline classic, a circle of friends from a Miami high school are about to embark on a new beginning at college. But one friend surprises them all. Dennis Murphy reports. Originally aired on NBC on August 22, 2014.',\n",
       " 'subtitle_detail': {'type': 'text/plain',\n",
       "  'language': None,\n",
       "  'base': 'https://podcastfeeds.nbcnews.com/HL4TzgYC',\n",
       "  'value': 'In this Dateline classic, a circle of friends from a Miami high school are about to embark on a new beginning at college. But one friend surprises them all. Dennis Murphy reports. Originally aired on NBC on August 22, 2014.'},\n",
       " 'tags': [{'term': 'gainesville',\n",
       "   'scheme': 'http://www.itunes.com/',\n",
       "   'label': None},\n",
       "  {'term': 'erika friman', 'scheme': 'http://www.itunes.com/', 'label': None},\n",
       "  {'term': 'florida', 'scheme': 'http://www.itunes.com/', 'label': None},\n",
       "  {'term': 'christian aguilar',\n",
       "   'scheme': 'http://www.itunes.com/',\n",
       "   'label': None},\n",
       "  {'term': 'pedro bravo', 'scheme': 'http://www.itunes.com/', 'label': None}],\n",
       " 'itunes_explicit': None,\n",
       " 'itunes_episodetype': 'full'}"
      ]
     },
     "execution_count": 8,
     "metadata": {},
     "output_type": "execute_result"
    }
   ],
   "source": [
    "NBC.entries[0]"
   ]
  },
  {
   "cell_type": "markdown",
   "metadata": {},
   "source": [
    "### 6. Obtain a list of components (keys) available for an entry.\n",
    "\n",
    "*Hint: Remember to index first before requesting the keys*"
   ]
  },
  {
   "cell_type": "code",
   "execution_count": 9,
   "metadata": {},
   "outputs": [
    {
     "data": {
      "text/plain": [
       "dict_keys(['id', 'guidislink', 'title', 'title_detail', 'summary', 'summary_detail', 'published', 'published_parsed', 'authors', 'author', 'author_detail', 'links', 'link', 'content', 'itunes_title', 'itunes_duration', 'subtitle', 'subtitle_detail', 'tags', 'itunes_explicit', 'itunes_episodetype'])"
      ]
     },
     "execution_count": 9,
     "metadata": {},
     "output_type": "execute_result"
    }
   ],
   "source": [
    "NBC.entries[0].keys()"
   ]
  },
  {
   "cell_type": "markdown",
   "metadata": {},
   "source": [
    "### 7. Extract a list of entry titles."
   ]
  },
  {
   "cell_type": "code",
   "execution_count": 10,
   "metadata": {},
   "outputs": [
    {
     "name": "stdout",
     "output_type": "stream",
     "text": [
      "['Circle of Friends', 'Deadly Hollywood Dreams', 'On the Trail of the Bike Path Rapist', 'Diabolical', 'Death in the Hollywood Hills', 'The Trap', 'A Long, Dark Stretch of Road', 'Into Thin Air', 'Something Wicked', 'What Happened to Tara Grant?', 'Behind the Closet Door', 'What happened to Dia Abrams? | Dateline: Missing in America', 'The Mystery of Katrina Montgomery', 'What happened to Logan Schiendelman? | Dateline: Missing in America', 'Deadly Secret', \"Father's Day\", 'Bad Intentions', 'What happened to Elizabeth Ann Gill? | Dateline: Missing in America', 'The Alibi', 'What happened to Jasmine Robinson? | Dateline: Missing in America', 'Secrets in the Ozarks', 'Bodies of Evidence', 'What happened to Nevaeh Kingbird? | Dateline: Missing in America', \"The House on Sidney's Cove\", 'What happened to Kent Jacobs? | Dateline: Missing in America', 'The Model & the Millionaire', 'An all-new season of ‘Dateline Missing in America’', 'The Killings on King Road', 'Return to the Early Shift', 'The Trial of Lori Vallow Daybell', 'The Motive', 'Killing Time', 'The Dream House Mystery', 'Along Came Sarah', 'Talking Dateline: Dead Man Talking', 'Dead Man Talking', 'Last Dance in the Rockies', 'Who Killed Courtney Coco?', 'Laci Peterson: A New Turn', 'Behind Door 813', 'Complicated', 'Justice for Kristin Smart', 'One Moment', 'Secrets of the Snake Farm', 'Prime Suspect', 'The Murder of Lorenzen Wright', 'Talking Dateline: Finding Rita', 'Finding Rita', 'Cliffhanger', 'The Trial of Alex Murdaugh', 'The Window', 'A Flight to Nowhere', 'Web of Deceit', 'Footprints in the Snow', 'Murdaugh on Trial: The Prosecution Rests', 'The Santa Strangler', 'Who Killed Mindy Morgenstern?', 'Deadly Deception', 'On a Dark, Deserted Highway', 'Deadly Affair', 'The Crossbow Incident', \"The Detective's Daughter\", 'The Bad Man', 'Terror at the Mall', 'The Secrets of Birch View Drive', 'The Face of Evil', 'Jagged', 'Unspeakable', '\"The Night Before Christmas\" read by Keith Morrison', 'Dr. Seuss\\' \"How The Grinch Stole Christmas!\" read by Keith Morrison', '\"Rudolph The Red-Nosed Reindeer\" read by Keith Morrison', 'Black Friday', 'The Last Walk', \"Devil's Bathtub\", 'Safari Story', 'The Feud', 'Evil Was Waiting', 'The Figure in the House', 'Deadly Circumstances', 'On the Outskirts of Town', 'Fire & Ice', 'The Haunting', 'Righteous Obsession', 'The Girl in the Little Blue Dress', 'A Walk in the Rain', 'Graduation Night', 'A Cool Desert Morning', 'The People vs. O.J. Simpson: What the Jury Never Heard', 'The Sisterhood', 'Suspicion in Silver City', 'Wreckage', 'Dark Valley', 'The Last Ride', 'The Mystery in Effingham County', 'Collision', 'Deadly Obsession', 'The Day Jennifer Disappeared', 'Out of the Darkness', 'The Case of the Missing D.A.', 'Love Lay Dying', 'The Years of Living Dangerously', 'Deep in the Woods', 'The Last Voyage', 'What Happened to Anton Black?', 'Deadly Sanctuary', 'Before the Storm', 'The Mystery of the Lost Weekend', 'The Night Lynsie Disappeared', 'Flying High at Cocktail Cove', 'Someone Was Out There', 'Murder in the Family', 'Rear Window', 'The Secret Keepers', 'Through the Pouring Rain', 'The Figure in the Garage', 'The House on the Lake', 'The Mystery at Pictured Rocks', 'What They Saw', 'Murder in Kitchen One', 'Before Midnight', 'The Jacket', 'Justice for Sparkle', 'Finding Savanna', 'She Never Left', 'The House on Shalimar Way', '“Murder in Studio One” From TODAY', 'Hostage', 'The Day the Music Died', 'Swept Away', 'The Undoing', 'Evil Was Watching', 'The Blue Blanket Mystery', 'Death of a Heartsong', 'The Curious Case of Sherri Papini', 'Secrets in Pleasant Grove', 'The Real Thing About Pam', 'Secrets of Lake Seminole', 'The Hands of a Killer', 'Into the Wild', 'Hit List', 'Bad Chemistry', 'In the Light of Day', 'Stealing Paradise', 'A Haunting Stretch of Road', 'The Friday the 13th Murder', 'Siren Song', 'The Thing About “The Thing About Pam”', 'At the Edge of Town', 'Prairie Confidential', 'Bitter Pill', 'Twisted Faith', 'In the Bedroom', 'The Mystery at Lost Dog Road', \"The Valentine's Day Mystery\", 'The Mystery in Rock Hill', 'Rosemary and the Motorcycle Man', 'After the Dance', 'Hope Whispers', 'Evil Paid a Visit', 'No Way Out', 'What Happened in Vegas', 'The Trouble on the Hill', 'Recipe for Murder', 'The Root of All Evil', 'Disappearance at the Dairy Queen', 'Deadly Concoction', 'The Overlook', 'Mystery at Bootleggers Cove', 'The Secrets of Nygard Cay', 'Too Fat to Kill?', 'Murder in the House of Gucci', 'The Family Secret', 'The Mystery on Horseshoe Drive', 'When the Smoke Clears', 'Infamous', 'The Night Brianna Vanished', 'The Doomsday Files', 'The Secrets in the Suitcase', 'Horror at the Lake', 'The Night Before Halloween', 'Deadly Current', 'The House on Murder Mountain', 'Secrets from the Grave', 'Kill Switch', 'Blind Justice', 'The Bridge', 'What Happened to Amy?', 'The Evil That Watches', 'Dateline@30: The Podcast', 'Scorned', 'Unraveled', 'A Villainous Plan', 'Point Blank', 'Family Business', 'Detective Story', 'Even the Devil Went to Church', 'In the Dead of Night', 'The Woman at the Bar', 'Over the Edge', 'The Phone Call', 'Vanished: Michelle Le', 'A Bronx Tale', 'Angels & Demons', 'Twisted Loyalty', 'The Women & Dirty John', 'While He Was Sleeping', 'Down the Back Staircase', \"Lauren's Promise\", 'Death Trap', 'The Night of the New Moon', 'The Prussian Blue Mystery', 'Ransom', 'The Sting', 'Deadly Valentine', 'Deadly Connection', 'Heroes: The Story of Flight 93', 'Vengeance', 'The Disappearance of Debbie Hawk', 'Haunting Images', 'The Secrets of Spirit Lake', 'The Mystery on Albion Road', 'Lost and Found', 'The Confession', 'The Investigation', 'The Fugitive Millionaire', 'Deadly Liaisons', 'Killer Role', 'As Darkness Fell', 'Lost in Sin City', 'The Cliff’s Edge', 'Justice for Bonnie', 'Deadly Betrayal', 'House of Horrors', 'The Mystery of the Murdered Major', 'The Day She Disappeared', 'The Player', 'Suspicion', 'Deadly Exposure', 'Taken', 'Breakout', 'Crossing the Line', 'The Pink Gun Mystery', 'The Goldfinger Mystery', 'Deadly Triangle', 'Deadly Conspiracy', 'Secrets by the Bay', 'Kidnapped', 'A Wanted Man', 'Murder in Broad Daylight', 'Window of Opportunity', 'Shattered Bonds', 'Mystery in Mustang', 'Behind Closed Doors: The Phony Rockefeller', 'The Necklace', 'Obsession: The Jodi Arias Story', 'Someone Was Watching', 'Sex, Lies & Murder', 'The Plot Thickens', 'A Story of Poison', 'Return to Poplar River', 'Mommy Doomsday', 'The Devil and Bobbi Parker', 'Conduct Unbecoming', 'The Night Hannah Hill Disappeared', 'The Woman with No Name', 'Deception', 'The Life She Wanted', 'In the Middle of the Night in Albuquerque', 'Betrayal', 'Fatal Attraction', 'Manner of Death', 'Collateral Damage', 'The Widower Ep. 3: The Trial', 'The Widower Ep. 2: 6 Wives, 4 Funerals', 'The Widower Ep. 1: “My Wife’s Been Shot”', 'The Mystery at Ascot Estates', 'The Secret in Albuquerque', \"Shannon's Story\", 'Night of the Summer Solstice', 'While She Was Sleeping', 'The Grudge', 'Family Affair', 'Toxic', 'Open Water', 'Journey for Justice', 'Miles From Nowhere', 'The Secret Life of the Homecoming Queen', 'The Stranger', 'The Man Who Talked to Dogs', 'The Wire', 'The Beauty and the Beast Mystery', 'Secrets in the Smoky Mountains', 'The Life and Death of Princess Diana', 'The Eastlake Conspiracy', 'The Secret', 'Mystery on Sunrise Drive', 'Into the Night', 'Bringing Brooke Home', 'Far from Spider Lake', 'Behind Closed Doors', 'In the Middle of the Night', \"The Officer's Wife\", 'Who Killed the Radio Star?', 'Vanished: Amber Dubois & Chelsea King', '10 Minutes to Sunset', 'Buried Secrets', 'Secrets in a Small Town', 'In an Instant', 'The Comic Book Murder', 'The Mystery on Bridle Path', 'Deadly Trust', 'Fallen', 'Strangers on a Train', 'Lone Star Obsession', 'Burning Suspicion', 'Double Lives', 'The Secrets of Cottonwood Creek', 'Left for Dead', 'Trouble at the 7-11 Ranch', 'Queen of the County', 'And Then There Were Three', 'The Rise & Fall of Oscar Pistorius', 'The Mansion on Ocean Boulevard', 'Death in the Driveway', 'Mystery in Orange County: Behind the Scenes', 'Deadly House of Cards', \"The Man Who Wasn't There\", 'Written in Blood', 'The Inside Man', 'Without a Trace', 'Death of a Golden Girl', 'Deadly Desire', 'Mystery in South Beach', 'The Hometown Hero & The Homecoming Queen', 'In Cold Blood', 'Deadly Devotion', 'A Place on the Sand', 'Footprint in the Dust', 'The Good Husband', \"A Sister's Search\", 'The Killing in Cobb County', 'A Dangerous Man', 'A Shot in the Dark', 'Troubled Waters', 'Twisted', 'The Last Dance', 'The Long Road to Freedom', 'After Midnight', 'Endgame', 'Vanished', 'The Promise', 'Secrets on Hot Springs Drive', 'Secrets in the Snow', 'Indiscretion', 'Someone Was Waiting', 'Dangerous Liaisons', 'Mystery in Big Sky Country', 'Secrets in Seattle', 'Deadly Denial', 'Silent Witness', 'The Promise Kept', 'At Close Range', 'Unbreakable', 'Mystery at Heath Bar Farm', 'The Last Day', 'Infatuation', 'The Informant', 'Before Daylight', 'A Perfect Spot', 'The Deed', 'Mystery on the Jordan River', 'Missing Mickey', 'Secrets at the Sunshine Motel', 'BONUS Interview: Josh Mankiewicz and Joe Exotic', 'Secrets of the Snake River', 'The Road Trip', 'The Bathtub Mystery', 'What Lies Beneath', 'Return to the Lonely Road', 'Haunting', 'In Broad Daylight', 'The Ranch', 'A Killing in Cottonwood', 'Miami Heat', 'The Perfect Guy', 'Finding Sarah Goode', 'The House on the Hill', 'Before Dawn', 'Frantic', 'Under the Prairie Sky', 'The Evil to Come', \"Devil's Bargain\", 'Heart of Darkness', 'Deadly Twist', 'Abducted', 'Poison', 'The Mystery Man', 'After the Party', 'Betrayed', 'Mystery on the Mississippi', 'Mystery on Lockhart Road', 'The Black Candle Confession', 'Nightfall', 'The Death of Gianni Versace', 'The Music Box', 'The Silhouette', 'At the Bottom of the Pool', 'After the Storm', 'Mystery on Blood Mountain', 'As Night Fell', 'Poisoned', 'The Shadow', 'Bad Blood', 'Deadly Exchange', 'The Unusual Suspect', 'Family Secrets', 'Final Curtain', 'The Devil Was Watching', 'Smoke and Mirrors', 'The Knock at the Door', 'In a Lonely Place - Update', 'Tangled Web', 'Deadly Intent', 'While They Were Sleeping', 'The House in the Woods', 'At the Bottom of the Lake', 'Secrets & Lies', 'The Black Widow of Lomita', 'Obsession', 'Consumed', 'The Box', 'The Halloween Party', 'Shining Star', 'The Pink Skirt Plot', 'The House on Badger Lane', 'Something Sweet', 'The Devil in Disguise', 'The Plan', 'A Crack in Everything', 'Haunted', 'The Thing About Pam', 'Finding Venus', 'The Creek', 'The Watcher', 'The Match', 'A Deal with the Devil', 'Under the Desert Sky', 'Secrets of the Desert', 'Twisted in Texas', '11 Minutes', 'Into the Night', 'The Betrayal of Sarah Stern', \"She Didn't Come Home\", 'Introducing Dateline NBC']\n"
     ]
    }
   ],
   "source": [
    "titles_list = []\n",
    "for entry in NBC.entries:\n",
    "    titles_list.append(entry['title'])\n",
    "    \n",
    "print(titles_list)"
   ]
  },
  {
   "cell_type": "markdown",
   "metadata": {},
   "source": [
    "### 8. Calculate the percentage of \"Four short links\" entry titles."
   ]
  },
  {
   "cell_type": "code",
   "execution_count": 11,
   "metadata": {},
   "outputs": [
    {
     "data": {
      "text/plain": [
       "0"
      ]
     },
     "execution_count": 11,
     "metadata": {},
     "output_type": "execute_result"
    }
   ],
   "source": [
    "titles_list.count(\"Four short links\")"
   ]
  },
  {
   "cell_type": "markdown",
   "metadata": {},
   "source": [
    "### 9. Create a Pandas data frame from the feed's entries."
   ]
  },
  {
   "cell_type": "code",
   "execution_count": 12,
   "metadata": {},
   "outputs": [],
   "source": [
    "import pandas as pd"
   ]
  },
  {
   "cell_type": "code",
   "execution_count": 13,
   "metadata": {},
   "outputs": [
    {
     "data": {
      "text/html": [
       "<div>\n",
       "<style scoped>\n",
       "    .dataframe tbody tr th:only-of-type {\n",
       "        vertical-align: middle;\n",
       "    }\n",
       "\n",
       "    .dataframe tbody tr th {\n",
       "        vertical-align: top;\n",
       "    }\n",
       "\n",
       "    .dataframe thead th {\n",
       "        text-align: right;\n",
       "    }\n",
       "</style>\n",
       "<table border=\"1\" class=\"dataframe\">\n",
       "  <thead>\n",
       "    <tr style=\"text-align: right;\">\n",
       "      <th></th>\n",
       "      <th>id</th>\n",
       "      <th>guidislink</th>\n",
       "      <th>title</th>\n",
       "      <th>title_detail</th>\n",
       "      <th>summary</th>\n",
       "      <th>summary_detail</th>\n",
       "      <th>published</th>\n",
       "      <th>published_parsed</th>\n",
       "      <th>authors</th>\n",
       "      <th>author</th>\n",
       "      <th>...</th>\n",
       "      <th>content</th>\n",
       "      <th>itunes_title</th>\n",
       "      <th>itunes_duration</th>\n",
       "      <th>subtitle</th>\n",
       "      <th>subtitle_detail</th>\n",
       "      <th>tags</th>\n",
       "      <th>itunes_explicit</th>\n",
       "      <th>itunes_episodetype</th>\n",
       "      <th>image</th>\n",
       "      <th>itunes_episode</th>\n",
       "    </tr>\n",
       "  </thead>\n",
       "  <tbody>\n",
       "    <tr>\n",
       "      <th>0</th>\n",
       "      <td>34c72474-9e16-4dec-9d90-e3b7ab47ac42</td>\n",
       "      <td>False</td>\n",
       "      <td>Circle of Friends</td>\n",
       "      <td>{'type': 'text/plain', 'language': None, 'base...</td>\n",
       "      <td>In this Dateline classic, a circle of friends ...</td>\n",
       "      <td>{'type': 'text/plain', 'language': None, 'base...</td>\n",
       "      <td>Tue, 1 Aug 2023 10:00:00 +0000</td>\n",
       "      <td>(2023, 8, 1, 10, 0, 0, 1, 213, 0)</td>\n",
       "      <td>[{'name': 'NBC News', 'email': 'nbcnews.podcas...</td>\n",
       "      <td>NBC News</td>\n",
       "      <td>...</td>\n",
       "      <td>[{'type': 'text/html', 'language': None, 'base...</td>\n",
       "      <td>Circle of Friends</td>\n",
       "      <td>00:41:49</td>\n",
       "      <td>In this Dateline classic, a circle of friends ...</td>\n",
       "      <td>{'type': 'text/plain', 'language': None, 'base...</td>\n",
       "      <td>[{'term': 'gainesville', 'scheme': 'http://www...</td>\n",
       "      <td>None</td>\n",
       "      <td>full</td>\n",
       "      <td>NaN</td>\n",
       "      <td>NaN</td>\n",
       "    </tr>\n",
       "    <tr>\n",
       "      <th>1</th>\n",
       "      <td>2ec51ada-c679-4703-b2a8-97c220649343</td>\n",
       "      <td>False</td>\n",
       "      <td>Deadly Hollywood Dreams</td>\n",
       "      <td>{'type': 'text/plain', 'language': None, 'base...</td>\n",
       "      <td>In this Dateline classic, Keith Morrison tells...</td>\n",
       "      <td>{'type': 'text/plain', 'language': None, 'base...</td>\n",
       "      <td>Wed, 26 Jul 2023 10:00:00 +0000</td>\n",
       "      <td>(2023, 7, 26, 10, 0, 0, 2, 207, 0)</td>\n",
       "      <td>[{'name': 'NBC News', 'email': 'nbcnews.podcas...</td>\n",
       "      <td>NBC News</td>\n",
       "      <td>...</td>\n",
       "      <td>[{'type': 'text/html', 'language': None, 'base...</td>\n",
       "      <td>Deadly Hollywood Dreams</td>\n",
       "      <td>00:19:32</td>\n",
       "      <td>In this Dateline classic, Keith Morrison tells...</td>\n",
       "      <td>{'type': 'text/plain', 'language': None, 'base...</td>\n",
       "      <td>[{'term': 'bill bradford', 'scheme': 'http://w...</td>\n",
       "      <td>None</td>\n",
       "      <td>full</td>\n",
       "      <td>NaN</td>\n",
       "      <td>NaN</td>\n",
       "    </tr>\n",
       "    <tr>\n",
       "      <th>2</th>\n",
       "      <td>5bd7df29-92f0-45ee-99a7-81dd043d05ea</td>\n",
       "      <td>False</td>\n",
       "      <td>On the Trail of the Bike Path Rapist</td>\n",
       "      <td>{'type': 'text/plain', 'language': None, 'base...</td>\n",
       "      <td>In this Dateline classic, Keith Morrison repor...</td>\n",
       "      <td>{'type': 'text/plain', 'language': None, 'base...</td>\n",
       "      <td>Tue, 25 Jul 2023 10:00:00 +0000</td>\n",
       "      <td>(2023, 7, 25, 10, 0, 0, 1, 206, 0)</td>\n",
       "      <td>[{'name': 'NBC News', 'email': 'nbcnews.podcas...</td>\n",
       "      <td>NBC News</td>\n",
       "      <td>...</td>\n",
       "      <td>[{'type': 'text/html', 'language': None, 'base...</td>\n",
       "      <td>On the Trail of the Bike Path Rapist</td>\n",
       "      <td>00:40:12</td>\n",
       "      <td>In this Dateline classic, Keith Morrison repor...</td>\n",
       "      <td>{'type': 'text/plain', 'language': None, 'base...</td>\n",
       "      <td>[{'term': 'clarence', 'scheme': 'http://www.it...</td>\n",
       "      <td>None</td>\n",
       "      <td>full</td>\n",
       "      <td>NaN</td>\n",
       "      <td>NaN</td>\n",
       "    </tr>\n",
       "    <tr>\n",
       "      <th>3</th>\n",
       "      <td>c7b882d1-b153-4eef-a984-8110fe0bfd56</td>\n",
       "      <td>False</td>\n",
       "      <td>Diabolical</td>\n",
       "      <td>{'type': 'text/plain', 'language': None, 'base...</td>\n",
       "      <td>A bizarre cyber-revenge case lands a young wom...</td>\n",
       "      <td>{'type': 'text/plain', 'language': None, 'base...</td>\n",
       "      <td>Wed, 19 Jul 2023 10:00:00 +0000</td>\n",
       "      <td>(2023, 7, 19, 10, 0, 0, 2, 200, 0)</td>\n",
       "      <td>[{'name': 'NBC News', 'email': 'nbcnews.podcas...</td>\n",
       "      <td>NBC News</td>\n",
       "      <td>...</td>\n",
       "      <td>[{'type': 'text/html', 'language': None, 'base...</td>\n",
       "      <td>Diabolical</td>\n",
       "      <td>00:41:41</td>\n",
       "      <td>A bizarre cyber-revenge case lands a young wom...</td>\n",
       "      <td>{'type': 'text/plain', 'language': None, 'base...</td>\n",
       "      <td>[{'term': 'michelle hadley', 'scheme': 'http:/...</td>\n",
       "      <td>None</td>\n",
       "      <td>full</td>\n",
       "      <td>NaN</td>\n",
       "      <td>NaN</td>\n",
       "    </tr>\n",
       "    <tr>\n",
       "      <th>4</th>\n",
       "      <td>dff93a73-f3b8-416c-aa7b-b4c77286218d</td>\n",
       "      <td>False</td>\n",
       "      <td>Death in the Hollywood Hills</td>\n",
       "      <td>{'type': 'text/plain', 'language': None, 'base...</td>\n",
       "      <td>In this Dateline classic, a predator strikes i...</td>\n",
       "      <td>{'type': 'text/plain', 'language': None, 'base...</td>\n",
       "      <td>Tue, 18 Jul 2023 10:00:00 +0000</td>\n",
       "      <td>(2023, 7, 18, 10, 0, 0, 1, 199, 0)</td>\n",
       "      <td>[{'name': 'NBC News', 'email': 'nbcnews.podcas...</td>\n",
       "      <td>NBC News</td>\n",
       "      <td>...</td>\n",
       "      <td>[{'type': 'text/html', 'language': None, 'base...</td>\n",
       "      <td>Death in the Hollywood Hills</td>\n",
       "      <td>00:39:00</td>\n",
       "      <td>In this Dateline classic, a predator strikes i...</td>\n",
       "      <td>{'type': 'text/plain', 'language': None, 'base...</td>\n",
       "      <td>[{'term': 'michigan', 'scheme': 'http://www.it...</td>\n",
       "      <td>None</td>\n",
       "      <td>full</td>\n",
       "      <td>NaN</td>\n",
       "      <td>NaN</td>\n",
       "    </tr>\n",
       "  </tbody>\n",
       "</table>\n",
       "<p>5 rows × 23 columns</p>\n",
       "</div>"
      ],
      "text/plain": [
       "                                     id  guidislink  \\\n",
       "0  34c72474-9e16-4dec-9d90-e3b7ab47ac42       False   \n",
       "1  2ec51ada-c679-4703-b2a8-97c220649343       False   \n",
       "2  5bd7df29-92f0-45ee-99a7-81dd043d05ea       False   \n",
       "3  c7b882d1-b153-4eef-a984-8110fe0bfd56       False   \n",
       "4  dff93a73-f3b8-416c-aa7b-b4c77286218d       False   \n",
       "\n",
       "                                  title  \\\n",
       "0                     Circle of Friends   \n",
       "1               Deadly Hollywood Dreams   \n",
       "2  On the Trail of the Bike Path Rapist   \n",
       "3                            Diabolical   \n",
       "4          Death in the Hollywood Hills   \n",
       "\n",
       "                                        title_detail  \\\n",
       "0  {'type': 'text/plain', 'language': None, 'base...   \n",
       "1  {'type': 'text/plain', 'language': None, 'base...   \n",
       "2  {'type': 'text/plain', 'language': None, 'base...   \n",
       "3  {'type': 'text/plain', 'language': None, 'base...   \n",
       "4  {'type': 'text/plain', 'language': None, 'base...   \n",
       "\n",
       "                                             summary  \\\n",
       "0  In this Dateline classic, a circle of friends ...   \n",
       "1  In this Dateline classic, Keith Morrison tells...   \n",
       "2  In this Dateline classic, Keith Morrison repor...   \n",
       "3  A bizarre cyber-revenge case lands a young wom...   \n",
       "4  In this Dateline classic, a predator strikes i...   \n",
       "\n",
       "                                      summary_detail  \\\n",
       "0  {'type': 'text/plain', 'language': None, 'base...   \n",
       "1  {'type': 'text/plain', 'language': None, 'base...   \n",
       "2  {'type': 'text/plain', 'language': None, 'base...   \n",
       "3  {'type': 'text/plain', 'language': None, 'base...   \n",
       "4  {'type': 'text/plain', 'language': None, 'base...   \n",
       "\n",
       "                         published                    published_parsed  \\\n",
       "0   Tue, 1 Aug 2023 10:00:00 +0000   (2023, 8, 1, 10, 0, 0, 1, 213, 0)   \n",
       "1  Wed, 26 Jul 2023 10:00:00 +0000  (2023, 7, 26, 10, 0, 0, 2, 207, 0)   \n",
       "2  Tue, 25 Jul 2023 10:00:00 +0000  (2023, 7, 25, 10, 0, 0, 1, 206, 0)   \n",
       "3  Wed, 19 Jul 2023 10:00:00 +0000  (2023, 7, 19, 10, 0, 0, 2, 200, 0)   \n",
       "4  Tue, 18 Jul 2023 10:00:00 +0000  (2023, 7, 18, 10, 0, 0, 1, 199, 0)   \n",
       "\n",
       "                                             authors    author  ...  \\\n",
       "0  [{'name': 'NBC News', 'email': 'nbcnews.podcas...  NBC News  ...   \n",
       "1  [{'name': 'NBC News', 'email': 'nbcnews.podcas...  NBC News  ...   \n",
       "2  [{'name': 'NBC News', 'email': 'nbcnews.podcas...  NBC News  ...   \n",
       "3  [{'name': 'NBC News', 'email': 'nbcnews.podcas...  NBC News  ...   \n",
       "4  [{'name': 'NBC News', 'email': 'nbcnews.podcas...  NBC News  ...   \n",
       "\n",
       "                                             content  \\\n",
       "0  [{'type': 'text/html', 'language': None, 'base...   \n",
       "1  [{'type': 'text/html', 'language': None, 'base...   \n",
       "2  [{'type': 'text/html', 'language': None, 'base...   \n",
       "3  [{'type': 'text/html', 'language': None, 'base...   \n",
       "4  [{'type': 'text/html', 'language': None, 'base...   \n",
       "\n",
       "                           itunes_title itunes_duration  \\\n",
       "0                     Circle of Friends        00:41:49   \n",
       "1               Deadly Hollywood Dreams        00:19:32   \n",
       "2  On the Trail of the Bike Path Rapist        00:40:12   \n",
       "3                            Diabolical        00:41:41   \n",
       "4          Death in the Hollywood Hills        00:39:00   \n",
       "\n",
       "                                            subtitle  \\\n",
       "0  In this Dateline classic, a circle of friends ...   \n",
       "1  In this Dateline classic, Keith Morrison tells...   \n",
       "2  In this Dateline classic, Keith Morrison repor...   \n",
       "3  A bizarre cyber-revenge case lands a young wom...   \n",
       "4  In this Dateline classic, a predator strikes i...   \n",
       "\n",
       "                                     subtitle_detail  \\\n",
       "0  {'type': 'text/plain', 'language': None, 'base...   \n",
       "1  {'type': 'text/plain', 'language': None, 'base...   \n",
       "2  {'type': 'text/plain', 'language': None, 'base...   \n",
       "3  {'type': 'text/plain', 'language': None, 'base...   \n",
       "4  {'type': 'text/plain', 'language': None, 'base...   \n",
       "\n",
       "                                                tags itunes_explicit  \\\n",
       "0  [{'term': 'gainesville', 'scheme': 'http://www...            None   \n",
       "1  [{'term': 'bill bradford', 'scheme': 'http://w...            None   \n",
       "2  [{'term': 'clarence', 'scheme': 'http://www.it...            None   \n",
       "3  [{'term': 'michelle hadley', 'scheme': 'http:/...            None   \n",
       "4  [{'term': 'michigan', 'scheme': 'http://www.it...            None   \n",
       "\n",
       "  itunes_episodetype image itunes_episode  \n",
       "0               full   NaN            NaN  \n",
       "1               full   NaN            NaN  \n",
       "2               full   NaN            NaN  \n",
       "3               full   NaN            NaN  \n",
       "4               full   NaN            NaN  \n",
       "\n",
       "[5 rows x 23 columns]"
      ]
     },
     "execution_count": 13,
     "metadata": {},
     "output_type": "execute_result"
    }
   ],
   "source": [
    "df = pd.DataFrame(NBC.entries)\n",
    "df.head()"
   ]
  },
  {
   "cell_type": "markdown",
   "metadata": {},
   "source": [
    "### 10. Count the number of entries per author and sort them in descending order."
   ]
  },
  {
   "cell_type": "code",
   "execution_count": 14,
   "metadata": {},
   "outputs": [
    {
     "data": {
      "text/html": [
       "<div>\n",
       "<style scoped>\n",
       "    .dataframe tbody tr th:only-of-type {\n",
       "        vertical-align: middle;\n",
       "    }\n",
       "\n",
       "    .dataframe tbody tr th {\n",
       "        vertical-align: top;\n",
       "    }\n",
       "\n",
       "    .dataframe thead th {\n",
       "        text-align: right;\n",
       "    }\n",
       "</style>\n",
       "<table border=\"1\" class=\"dataframe\">\n",
       "  <thead>\n",
       "    <tr style=\"text-align: right;\">\n",
       "      <th></th>\n",
       "      <th>author</th>\n",
       "      <th>entries</th>\n",
       "    </tr>\n",
       "  </thead>\n",
       "  <tbody>\n",
       "    <tr>\n",
       "      <th>0</th>\n",
       "      <td>Keith Morrison</td>\n",
       "      <td>1</td>\n",
       "    </tr>\n",
       "    <tr>\n",
       "      <th>1</th>\n",
       "      <td>NBC News</td>\n",
       "      <td>453</td>\n",
       "    </tr>\n",
       "  </tbody>\n",
       "</table>\n",
       "</div>"
      ],
      "text/plain": [
       "           author  entries\n",
       "0  Keith Morrison        1\n",
       "1        NBC News      453"
      ]
     },
     "execution_count": 14,
     "metadata": {},
     "output_type": "execute_result"
    }
   ],
   "source": [
    "authors = df.groupby('author', as_index=False).agg({'title':'count'})\n",
    "authors.columns = ['author', 'entries']\n",
    "authors.sort_values('entries', ascending=False)\n",
    "authors"
   ]
  },
  {
   "cell_type": "markdown",
   "metadata": {},
   "source": [
    "### 11. Add a new column to the data frame that contains the length (number of characters) of each entry title. Return a data frame that contains the title, author, and title length of each entry in descending order (longest title length at the top)."
   ]
  },
  {
   "cell_type": "code",
   "execution_count": 15,
   "metadata": {},
   "outputs": [
    {
     "data": {
      "text/html": [
       "<div>\n",
       "<style scoped>\n",
       "    .dataframe tbody tr th:only-of-type {\n",
       "        vertical-align: middle;\n",
       "    }\n",
       "\n",
       "    .dataframe tbody tr th {\n",
       "        vertical-align: top;\n",
       "    }\n",
       "\n",
       "    .dataframe thead th {\n",
       "        text-align: right;\n",
       "    }\n",
       "</style>\n",
       "<table border=\"1\" class=\"dataframe\">\n",
       "  <thead>\n",
       "    <tr style=\"text-align: right;\">\n",
       "      <th></th>\n",
       "      <th>id</th>\n",
       "      <th>guidislink</th>\n",
       "      <th>title</th>\n",
       "      <th>title_detail</th>\n",
       "      <th>summary</th>\n",
       "      <th>summary_detail</th>\n",
       "      <th>published</th>\n",
       "      <th>published_parsed</th>\n",
       "      <th>authors</th>\n",
       "      <th>author</th>\n",
       "      <th>...</th>\n",
       "      <th>itunes_title</th>\n",
       "      <th>itunes_duration</th>\n",
       "      <th>subtitle</th>\n",
       "      <th>subtitle_detail</th>\n",
       "      <th>tags</th>\n",
       "      <th>itunes_explicit</th>\n",
       "      <th>itunes_episodetype</th>\n",
       "      <th>image</th>\n",
       "      <th>itunes_episode</th>\n",
       "      <th>title_length</th>\n",
       "    </tr>\n",
       "  </thead>\n",
       "  <tbody>\n",
       "    <tr>\n",
       "      <th>0</th>\n",
       "      <td>34c72474-9e16-4dec-9d90-e3b7ab47ac42</td>\n",
       "      <td>False</td>\n",
       "      <td>Circle of Friends</td>\n",
       "      <td>{'type': 'text/plain', 'language': None, 'base...</td>\n",
       "      <td>In this Dateline classic, a circle of friends ...</td>\n",
       "      <td>{'type': 'text/plain', 'language': None, 'base...</td>\n",
       "      <td>Tue, 1 Aug 2023 10:00:00 +0000</td>\n",
       "      <td>(2023, 8, 1, 10, 0, 0, 1, 213, 0)</td>\n",
       "      <td>[{'name': 'NBC News', 'email': 'nbcnews.podcas...</td>\n",
       "      <td>NBC News</td>\n",
       "      <td>...</td>\n",
       "      <td>Circle of Friends</td>\n",
       "      <td>00:41:49</td>\n",
       "      <td>In this Dateline classic, a circle of friends ...</td>\n",
       "      <td>{'type': 'text/plain', 'language': None, 'base...</td>\n",
       "      <td>[{'term': 'gainesville', 'scheme': 'http://www...</td>\n",
       "      <td>None</td>\n",
       "      <td>full</td>\n",
       "      <td>NaN</td>\n",
       "      <td>NaN</td>\n",
       "      <td>17</td>\n",
       "    </tr>\n",
       "    <tr>\n",
       "      <th>1</th>\n",
       "      <td>2ec51ada-c679-4703-b2a8-97c220649343</td>\n",
       "      <td>False</td>\n",
       "      <td>Deadly Hollywood Dreams</td>\n",
       "      <td>{'type': 'text/plain', 'language': None, 'base...</td>\n",
       "      <td>In this Dateline classic, Keith Morrison tells...</td>\n",
       "      <td>{'type': 'text/plain', 'language': None, 'base...</td>\n",
       "      <td>Wed, 26 Jul 2023 10:00:00 +0000</td>\n",
       "      <td>(2023, 7, 26, 10, 0, 0, 2, 207, 0)</td>\n",
       "      <td>[{'name': 'NBC News', 'email': 'nbcnews.podcas...</td>\n",
       "      <td>NBC News</td>\n",
       "      <td>...</td>\n",
       "      <td>Deadly Hollywood Dreams</td>\n",
       "      <td>00:19:32</td>\n",
       "      <td>In this Dateline classic, Keith Morrison tells...</td>\n",
       "      <td>{'type': 'text/plain', 'language': None, 'base...</td>\n",
       "      <td>[{'term': 'bill bradford', 'scheme': 'http://w...</td>\n",
       "      <td>None</td>\n",
       "      <td>full</td>\n",
       "      <td>NaN</td>\n",
       "      <td>NaN</td>\n",
       "      <td>23</td>\n",
       "    </tr>\n",
       "    <tr>\n",
       "      <th>2</th>\n",
       "      <td>5bd7df29-92f0-45ee-99a7-81dd043d05ea</td>\n",
       "      <td>False</td>\n",
       "      <td>On the Trail of the Bike Path Rapist</td>\n",
       "      <td>{'type': 'text/plain', 'language': None, 'base...</td>\n",
       "      <td>In this Dateline classic, Keith Morrison repor...</td>\n",
       "      <td>{'type': 'text/plain', 'language': None, 'base...</td>\n",
       "      <td>Tue, 25 Jul 2023 10:00:00 +0000</td>\n",
       "      <td>(2023, 7, 25, 10, 0, 0, 1, 206, 0)</td>\n",
       "      <td>[{'name': 'NBC News', 'email': 'nbcnews.podcas...</td>\n",
       "      <td>NBC News</td>\n",
       "      <td>...</td>\n",
       "      <td>On the Trail of the Bike Path Rapist</td>\n",
       "      <td>00:40:12</td>\n",
       "      <td>In this Dateline classic, Keith Morrison repor...</td>\n",
       "      <td>{'type': 'text/plain', 'language': None, 'base...</td>\n",
       "      <td>[{'term': 'clarence', 'scheme': 'http://www.it...</td>\n",
       "      <td>None</td>\n",
       "      <td>full</td>\n",
       "      <td>NaN</td>\n",
       "      <td>NaN</td>\n",
       "      <td>36</td>\n",
       "    </tr>\n",
       "    <tr>\n",
       "      <th>3</th>\n",
       "      <td>c7b882d1-b153-4eef-a984-8110fe0bfd56</td>\n",
       "      <td>False</td>\n",
       "      <td>Diabolical</td>\n",
       "      <td>{'type': 'text/plain', 'language': None, 'base...</td>\n",
       "      <td>A bizarre cyber-revenge case lands a young wom...</td>\n",
       "      <td>{'type': 'text/plain', 'language': None, 'base...</td>\n",
       "      <td>Wed, 19 Jul 2023 10:00:00 +0000</td>\n",
       "      <td>(2023, 7, 19, 10, 0, 0, 2, 200, 0)</td>\n",
       "      <td>[{'name': 'NBC News', 'email': 'nbcnews.podcas...</td>\n",
       "      <td>NBC News</td>\n",
       "      <td>...</td>\n",
       "      <td>Diabolical</td>\n",
       "      <td>00:41:41</td>\n",
       "      <td>A bizarre cyber-revenge case lands a young wom...</td>\n",
       "      <td>{'type': 'text/plain', 'language': None, 'base...</td>\n",
       "      <td>[{'term': 'michelle hadley', 'scheme': 'http:/...</td>\n",
       "      <td>None</td>\n",
       "      <td>full</td>\n",
       "      <td>NaN</td>\n",
       "      <td>NaN</td>\n",
       "      <td>10</td>\n",
       "    </tr>\n",
       "    <tr>\n",
       "      <th>4</th>\n",
       "      <td>dff93a73-f3b8-416c-aa7b-b4c77286218d</td>\n",
       "      <td>False</td>\n",
       "      <td>Death in the Hollywood Hills</td>\n",
       "      <td>{'type': 'text/plain', 'language': None, 'base...</td>\n",
       "      <td>In this Dateline classic, a predator strikes i...</td>\n",
       "      <td>{'type': 'text/plain', 'language': None, 'base...</td>\n",
       "      <td>Tue, 18 Jul 2023 10:00:00 +0000</td>\n",
       "      <td>(2023, 7, 18, 10, 0, 0, 1, 199, 0)</td>\n",
       "      <td>[{'name': 'NBC News', 'email': 'nbcnews.podcas...</td>\n",
       "      <td>NBC News</td>\n",
       "      <td>...</td>\n",
       "      <td>Death in the Hollywood Hills</td>\n",
       "      <td>00:39:00</td>\n",
       "      <td>In this Dateline classic, a predator strikes i...</td>\n",
       "      <td>{'type': 'text/plain', 'language': None, 'base...</td>\n",
       "      <td>[{'term': 'michigan', 'scheme': 'http://www.it...</td>\n",
       "      <td>None</td>\n",
       "      <td>full</td>\n",
       "      <td>NaN</td>\n",
       "      <td>NaN</td>\n",
       "      <td>28</td>\n",
       "    </tr>\n",
       "  </tbody>\n",
       "</table>\n",
       "<p>5 rows × 24 columns</p>\n",
       "</div>"
      ],
      "text/plain": [
       "                                     id  guidislink  \\\n",
       "0  34c72474-9e16-4dec-9d90-e3b7ab47ac42       False   \n",
       "1  2ec51ada-c679-4703-b2a8-97c220649343       False   \n",
       "2  5bd7df29-92f0-45ee-99a7-81dd043d05ea       False   \n",
       "3  c7b882d1-b153-4eef-a984-8110fe0bfd56       False   \n",
       "4  dff93a73-f3b8-416c-aa7b-b4c77286218d       False   \n",
       "\n",
       "                                  title  \\\n",
       "0                     Circle of Friends   \n",
       "1               Deadly Hollywood Dreams   \n",
       "2  On the Trail of the Bike Path Rapist   \n",
       "3                            Diabolical   \n",
       "4          Death in the Hollywood Hills   \n",
       "\n",
       "                                        title_detail  \\\n",
       "0  {'type': 'text/plain', 'language': None, 'base...   \n",
       "1  {'type': 'text/plain', 'language': None, 'base...   \n",
       "2  {'type': 'text/plain', 'language': None, 'base...   \n",
       "3  {'type': 'text/plain', 'language': None, 'base...   \n",
       "4  {'type': 'text/plain', 'language': None, 'base...   \n",
       "\n",
       "                                             summary  \\\n",
       "0  In this Dateline classic, a circle of friends ...   \n",
       "1  In this Dateline classic, Keith Morrison tells...   \n",
       "2  In this Dateline classic, Keith Morrison repor...   \n",
       "3  A bizarre cyber-revenge case lands a young wom...   \n",
       "4  In this Dateline classic, a predator strikes i...   \n",
       "\n",
       "                                      summary_detail  \\\n",
       "0  {'type': 'text/plain', 'language': None, 'base...   \n",
       "1  {'type': 'text/plain', 'language': None, 'base...   \n",
       "2  {'type': 'text/plain', 'language': None, 'base...   \n",
       "3  {'type': 'text/plain', 'language': None, 'base...   \n",
       "4  {'type': 'text/plain', 'language': None, 'base...   \n",
       "\n",
       "                         published                    published_parsed  \\\n",
       "0   Tue, 1 Aug 2023 10:00:00 +0000   (2023, 8, 1, 10, 0, 0, 1, 213, 0)   \n",
       "1  Wed, 26 Jul 2023 10:00:00 +0000  (2023, 7, 26, 10, 0, 0, 2, 207, 0)   \n",
       "2  Tue, 25 Jul 2023 10:00:00 +0000  (2023, 7, 25, 10, 0, 0, 1, 206, 0)   \n",
       "3  Wed, 19 Jul 2023 10:00:00 +0000  (2023, 7, 19, 10, 0, 0, 2, 200, 0)   \n",
       "4  Tue, 18 Jul 2023 10:00:00 +0000  (2023, 7, 18, 10, 0, 0, 1, 199, 0)   \n",
       "\n",
       "                                             authors    author  ...  \\\n",
       "0  [{'name': 'NBC News', 'email': 'nbcnews.podcas...  NBC News  ...   \n",
       "1  [{'name': 'NBC News', 'email': 'nbcnews.podcas...  NBC News  ...   \n",
       "2  [{'name': 'NBC News', 'email': 'nbcnews.podcas...  NBC News  ...   \n",
       "3  [{'name': 'NBC News', 'email': 'nbcnews.podcas...  NBC News  ...   \n",
       "4  [{'name': 'NBC News', 'email': 'nbcnews.podcas...  NBC News  ...   \n",
       "\n",
       "                           itunes_title itunes_duration  \\\n",
       "0                     Circle of Friends        00:41:49   \n",
       "1               Deadly Hollywood Dreams        00:19:32   \n",
       "2  On the Trail of the Bike Path Rapist        00:40:12   \n",
       "3                            Diabolical        00:41:41   \n",
       "4          Death in the Hollywood Hills        00:39:00   \n",
       "\n",
       "                                            subtitle  \\\n",
       "0  In this Dateline classic, a circle of friends ...   \n",
       "1  In this Dateline classic, Keith Morrison tells...   \n",
       "2  In this Dateline classic, Keith Morrison repor...   \n",
       "3  A bizarre cyber-revenge case lands a young wom...   \n",
       "4  In this Dateline classic, a predator strikes i...   \n",
       "\n",
       "                                     subtitle_detail  \\\n",
       "0  {'type': 'text/plain', 'language': None, 'base...   \n",
       "1  {'type': 'text/plain', 'language': None, 'base...   \n",
       "2  {'type': 'text/plain', 'language': None, 'base...   \n",
       "3  {'type': 'text/plain', 'language': None, 'base...   \n",
       "4  {'type': 'text/plain', 'language': None, 'base...   \n",
       "\n",
       "                                                tags itunes_explicit  \\\n",
       "0  [{'term': 'gainesville', 'scheme': 'http://www...            None   \n",
       "1  [{'term': 'bill bradford', 'scheme': 'http://w...            None   \n",
       "2  [{'term': 'clarence', 'scheme': 'http://www.it...            None   \n",
       "3  [{'term': 'michelle hadley', 'scheme': 'http:/...            None   \n",
       "4  [{'term': 'michigan', 'scheme': 'http://www.it...            None   \n",
       "\n",
       "  itunes_episodetype image itunes_episode title_length  \n",
       "0               full   NaN            NaN           17  \n",
       "1               full   NaN            NaN           23  \n",
       "2               full   NaN            NaN           36  \n",
       "3               full   NaN            NaN           10  \n",
       "4               full   NaN            NaN           28  \n",
       "\n",
       "[5 rows x 24 columns]"
      ]
     },
     "execution_count": 15,
     "metadata": {},
     "output_type": "execute_result"
    }
   ],
   "source": [
    "df[\"title_length\"] = df[\"title\"].apply(len)\n",
    "df.head()"
   ]
  },
  {
   "cell_type": "markdown",
   "metadata": {},
   "source": [
    "### 12. Create a list of entry titles whose summary includes the phrase \"machine learning.\""
   ]
  },
  {
   "cell_type": "code",
   "execution_count": 16,
   "metadata": {},
   "outputs": [
    {
     "data": {
      "text/plain": [
       "[]"
      ]
     },
     "execution_count": 16,
     "metadata": {},
     "output_type": "execute_result"
    }
   ],
   "source": [
    "list1 = list(df[df[\"summary\"].str.contains(\"machine learning\")][\"title\"])\n",
    "list1"
   ]
  }
 ],
 "metadata": {
  "kernelspec": {
   "display_name": "Python 3 (ipykernel)",
   "language": "python",
   "name": "python3"
  },
  "language_info": {
   "codemirror_mode": {
    "name": "ipython",
    "version": 3
   },
   "file_extension": ".py",
   "mimetype": "text/x-python",
   "name": "python",
   "nbconvert_exporter": "python",
   "pygments_lexer": "ipython3",
   "version": "3.10.9"
  }
 },
 "nbformat": 4,
 "nbformat_minor": 2
}
