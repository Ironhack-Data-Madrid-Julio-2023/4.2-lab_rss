{
 "cells": [
  {
   "cell_type": "markdown",
   "metadata": {},
   "source": [
    "# Working with RSS Feeds Lab\n",
    "\n",
    "Complete the following set of exercises to solidify your knowledge of parsing RSS feeds and extracting information from them."
   ]
  },
  {
   "cell_type": "code",
   "execution_count": 1,
   "metadata": {},
   "outputs": [
    {
     "name": "stdout",
     "output_type": "stream",
     "text": [
      "Requirement already satisfied: feedparser in /Volumes/Esteban/APLICACIONES/anaconda3/lib/python3.10/site-packages (6.0.10)\n",
      "Requirement already satisfied: sgmllib3k in /Volumes/Esteban/APLICACIONES/anaconda3/lib/python3.10/site-packages (from feedparser) (1.0.0)\n",
      "Note: you may need to restart the kernel to use updated packages.\n"
     ]
    }
   ],
   "source": [
    "%pip install feedparser"
   ]
  },
  {
   "cell_type": "code",
   "execution_count": 2,
   "metadata": {},
   "outputs": [
    {
     "name": "stdout",
     "output_type": "stream",
     "text": [
      "Requirement already satisfied: beautifulsoup4 in /Volumes/Esteban/APLICACIONES/anaconda3/lib/python3.10/site-packages (4.11.1)\n",
      "Requirement already satisfied: soupsieve>1.2 in /Volumes/Esteban/APLICACIONES/anaconda3/lib/python3.10/site-packages (from beautifulsoup4) (2.3.2.post1)\n",
      "Note: you may need to restart the kernel to use updated packages.\n"
     ]
    }
   ],
   "source": [
    "%pip install beautifulsoup4"
   ]
  },
  {
   "cell_type": "code",
   "execution_count": 3,
   "metadata": {},
   "outputs": [],
   "source": [
    "import feedparser"
   ]
  },
  {
   "cell_type": "markdown",
   "metadata": {},
   "source": [
    "### 1. Use feedparser to parse the following RSS feed URL."
   ]
  },
  {
   "cell_type": "code",
   "execution_count": 5,
   "metadata": {},
   "outputs": [],
   "source": [
    "apo = feedparser.parse('https://rss.art19.com/apology-line')"
   ]
  },
  {
   "cell_type": "code",
   "execution_count": null,
   "metadata": {},
   "outputs": [],
   "source": []
  },
  {
   "cell_type": "markdown",
   "metadata": {},
   "source": [
    "### 2. Obtain a list of components (keys) that are available for this feed."
   ]
  },
  {
   "cell_type": "code",
   "execution_count": 7,
   "metadata": {},
   "outputs": [
    {
     "data": {
      "text/plain": [
       "dict_keys(['bozo', 'entries', 'feed', 'headers', 'updated', 'updated_parsed', 'href', 'status', 'encoding', 'version', 'namespaces'])"
      ]
     },
     "execution_count": 7,
     "metadata": {},
     "output_type": "execute_result"
    }
   ],
   "source": [
    "apo.keys()"
   ]
  },
  {
   "cell_type": "markdown",
   "metadata": {},
   "source": [
    "### 3. Obtain a list of components (keys) that are available for the *feed* component of this RSS feed."
   ]
  },
  {
   "cell_type": "code",
   "execution_count": 9,
   "metadata": {},
   "outputs": [
    {
     "data": {
      "text/plain": [
       "dict_keys(['title', 'title_detail', 'subtitle', 'subtitle_detail', 'authors', 'author', 'author_detail', 'rights', 'rights_detail', 'generator_detail', 'generator', 'links', 'link', 'publisher_detail', 'summary', 'summary_detail', 'language', 'itunes_explicit', 'tags', 'itunes_type', 'image'])"
      ]
     },
     "execution_count": 9,
     "metadata": {},
     "output_type": "execute_result"
    }
   ],
   "source": [
    "apo['feed'].keys()"
   ]
  },
  {
   "cell_type": "markdown",
   "metadata": {},
   "source": [
    "### 4. Extract and print the feed title, subtitle, author, and link."
   ]
  },
  {
   "cell_type": "code",
   "execution_count": 13,
   "metadata": {},
   "outputs": [
    {
     "data": {
      "text/plain": [
       "dict_keys(['title', 'title_detail', 'summary', 'summary_detail', 'itunes_title', 'itunes_episodetype', 'content', 'id', 'guidislink', 'published', 'published_parsed', 'itunes_explicit', 'image', 'tags', 'itunes_duration', 'links'])"
      ]
     },
     "execution_count": 13,
     "metadata": {},
     "output_type": "execute_result"
    }
   ],
   "source": [
    "apo['entries'][0].keys()"
   ]
  },
  {
   "cell_type": "code",
   "execution_count": 30,
   "metadata": {},
   "outputs": [
    {
     "data": {
      "text/plain": [
       "'Listen Now - Think Twice: Michael Jackson'"
      ]
     },
     "execution_count": 30,
     "metadata": {},
     "output_type": "execute_result"
    }
   ],
   "source": [
    "apo['entries'][0]['title']\n"
   ]
  },
  {
   "cell_type": "code",
   "execution_count": 32,
   "metadata": {},
   "outputs": [
    {
     "data": {
      "text/plain": [
       "'Mon, 31 Jul 2023 08:00:00 -0000'"
      ]
     },
     "execution_count": 32,
     "metadata": {},
     "output_type": "execute_result"
    }
   ],
   "source": [
    "apo['entries'][0]['published']"
   ]
  },
  {
   "cell_type": "code",
   "execution_count": 33,
   "metadata": {},
   "outputs": [
    {
     "data": {
      "text/plain": [
       "[{'type': 'audio/mpeg',\n",
       "  'length': '7488574',\n",
       "  'href': 'https://dts.podtrac.com/redirect.mp3/chrt.fm/track/9EE2G/pdst.fm/e/rss.art19.com/episodes/67cf9018-16e0-46a4-b91a-8a2f0b34e425.mp3?rss_browser=BAhJIg9mZWVkcGFyc2VyBjoGRVQ%3D--6249cc52a45c5995843f2b1fcedbd2955c2d7057',\n",
       "  'rel': 'enclosure'}]"
      ]
     },
     "execution_count": 33,
     "metadata": {},
     "output_type": "execute_result"
    }
   ],
   "source": [
    "apo['entries'][0]['links']"
   ]
  },
  {
   "cell_type": "code",
   "execution_count": 18,
   "metadata": {},
   "outputs": [
    {
     "data": {
      "text/plain": [
       "[{'type': 'text/plain',\n",
       "  'language': None,\n",
       "  'base': 'https://rss.art19.com/apology-line',\n",
       "  'value': 'More than a decade since Michael Jackson’s death, his legacy remains complicated and unresolved. Think Twice: Michael Jackson is an exploration of the King of Pop’s life and impact – and an investigation into why his global influence continues to endure, despite the disturbing allegations against him. In this ten-part series, journalists Leon Neyfakh and Jay Smooth bring you a new perspective on the Michael Jackson story, based on dozens of original interviews with people who watched it unfold from up close.\\n\\nListen wherever you listen to podcasts. You can binge all ten episodes of Think Twice: Michael Jackson, ad-free on the Amazon Music or Audible: Wondery.fm/Think_Twice\\n\\nSee Privacy Policy at https://art19.com/privacy and California Privacy Notice at https://art19.com/privacy#do-not-sell-my-info.'},\n",
       " {'type': 'text/html',\n",
       "  'language': None,\n",
       "  'base': 'https://rss.art19.com/apology-line',\n",
       "  'value': '<p>More than a decade since Michael Jackson’s death, his legacy remains complicated and unresolved. Think Twice: Michael Jackson is an exploration of the King of Pop’s life and impact – and an investigation into why his global influence continues to endure, despite the disturbing allegations against him. In this ten-part series, journalists Leon Neyfakh and Jay Smooth bring you a new perspective on the Michael Jackson story, based on dozens of original interviews with people who watched it unfold from up close.</p><p>Listen wherever you listen to podcasts. You can binge all ten episodes of Think Twice: Michael Jackson, ad-free on the Amazon Music or Audible: <a href=\"http://Wondery.fm/Think_Twice\" rel=\"noopener noreferrer\" target=\"_blank\">Wondery.fm/Think_Twice</a></p><p>See Privacy Policy at <a href=\"https://art19.com/privacy\" rel=\"noopener noreferrer\" target=\"_blank\">https://art19.com/privacy</a> and California Privacy Notice at <a href=\"https://art19.com/privacy#do-not-sell-my-info\" rel=\"noopener noreferrer\" target=\"_blank\">https://art19.com/privacy#do-not-sell-my-info</a>.</p>'}]"
      ]
     },
     "execution_count": 18,
     "metadata": {},
     "output_type": "execute_result"
    }
   ],
   "source": [
    "apo['entries'][0]['content']"
   ]
  },
  {
   "cell_type": "markdown",
   "metadata": {},
   "source": [
    "### 5. Count the number of entries that are contained in this RSS feed."
   ]
  },
  {
   "cell_type": "code",
   "execution_count": 16,
   "metadata": {},
   "outputs": [
    {
     "data": {
      "text/plain": [
       "6"
      ]
     },
     "execution_count": 16,
     "metadata": {},
     "output_type": "execute_result"
    }
   ],
   "source": [
    "len(apo['entries'])"
   ]
  },
  {
   "cell_type": "code",
   "execution_count": null,
   "metadata": {},
   "outputs": [],
   "source": []
  },
  {
   "cell_type": "markdown",
   "metadata": {},
   "source": [
    "### 6. Obtain a list of components (keys) available for an entry.\n",
    "\n",
    "*Hint: Remember to index first before requesting the keys*"
   ]
  },
  {
   "cell_type": "code",
   "execution_count": 38,
   "metadata": {},
   "outputs": [
    {
     "data": {
      "text/plain": [
       "dict_keys(['title', 'title_detail', 'summary', 'summary_detail', 'itunes_title', 'itunes_episodetype', 'content', 'id', 'guidislink', 'published', 'published_parsed', 'itunes_explicit', 'image', 'tags', 'itunes_duration', 'links'])"
      ]
     },
     "execution_count": 38,
     "metadata": {},
     "output_type": "execute_result"
    }
   ],
   "source": [
    "apo['entries'][0].keys()"
   ]
  },
  {
   "cell_type": "code",
   "execution_count": 37,
   "metadata": {},
   "outputs": [
    {
     "name": "stdout",
     "output_type": "stream",
     "text": [
      "6\n"
     ]
    }
   ],
   "source": [
    "titles = (len(apo.entries))\n",
    "print(titles)"
   ]
  },
  {
   "cell_type": "markdown",
   "metadata": {},
   "source": [
    "### 7. Extract a list of entry titles."
   ]
  },
  {
   "cell_type": "code",
   "execution_count": 35,
   "metadata": {},
   "outputs": [
    {
     "name": "stdout",
     "output_type": "stream",
     "text": [
      "['Listen Now - Think Twice: Michael Jackson', 'Listen Now: Suspect \"Five Shots in the Dark\"', 'Where to find Episodes 2-7 of The Apology Line', 'Introducing: The Generation Why', 'Who’s Sorry Now? | 1', 'Introducing: The Apology Line']\n"
     ]
    }
   ],
   "source": [
    "titles = [apo.entries[i].title for i in range(len(apo.entries))]\n",
    "print(titles)"
   ]
  },
  {
   "cell_type": "markdown",
   "metadata": {},
   "source": [
    "### 8. Calculate the percentage of \"Four short links\" entry titles."
   ]
  },
  {
   "cell_type": "code",
   "execution_count": null,
   "metadata": {},
   "outputs": [],
   "source": []
  },
  {
   "cell_type": "markdown",
   "metadata": {},
   "source": [
    "### 9. Create a Pandas data frame from the feed's entries."
   ]
  },
  {
   "cell_type": "code",
   "execution_count": 39,
   "metadata": {},
   "outputs": [
    {
     "data": {
      "text/html": [
       "<div>\n",
       "<style scoped>\n",
       "    .dataframe tbody tr th:only-of-type {\n",
       "        vertical-align: middle;\n",
       "    }\n",
       "\n",
       "    .dataframe tbody tr th {\n",
       "        vertical-align: top;\n",
       "    }\n",
       "\n",
       "    .dataframe thead th {\n",
       "        text-align: right;\n",
       "    }\n",
       "</style>\n",
       "<table border=\"1\" class=\"dataframe\">\n",
       "  <thead>\n",
       "    <tr style=\"text-align: right;\">\n",
       "      <th></th>\n",
       "      <th>title</th>\n",
       "      <th>title_detail</th>\n",
       "      <th>summary</th>\n",
       "      <th>summary_detail</th>\n",
       "      <th>itunes_title</th>\n",
       "      <th>itunes_episodetype</th>\n",
       "      <th>content</th>\n",
       "      <th>id</th>\n",
       "      <th>guidislink</th>\n",
       "      <th>published</th>\n",
       "      <th>published_parsed</th>\n",
       "      <th>itunes_explicit</th>\n",
       "      <th>image</th>\n",
       "      <th>tags</th>\n",
       "      <th>itunes_duration</th>\n",
       "      <th>links</th>\n",
       "      <th>itunes_episode</th>\n",
       "    </tr>\n",
       "  </thead>\n",
       "  <tbody>\n",
       "    <tr>\n",
       "      <th>0</th>\n",
       "      <td>Listen Now - Think Twice: Michael Jackson</td>\n",
       "      <td>{'type': 'text/plain', 'language': None, 'base...</td>\n",
       "      <td>&lt;p&gt;More than a decade since Michael Jackson’s ...</td>\n",
       "      <td>{'type': 'text/html', 'language': None, 'base'...</td>\n",
       "      <td>Listen Now - Think Twice: Michael Jackson</td>\n",
       "      <td>trailer</td>\n",
       "      <td>[{'type': 'text/plain', 'language': None, 'bas...</td>\n",
       "      <td>gid://art19-episode-locator/V0/RB0GUh28sKfRDnX...</td>\n",
       "      <td>False</td>\n",
       "      <td>Mon, 31 Jul 2023 08:00:00 -0000</td>\n",
       "      <td>(2023, 7, 31, 8, 0, 0, 0, 212, 0)</td>\n",
       "      <td>True</td>\n",
       "      <td>{'href': 'https://content.production.cdn.art19...</td>\n",
       "      <td>[{'term': 'SERIAL KILLER', 'scheme': 'http://w...</td>\n",
       "      <td>00:07:48</td>\n",
       "      <td>[{'type': 'audio/mpeg', 'length': '7488574', '...</td>\n",
       "      <td>NaN</td>\n",
       "    </tr>\n",
       "    <tr>\n",
       "      <th>1</th>\n",
       "      <td>Listen Now: Suspect \"Five Shots in the Dark\"</td>\n",
       "      <td>{'type': 'text/plain', 'language': None, 'base...</td>\n",
       "      <td>&lt;p&gt;Suspect is an investigative series about mi...</td>\n",
       "      <td>{'type': 'text/html', 'language': None, 'base'...</td>\n",
       "      <td>Listen Now: Suspect \"Five Shots in the Dark\"</td>\n",
       "      <td>trailer</td>\n",
       "      <td>[{'type': 'text/plain', 'language': None, 'bas...</td>\n",
       "      <td>gid://art19-episode-locator/V0/zOcPUHGtQrWg5FP...</td>\n",
       "      <td>False</td>\n",
       "      <td>Mon, 17 Jul 2023 08:00:00 -0000</td>\n",
       "      <td>(2023, 7, 17, 8, 0, 0, 0, 198, 0)</td>\n",
       "      <td>True</td>\n",
       "      <td>{'href': 'https://content.production.cdn.art19...</td>\n",
       "      <td>[{'term': 'serial killer', 'scheme': 'http://w...</td>\n",
       "      <td>00:06:02</td>\n",
       "      <td>[{'type': 'audio/mpeg', 'length': '5797093', '...</td>\n",
       "      <td>NaN</td>\n",
       "    </tr>\n",
       "    <tr>\n",
       "      <th>2</th>\n",
       "      <td>Where to find Episodes 2-7 of The Apology Line</td>\n",
       "      <td>{'type': 'text/plain', 'language': None, 'base...</td>\n",
       "      <td>&lt;p&gt;The Apology Line has moved. You can listen ...</td>\n",
       "      <td>{'type': 'text/html', 'language': None, 'base'...</td>\n",
       "      <td>Where to find Episodes 2-7 of The Apology Line</td>\n",
       "      <td>bonus</td>\n",
       "      <td>[{'type': 'text/plain', 'language': None, 'bas...</td>\n",
       "      <td>gid://art19-episode-locator/V0/FZOLMXrfpw3yiFJ...</td>\n",
       "      <td>False</td>\n",
       "      <td>Mon, 03 Jul 2023 15:28:44 -0000</td>\n",
       "      <td>(2023, 7, 3, 15, 28, 44, 0, 184, 0)</td>\n",
       "      <td>True</td>\n",
       "      <td>{'href': 'https://content.production.cdn.art19...</td>\n",
       "      <td>[{'term': 'SERIAL KILLER', 'scheme': 'http://w...</td>\n",
       "      <td>00:00:51</td>\n",
       "      <td>[{'type': 'audio/mpeg', 'length': '827559', 'h...</td>\n",
       "      <td>NaN</td>\n",
       "    </tr>\n",
       "    <tr>\n",
       "      <th>3</th>\n",
       "      <td>Introducing: The Generation Why</td>\n",
       "      <td>{'type': 'text/plain', 'language': None, 'base...</td>\n",
       "      <td>&lt;p&gt;The Generation Why Podcast released its fir...</td>\n",
       "      <td>{'type': 'text/html', 'language': None, 'base'...</td>\n",
       "      <td>Introducing: The Generation Why</td>\n",
       "      <td>trailer</td>\n",
       "      <td>[{'type': 'text/html', 'language': None, 'base...</td>\n",
       "      <td>gid://art19-episode-locator/V0/sUtNdRf3gL71KX2...</td>\n",
       "      <td>False</td>\n",
       "      <td>Mon, 03 Jul 2023 08:00:00 -0000</td>\n",
       "      <td>(2023, 7, 3, 8, 0, 0, 0, 184, 0)</td>\n",
       "      <td>True</td>\n",
       "      <td>{'href': 'https://content.production.cdn.art19...</td>\n",
       "      <td>[{'term': 'SERIAL KILLER', 'scheme': 'http://w...</td>\n",
       "      <td>00:08:10</td>\n",
       "      <td>[{'type': 'audio/mpeg', 'length': '7840914', '...</td>\n",
       "      <td>NaN</td>\n",
       "    </tr>\n",
       "    <tr>\n",
       "      <th>4</th>\n",
       "      <td>Who’s Sorry Now? | 1</td>\n",
       "      <td>{'type': 'text/plain', 'language': None, 'base...</td>\n",
       "      <td>&lt;p&gt;Marissa Bridge has only had a premonition t...</td>\n",
       "      <td>{'type': 'text/html', 'language': None, 'base'...</td>\n",
       "      <td>Who’s Sorry Now?</td>\n",
       "      <td>full</td>\n",
       "      <td>[{'type': 'text/plain', 'language': None, 'bas...</td>\n",
       "      <td>gid://art19-episode-locator/V0/eZqOUfJOCHVNII-...</td>\n",
       "      <td>False</td>\n",
       "      <td>Sun, 17 Jan 2021 08:00:00 -0000</td>\n",
       "      <td>(2021, 1, 17, 8, 0, 0, 6, 17, 0)</td>\n",
       "      <td>True</td>\n",
       "      <td>{'href': 'https://content.production.cdn.art19...</td>\n",
       "      <td>[{'term': 'Exhibit C', 'scheme': 'http://www.i...</td>\n",
       "      <td>00:37:20</td>\n",
       "      <td>[{'type': 'audio/mpeg', 'length': '35845433', ...</td>\n",
       "      <td>1</td>\n",
       "    </tr>\n",
       "  </tbody>\n",
       "</table>\n",
       "</div>"
      ],
      "text/plain": [
       "                                            title  \\\n",
       "0       Listen Now - Think Twice: Michael Jackson   \n",
       "1    Listen Now: Suspect \"Five Shots in the Dark\"   \n",
       "2  Where to find Episodes 2-7 of The Apology Line   \n",
       "3                 Introducing: The Generation Why   \n",
       "4                            Who’s Sorry Now? | 1   \n",
       "\n",
       "                                        title_detail  \\\n",
       "0  {'type': 'text/plain', 'language': None, 'base...   \n",
       "1  {'type': 'text/plain', 'language': None, 'base...   \n",
       "2  {'type': 'text/plain', 'language': None, 'base...   \n",
       "3  {'type': 'text/plain', 'language': None, 'base...   \n",
       "4  {'type': 'text/plain', 'language': None, 'base...   \n",
       "\n",
       "                                             summary  \\\n",
       "0  <p>More than a decade since Michael Jackson’s ...   \n",
       "1  <p>Suspect is an investigative series about mi...   \n",
       "2  <p>The Apology Line has moved. You can listen ...   \n",
       "3  <p>The Generation Why Podcast released its fir...   \n",
       "4  <p>Marissa Bridge has only had a premonition t...   \n",
       "\n",
       "                                      summary_detail  \\\n",
       "0  {'type': 'text/html', 'language': None, 'base'...   \n",
       "1  {'type': 'text/html', 'language': None, 'base'...   \n",
       "2  {'type': 'text/html', 'language': None, 'base'...   \n",
       "3  {'type': 'text/html', 'language': None, 'base'...   \n",
       "4  {'type': 'text/html', 'language': None, 'base'...   \n",
       "\n",
       "                                     itunes_title itunes_episodetype  \\\n",
       "0       Listen Now - Think Twice: Michael Jackson            trailer   \n",
       "1    Listen Now: Suspect \"Five Shots in the Dark\"            trailer   \n",
       "2  Where to find Episodes 2-7 of The Apology Line              bonus   \n",
       "3                 Introducing: The Generation Why            trailer   \n",
       "4                                Who’s Sorry Now?               full   \n",
       "\n",
       "                                             content  \\\n",
       "0  [{'type': 'text/plain', 'language': None, 'bas...   \n",
       "1  [{'type': 'text/plain', 'language': None, 'bas...   \n",
       "2  [{'type': 'text/plain', 'language': None, 'bas...   \n",
       "3  [{'type': 'text/html', 'language': None, 'base...   \n",
       "4  [{'type': 'text/plain', 'language': None, 'bas...   \n",
       "\n",
       "                                                  id  guidislink  \\\n",
       "0  gid://art19-episode-locator/V0/RB0GUh28sKfRDnX...       False   \n",
       "1  gid://art19-episode-locator/V0/zOcPUHGtQrWg5FP...       False   \n",
       "2  gid://art19-episode-locator/V0/FZOLMXrfpw3yiFJ...       False   \n",
       "3  gid://art19-episode-locator/V0/sUtNdRf3gL71KX2...       False   \n",
       "4  gid://art19-episode-locator/V0/eZqOUfJOCHVNII-...       False   \n",
       "\n",
       "                         published                     published_parsed  \\\n",
       "0  Mon, 31 Jul 2023 08:00:00 -0000    (2023, 7, 31, 8, 0, 0, 0, 212, 0)   \n",
       "1  Mon, 17 Jul 2023 08:00:00 -0000    (2023, 7, 17, 8, 0, 0, 0, 198, 0)   \n",
       "2  Mon, 03 Jul 2023 15:28:44 -0000  (2023, 7, 3, 15, 28, 44, 0, 184, 0)   \n",
       "3  Mon, 03 Jul 2023 08:00:00 -0000     (2023, 7, 3, 8, 0, 0, 0, 184, 0)   \n",
       "4  Sun, 17 Jan 2021 08:00:00 -0000     (2021, 1, 17, 8, 0, 0, 6, 17, 0)   \n",
       "\n",
       "   itunes_explicit                                              image  \\\n",
       "0             True  {'href': 'https://content.production.cdn.art19...   \n",
       "1             True  {'href': 'https://content.production.cdn.art19...   \n",
       "2             True  {'href': 'https://content.production.cdn.art19...   \n",
       "3             True  {'href': 'https://content.production.cdn.art19...   \n",
       "4             True  {'href': 'https://content.production.cdn.art19...   \n",
       "\n",
       "                                                tags itunes_duration  \\\n",
       "0  [{'term': 'SERIAL KILLER', 'scheme': 'http://w...        00:07:48   \n",
       "1  [{'term': 'serial killer', 'scheme': 'http://w...        00:06:02   \n",
       "2  [{'term': 'SERIAL KILLER', 'scheme': 'http://w...        00:00:51   \n",
       "3  [{'term': 'SERIAL KILLER', 'scheme': 'http://w...        00:08:10   \n",
       "4  [{'term': 'Exhibit C', 'scheme': 'http://www.i...        00:37:20   \n",
       "\n",
       "                                               links itunes_episode  \n",
       "0  [{'type': 'audio/mpeg', 'length': '7488574', '...            NaN  \n",
       "1  [{'type': 'audio/mpeg', 'length': '5797093', '...            NaN  \n",
       "2  [{'type': 'audio/mpeg', 'length': '827559', 'h...            NaN  \n",
       "3  [{'type': 'audio/mpeg', 'length': '7840914', '...            NaN  \n",
       "4  [{'type': 'audio/mpeg', 'length': '35845433', ...              1  "
      ]
     },
     "execution_count": 39,
     "metadata": {},
     "output_type": "execute_result"
    }
   ],
   "source": [
    "import pandas as pd\n",
    "\n",
    "df = pd.DataFrame(apo.entries)\n",
    "df.head()"
   ]
  },
  {
   "cell_type": "code",
   "execution_count": null,
   "metadata": {},
   "outputs": [],
   "source": []
  },
  {
   "cell_type": "markdown",
   "metadata": {},
   "source": [
    "### 10. Count the number of entries per author and sort them in descending order."
   ]
  },
  {
   "cell_type": "code",
   "execution_count": 49,
   "metadata": {},
   "outputs": [
    {
     "name": "stdout",
     "output_type": "stream",
     "text": [
      "published\n",
      "2021-01-05    1\n",
      "2021-01-17    1\n",
      "2023-07-03    2\n",
      "2023-07-17    1\n",
      "2023-07-31    1\n",
      "dtype: int64\n"
     ]
    }
   ],
   "source": [
    "# Convertir la columna 'published' a tipo datetime\n",
    "df['published'] = pd.to_datetime(df['published'])\n",
    "\n",
    "# Contar el número de publicaciones por día, realizamos un group by\n",
    "publicaciones_por_dia = df.groupby(df['published'].dt.date).size()\n",
    "\n",
    "# Imprimir el resultado\n",
    "print(publicaciones_por_dia)"
   ]
  },
  {
   "cell_type": "markdown",
   "metadata": {},
   "source": [
    "### 11. Add a new column to the data frame that contains the length (number of characters) of each entry title. Return a data frame that contains the title, author, and title length of each entry in descending order (longest title length at the top)."
   ]
  },
  {
   "cell_type": "code",
   "execution_count": 51,
   "metadata": {},
   "outputs": [
    {
     "data": {
      "text/html": [
       "<div>\n",
       "<style scoped>\n",
       "    .dataframe tbody tr th:only-of-type {\n",
       "        vertical-align: middle;\n",
       "    }\n",
       "\n",
       "    .dataframe tbody tr th {\n",
       "        vertical-align: top;\n",
       "    }\n",
       "\n",
       "    .dataframe thead th {\n",
       "        text-align: right;\n",
       "    }\n",
       "</style>\n",
       "<table border=\"1\" class=\"dataframe\">\n",
       "  <thead>\n",
       "    <tr style=\"text-align: right;\">\n",
       "      <th></th>\n",
       "      <th>title</th>\n",
       "      <th>title_length</th>\n",
       "    </tr>\n",
       "  </thead>\n",
       "  <tbody>\n",
       "    <tr>\n",
       "      <th>2</th>\n",
       "      <td>Where to find Episodes 2-7 of The Apology Line</td>\n",
       "      <td>46</td>\n",
       "    </tr>\n",
       "    <tr>\n",
       "      <th>1</th>\n",
       "      <td>Listen Now: Suspect \"Five Shots in the Dark\"</td>\n",
       "      <td>44</td>\n",
       "    </tr>\n",
       "    <tr>\n",
       "      <th>0</th>\n",
       "      <td>Listen Now - Think Twice: Michael Jackson</td>\n",
       "      <td>41</td>\n",
       "    </tr>\n",
       "    <tr>\n",
       "      <th>3</th>\n",
       "      <td>Introducing: The Generation Why</td>\n",
       "      <td>31</td>\n",
       "    </tr>\n",
       "    <tr>\n",
       "      <th>5</th>\n",
       "      <td>Introducing: The Apology Line</td>\n",
       "      <td>29</td>\n",
       "    </tr>\n",
       "  </tbody>\n",
       "</table>\n",
       "</div>"
      ],
      "text/plain": [
       "                                            title  title_length\n",
       "2  Where to find Episodes 2-7 of The Apology Line            46\n",
       "1    Listen Now: Suspect \"Five Shots in the Dark\"            44\n",
       "0       Listen Now - Think Twice: Michael Jackson            41\n",
       "3                 Introducing: The Generation Why            31\n",
       "5                   Introducing: The Apology Line            29"
      ]
     },
     "execution_count": 51,
     "metadata": {},
     "output_type": "execute_result"
    }
   ],
   "source": [
    "df['title_length'] = df['title'].apply(len)\n",
    "df[['title', 'title_length']].sort_values('title_length', ascending=False).head()"
   ]
  },
  {
   "cell_type": "markdown",
   "metadata": {},
   "source": [
    "### 12. Create a list of entry titles whose summary includes the phrase \"machine learning.\""
   ]
  },
  {
   "cell_type": "code",
   "execution_count": 60,
   "metadata": {},
   "outputs": [
    {
     "name": "stdout",
     "output_type": "stream",
     "text": [
      "Entry titles with 'Michael' in the summary:\n",
      "['Listen Now - Think Twice: Michael Jackson']\n"
     ]
    }
   ],
   "source": [
    "# Se crea un contenedor para almacenar los títulos\n",
    "entry_titles = []\n",
    "\n",
    "# Iterar sobre cada fila del DataFrame\n",
    "for index, row in df.iterrows():\n",
    "    summary = row['summary']\n",
    "#Se accede al resumen de cada fila utilizando row['summary'] .\n",
    "    if 'Michael' in summary:\n",
    "# y se verifica si la frase 'Michael' está presente en el resumen utilizando in\n",
    "        entry_titles.append(row['title'])\n",
    "\n",
    "# Imprimir la lista de títulos que cumplen con la condición\n",
    "print(\"Entry titles with 'Michael' in the summary:\")\n",
    "print(entry_titles)"
   ]
  },
  {
   "cell_type": "code",
   "execution_count": null,
   "metadata": {},
   "outputs": [],
   "source": []
  }
 ],
 "metadata": {
  "kernelspec": {
   "display_name": "Python 3 (ipykernel)",
   "language": "python",
   "name": "python3"
  },
  "language_info": {
   "codemirror_mode": {
    "name": "ipython",
    "version": 3
   },
   "file_extension": ".py",
   "mimetype": "text/x-python",
   "name": "python",
   "nbconvert_exporter": "python",
   "pygments_lexer": "ipython3",
   "version": "3.10.9"
  }
 },
 "nbformat": 4,
 "nbformat_minor": 2
}
