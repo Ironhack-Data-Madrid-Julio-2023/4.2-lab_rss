{
 "cells": [
  {
   "cell_type": "markdown",
   "metadata": {},
   "source": [
    "# Working with RSS Feeds Lab\n",
    "\n",
    "Complete the following set of exercises to solidify your knowledge of parsing RSS feeds and extracting information from them."
   ]
  },
  {
   "cell_type": "code",
   "execution_count": 1,
   "metadata": {},
   "outputs": [
    {
     "name": "stdout",
     "output_type": "stream",
     "text": [
      "Requirement already satisfied: feedparser in c:\\users\\borja\\anaconda3\\lib\\site-packages (6.0.10)\n",
      "Requirement already satisfied: sgmllib3k in c:\\users\\borja\\anaconda3\\lib\\site-packages (from feedparser) (1.0.0)\n",
      "Note: you may need to restart the kernel to use updated packages.\n"
     ]
    }
   ],
   "source": [
    "%pip install feedparser"
   ]
  },
  {
   "cell_type": "code",
   "execution_count": 2,
   "metadata": {},
   "outputs": [],
   "source": [
    "import feedparser"
   ]
  },
  {
   "cell_type": "markdown",
   "metadata": {},
   "source": [
    "### 1. Use feedparser to parse the following RSS feed URL."
   ]
  },
  {
   "cell_type": "code",
   "execution_count": 3,
   "metadata": {},
   "outputs": [],
   "source": [
    "data = feedparser.parse('https://feeds.acast.com/public/shows/5ea17537-f11f-4532-8202-294d976b9d5c')"
   ]
  },
  {
   "cell_type": "code",
   "execution_count": null,
   "metadata": {},
   "outputs": [],
   "source": []
  },
  {
   "cell_type": "markdown",
   "metadata": {},
   "source": [
    "### 2. Obtain a list of components (keys) that are available for this feed."
   ]
  },
  {
   "cell_type": "code",
   "execution_count": 18,
   "metadata": {},
   "outputs": [
    {
     "name": "stdout",
     "output_type": "stream",
     "text": [
      "['bozo', 'entries', 'feed', 'headers', 'etag', 'href', 'status', 'encoding', 'version', 'namespaces']\n"
     ]
    }
   ],
   "source": [
    "print(list(data.keys()))"
   ]
  },
  {
   "cell_type": "markdown",
   "metadata": {},
   "source": [
    "### 3. Obtain a list of components (keys) that are available for the *feed* component of this RSS feed."
   ]
  },
  {
   "cell_type": "code",
   "execution_count": 38,
   "metadata": {},
   "outputs": [
    {
     "data": {
      "text/plain": [
       "dict_keys(['ttl', 'generator_detail', 'generator', 'title', 'title_detail', 'links', 'link', 'language', 'rights', 'rights_detail', 'authors', 'author', 'author_detail', 'subtitle', 'subtitle_detail', 'summary', 'summary_detail', 'content', 'content_detail', 'itunes_explicit', 'publisher_detail', 'acast_showid', 'acast_showurl', 'acast_signature', 'acast_settings', 'acast_network', 'acast_importedfeed', 'itunes_type', 'image', 'itunes_new-feed-url', 'tags'])"
      ]
     },
     "execution_count": 38,
     "metadata": {},
     "output_type": "execute_result"
    }
   ],
   "source": [
    "data['feed'].keys()"
   ]
  },
  {
   "cell_type": "markdown",
   "metadata": {},
   "source": [
    "### 4. Extract and print the feed title, subtitle, author, and link."
   ]
  },
  {
   "cell_type": "code",
   "execution_count": 6,
   "metadata": {},
   "outputs": [
    {
     "name": "stdout",
     "output_type": "stream",
     "text": [
      "Unraveled\n"
     ]
    }
   ],
   "source": [
    "print(data['feed']['title'])\n"
   ]
  },
  {
   "cell_type": "code",
   "execution_count": 7,
   "metadata": {},
   "outputs": [
    {
     "name": "stdout",
     "output_type": "stream",
     "text": [
      "\n"
     ]
    }
   ],
   "source": [
    "print(data['feed']['subtitle'])"
   ]
  },
  {
   "cell_type": "code",
   "execution_count": 8,
   "metadata": {},
   "outputs": [
    {
     "name": "stdout",
     "output_type": "stream",
     "text": [
      "Warner Bros. Discovery\n"
     ]
    }
   ],
   "source": [
    "print(data['feed']['author'])"
   ]
  },
  {
   "cell_type": "code",
   "execution_count": 9,
   "metadata": {},
   "outputs": [
    {
     "name": "stdout",
     "output_type": "stream",
     "text": [
      "https://www.discoveryplus.com\n"
     ]
    }
   ],
   "source": [
    "print(data['feed']['link'])"
   ]
  },
  {
   "cell_type": "markdown",
   "metadata": {},
   "source": [
    "### 5. Count the number of entries that are contained in this RSS feed."
   ]
  },
  {
   "cell_type": "code",
   "execution_count": 14,
   "metadata": {},
   "outputs": [
    {
     "data": {
      "text/plain": [
       "42"
      ]
     },
     "execution_count": 14,
     "metadata": {},
     "output_type": "execute_result"
    }
   ],
   "source": [
    "len(data['entries'])"
   ]
  },
  {
   "cell_type": "markdown",
   "metadata": {},
   "source": [
    "### 6. Obtain a list of components (keys) available for an entry.\n",
    "\n",
    "*Hint: Remember to index first before requesting the keys*"
   ]
  },
  {
   "cell_type": "code",
   "execution_count": 17,
   "metadata": {},
   "outputs": [
    {
     "name": "stdout",
     "output_type": "stream",
     "text": [
      "['title', 'title_detail', 'itunes_title', 'published', 'published_parsed', 'itunes_duration', 'links', 'id', 'guidislink', 'itunes_explicit', 'link', 'acast_episodeid', 'acast_episodeurl', 'acast_settings', 'itunes_episodetype', 'itunes_season', 'itunes_episode', 'image', 'summary', 'summary_detail']\n"
     ]
    }
   ],
   "source": [
    "print(list(data['entries'][0].keys()))"
   ]
  },
  {
   "cell_type": "markdown",
   "metadata": {},
   "source": [
    "### 7. Extract a list of entry titles."
   ]
  },
  {
   "cell_type": "code",
   "execution_count": 20,
   "metadata": {},
   "outputs": [
    {
     "name": "stdout",
     "output_type": "stream",
     "text": [
      "['LISK Ep. 9: Breaking - LISK Suspect in Custody', \"S5 Ep.5: The Profiler's Dilemma\", 'S5 Ep.4: Family Secrets', 'S5 Ep.3: My Friend, The Murderer', 'S5 Ep.2: DJ Freez', 'S5 Ep.1: The Uncatchable Killer', 'Introducing Unraveled: Once a Killer', 'S4 Ep.9: Bob', 'S4 Ep.8: A Second Chance', 'S4 Ep 7: A Surprise Letter', 'S4 Ep.6: Diane', 'S4 Ep.5: Blood and Motive', 'S4 Ep.4: Physical Evidence', 'S4 Ep.3: Off With His Head', 'S4 Ep.2: The Call', 'S4 Ep.1: What Happened to Diane?', 'Introducing Unraveled: Mystery at the Mansion', 'S3 Ep.7: The Gears of the System', 'S3 Ep.6: Unreliable', 'S3 Ep.5: Fighting Fire', 'S3 Ep.4: Take My Word For It', 'S3 Ep.3: It’s Worse Than You Think', 'S3 Ep.2: Expert v Expert', 'S3 Ep.1: Eight Tiny Specks of Blood', 'Introducing Unraveled: Experts on Trial', 'S2 Ep.7: The Aftermath', 'S2 Ep.6: Hiding Out', \"S2 Ep.5: The Devil's Web\", 'S2 Ep.4: Mother', 'S2 Ep.3: The Extinct Marsupial', 'S2 Ep.2: Rachel', 'S2 Ep.1:Antisense', 'Introducing Unraveled: The Stalker’s Web', 'S1 Ep. 8: Damning New LISK Information + Season 2 Announcement', 'LISK Ep. 7: Who Is The Long Island Serial Killer?', 'LISK Ep. 6: New Evidence', 'LISK Ep. 5: Oak Beach', 'LISK Ep. 4: Twelve Months Of Misery', 'LISK Ep. 3: A Deal With The Devil', 'LISK Ep. 2: Fail to the Chief', 'LISK Ep. 1: David and Goliath', 'Introducing Unraveled: Long Island Serial Killer']\n"
     ]
    }
   ],
   "source": [
    "titles = [data.entries[i].title for i in range(len(data.entries))]\n",
    "print(titles)"
   ]
  },
  {
   "cell_type": "markdown",
   "metadata": {},
   "source": [
    "### 8. Calculate the percentage of \"Four short links\" entry titles."
   ]
  },
  {
   "cell_type": "code",
   "execution_count": null,
   "metadata": {},
   "outputs": [],
   "source": []
  },
  {
   "cell_type": "markdown",
   "metadata": {},
   "source": [
    "### 9. Create a Pandas data frame from the feed's entries."
   ]
  },
  {
   "cell_type": "code",
   "execution_count": 21,
   "metadata": {},
   "outputs": [],
   "source": [
    "import pandas as pd"
   ]
  },
  {
   "cell_type": "code",
   "execution_count": 32,
   "metadata": {},
   "outputs": [
    {
     "data": {
      "text/html": [
       "<div>\n",
       "<style scoped>\n",
       "    .dataframe tbody tr th:only-of-type {\n",
       "        vertical-align: middle;\n",
       "    }\n",
       "\n",
       "    .dataframe tbody tr th {\n",
       "        vertical-align: top;\n",
       "    }\n",
       "\n",
       "    .dataframe thead th {\n",
       "        text-align: right;\n",
       "    }\n",
       "</style>\n",
       "<table border=\"1\" class=\"dataframe\">\n",
       "  <thead>\n",
       "    <tr style=\"text-align: right;\">\n",
       "      <th></th>\n",
       "      <th>title</th>\n",
       "      <th>title_detail</th>\n",
       "      <th>itunes_title</th>\n",
       "      <th>published</th>\n",
       "      <th>published_parsed</th>\n",
       "      <th>itunes_duration</th>\n",
       "      <th>links</th>\n",
       "      <th>id</th>\n",
       "      <th>guidislink</th>\n",
       "      <th>itunes_explicit</th>\n",
       "      <th>...</th>\n",
       "      <th>acast_settings</th>\n",
       "      <th>itunes_episodetype</th>\n",
       "      <th>itunes_season</th>\n",
       "      <th>itunes_episode</th>\n",
       "      <th>image</th>\n",
       "      <th>summary</th>\n",
       "      <th>summary_detail</th>\n",
       "      <th>content</th>\n",
       "      <th>subtitle</th>\n",
       "      <th>subtitle_detail</th>\n",
       "    </tr>\n",
       "  </thead>\n",
       "  <tbody>\n",
       "    <tr>\n",
       "      <th>0</th>\n",
       "      <td>LISK Ep. 9: Breaking - LISK Suspect in Custody</td>\n",
       "      <td>{'type': 'text/plain', 'language': None, 'base...</td>\n",
       "      <td>LISK Ep. 9: Breaking - LISK Suspect in Custody</td>\n",
       "      <td>Mon, 17 Jul 2023 09:00:52 GMT</td>\n",
       "      <td>(2023, 7, 17, 9, 0, 52, 0, 198, 0)</td>\n",
       "      <td>47:38</td>\n",
       "      <td>[{'length': '45745024', 'type': 'audio/mpeg', ...</td>\n",
       "      <td>64b48ed671b6290011e26cd7</td>\n",
       "      <td>False</td>\n",
       "      <td>None</td>\n",
       "      <td>...</td>\n",
       "      <td>8+JWyvRbH7rg8keQDyu9F1HQVthSOQl0D9lW6WMdkKtYAm...</td>\n",
       "      <td>full</td>\n",
       "      <td>1</td>\n",
       "      <td>9</td>\n",
       "      <td>{'href': 'https://assets.pippa.io/shows/61b764...</td>\n",
       "      <td>&lt;p&gt;Law enforcement has made an arrest in the c...</td>\n",
       "      <td>{'type': 'text/html', 'language': None, 'base'...</td>\n",
       "      <td>NaN</td>\n",
       "      <td>NaN</td>\n",
       "      <td>NaN</td>\n",
       "    </tr>\n",
       "    <tr>\n",
       "      <th>1</th>\n",
       "      <td>S5 Ep.5: The Profiler's Dilemma</td>\n",
       "      <td>{'type': 'text/plain', 'language': None, 'base...</td>\n",
       "      <td>S5 Ep.5: The Profiler's Dilemma</td>\n",
       "      <td>Wed, 20 Apr 2022 07:00:31 GMT</td>\n",
       "      <td>(2022, 4, 20, 7, 0, 31, 2, 110, 0)</td>\n",
       "      <td>43:04</td>\n",
       "      <td>[{'length': '68680535', 'type': 'audio/mpeg', ...</td>\n",
       "      <td>6219601e5cdbb4001256445d</td>\n",
       "      <td>False</td>\n",
       "      <td>None</td>\n",
       "      <td>...</td>\n",
       "      <td>8+JWyvRbH7rg8keQDyu9F1HQVthSOQl0D9lW6WMdkKtYAm...</td>\n",
       "      <td>full</td>\n",
       "      <td>5</td>\n",
       "      <td>5</td>\n",
       "      <td>{'href': 'https://assets.pippa.io/shows/61b764...</td>\n",
       "      <td>&lt;p&gt;One-and-done killers have exposed massive s...</td>\n",
       "      <td>{'type': 'text/html', 'language': None, 'base'...</td>\n",
       "      <td>[{'type': 'text/html', 'language': None, 'base...</td>\n",
       "      <td>NaN</td>\n",
       "      <td>NaN</td>\n",
       "    </tr>\n",
       "    <tr>\n",
       "      <th>2</th>\n",
       "      <td>S5 Ep.4: Family Secrets</td>\n",
       "      <td>{'type': 'text/plain', 'language': None, 'base...</td>\n",
       "      <td>S5 Ep.4: Family Secrets</td>\n",
       "      <td>Wed, 13 Apr 2022 07:00:26 GMT</td>\n",
       "      <td>(2022, 4, 13, 7, 0, 26, 2, 103, 0)</td>\n",
       "      <td>41:39</td>\n",
       "      <td>[{'length': '68566270', 'type': 'audio/mpeg', ...</td>\n",
       "      <td>62195f32503d1700125f4eb8</td>\n",
       "      <td>False</td>\n",
       "      <td>None</td>\n",
       "      <td>...</td>\n",
       "      <td>8+JWyvRbH7rg8keQDyu9F1HQVthSOQl0D9lW6WMdkKtYAm...</td>\n",
       "      <td>full</td>\n",
       "      <td>5</td>\n",
       "      <td>4</td>\n",
       "      <td>{'href': 'https://assets.pippa.io/shows/61b764...</td>\n",
       "      <td>&lt;p&gt;The disturbing cases of Raymond Rowe and Wi...</td>\n",
       "      <td>{'type': 'text/html', 'language': None, 'base'...</td>\n",
       "      <td>[{'type': 'text/html', 'language': None, 'base...</td>\n",
       "      <td>NaN</td>\n",
       "      <td>NaN</td>\n",
       "    </tr>\n",
       "    <tr>\n",
       "      <th>3</th>\n",
       "      <td>S5 Ep.3: My Friend, The Murderer</td>\n",
       "      <td>{'type': 'text/plain', 'language': None, 'base...</td>\n",
       "      <td>S5 Ep.3: My Friend, The Murderer</td>\n",
       "      <td>Wed, 06 Apr 2022 07:00:48 GMT</td>\n",
       "      <td>(2022, 4, 6, 7, 0, 48, 2, 96, 0)</td>\n",
       "      <td>39:09</td>\n",
       "      <td>[{'length': '64611011', 'type': 'audio/mpeg', ...</td>\n",
       "      <td>62195e501ea237001277ddd9</td>\n",
       "      <td>False</td>\n",
       "      <td>None</td>\n",
       "      <td>...</td>\n",
       "      <td>8+JWyvRbH7rg8keQDyu9F1HQVthSOQl0D9lW6WMdkKtYAm...</td>\n",
       "      <td>full</td>\n",
       "      <td>5</td>\n",
       "      <td>3</td>\n",
       "      <td>{'href': 'https://assets.pippa.io/shows/61b764...</td>\n",
       "      <td>&lt;p&gt;A deeper dive into the one-and-done-killer ...</td>\n",
       "      <td>{'type': 'text/html', 'language': None, 'base'...</td>\n",
       "      <td>[{'type': 'text/html', 'language': None, 'base...</td>\n",
       "      <td>NaN</td>\n",
       "      <td>NaN</td>\n",
       "    </tr>\n",
       "    <tr>\n",
       "      <th>4</th>\n",
       "      <td>S5 Ep.2: DJ Freez</td>\n",
       "      <td>{'type': 'text/plain', 'language': None, 'base...</td>\n",
       "      <td>S5 Ep.2: DJ Freez</td>\n",
       "      <td>Wed, 30 Mar 2022 07:00:38 GMT</td>\n",
       "      <td>(2022, 3, 30, 7, 0, 38, 2, 89, 0)</td>\n",
       "      <td>44:02</td>\n",
       "      <td>[{'length': '71061082', 'type': 'audio/mpeg', ...</td>\n",
       "      <td>62195d7ebd60d400145b3db1</td>\n",
       "      <td>False</td>\n",
       "      <td>None</td>\n",
       "      <td>...</td>\n",
       "      <td>8+JWyvRbH7rg8keQDyu9F1HQVthSOQl0D9lW6WMdkKtYAm...</td>\n",
       "      <td>full</td>\n",
       "      <td>5</td>\n",
       "      <td>2</td>\n",
       "      <td>{'href': 'https://assets.pippa.io/shows/61b764...</td>\n",
       "      <td>&lt;p&gt;The identification of Christy Mirack's kill...</td>\n",
       "      <td>{'type': 'text/html', 'language': None, 'base'...</td>\n",
       "      <td>[{'type': 'text/html', 'language': None, 'base...</td>\n",
       "      <td>NaN</td>\n",
       "      <td>NaN</td>\n",
       "    </tr>\n",
       "  </tbody>\n",
       "</table>\n",
       "<p>5 rows × 23 columns</p>\n",
       "</div>"
      ],
      "text/plain": [
       "                                            title  \\\n",
       "0  LISK Ep. 9: Breaking - LISK Suspect in Custody   \n",
       "1                 S5 Ep.5: The Profiler's Dilemma   \n",
       "2                         S5 Ep.4: Family Secrets   \n",
       "3                S5 Ep.3: My Friend, The Murderer   \n",
       "4                               S5 Ep.2: DJ Freez   \n",
       "\n",
       "                                        title_detail  \\\n",
       "0  {'type': 'text/plain', 'language': None, 'base...   \n",
       "1  {'type': 'text/plain', 'language': None, 'base...   \n",
       "2  {'type': 'text/plain', 'language': None, 'base...   \n",
       "3  {'type': 'text/plain', 'language': None, 'base...   \n",
       "4  {'type': 'text/plain', 'language': None, 'base...   \n",
       "\n",
       "                                     itunes_title  \\\n",
       "0  LISK Ep. 9: Breaking - LISK Suspect in Custody   \n",
       "1                 S5 Ep.5: The Profiler's Dilemma   \n",
       "2                         S5 Ep.4: Family Secrets   \n",
       "3                S5 Ep.3: My Friend, The Murderer   \n",
       "4                               S5 Ep.2: DJ Freez   \n",
       "\n",
       "                       published                    published_parsed  \\\n",
       "0  Mon, 17 Jul 2023 09:00:52 GMT  (2023, 7, 17, 9, 0, 52, 0, 198, 0)   \n",
       "1  Wed, 20 Apr 2022 07:00:31 GMT  (2022, 4, 20, 7, 0, 31, 2, 110, 0)   \n",
       "2  Wed, 13 Apr 2022 07:00:26 GMT  (2022, 4, 13, 7, 0, 26, 2, 103, 0)   \n",
       "3  Wed, 06 Apr 2022 07:00:48 GMT    (2022, 4, 6, 7, 0, 48, 2, 96, 0)   \n",
       "4  Wed, 30 Mar 2022 07:00:38 GMT   (2022, 3, 30, 7, 0, 38, 2, 89, 0)   \n",
       "\n",
       "  itunes_duration                                              links  \\\n",
       "0           47:38  [{'length': '45745024', 'type': 'audio/mpeg', ...   \n",
       "1           43:04  [{'length': '68680535', 'type': 'audio/mpeg', ...   \n",
       "2           41:39  [{'length': '68566270', 'type': 'audio/mpeg', ...   \n",
       "3           39:09  [{'length': '64611011', 'type': 'audio/mpeg', ...   \n",
       "4           44:02  [{'length': '71061082', 'type': 'audio/mpeg', ...   \n",
       "\n",
       "                         id  guidislink itunes_explicit  ...  \\\n",
       "0  64b48ed671b6290011e26cd7       False            None  ...   \n",
       "1  6219601e5cdbb4001256445d       False            None  ...   \n",
       "2  62195f32503d1700125f4eb8       False            None  ...   \n",
       "3  62195e501ea237001277ddd9       False            None  ...   \n",
       "4  62195d7ebd60d400145b3db1       False            None  ...   \n",
       "\n",
       "                                      acast_settings itunes_episodetype  \\\n",
       "0  8+JWyvRbH7rg8keQDyu9F1HQVthSOQl0D9lW6WMdkKtYAm...               full   \n",
       "1  8+JWyvRbH7rg8keQDyu9F1HQVthSOQl0D9lW6WMdkKtYAm...               full   \n",
       "2  8+JWyvRbH7rg8keQDyu9F1HQVthSOQl0D9lW6WMdkKtYAm...               full   \n",
       "3  8+JWyvRbH7rg8keQDyu9F1HQVthSOQl0D9lW6WMdkKtYAm...               full   \n",
       "4  8+JWyvRbH7rg8keQDyu9F1HQVthSOQl0D9lW6WMdkKtYAm...               full   \n",
       "\n",
       "  itunes_season itunes_episode  \\\n",
       "0             1              9   \n",
       "1             5              5   \n",
       "2             5              4   \n",
       "3             5              3   \n",
       "4             5              2   \n",
       "\n",
       "                                               image  \\\n",
       "0  {'href': 'https://assets.pippa.io/shows/61b764...   \n",
       "1  {'href': 'https://assets.pippa.io/shows/61b764...   \n",
       "2  {'href': 'https://assets.pippa.io/shows/61b764...   \n",
       "3  {'href': 'https://assets.pippa.io/shows/61b764...   \n",
       "4  {'href': 'https://assets.pippa.io/shows/61b764...   \n",
       "\n",
       "                                             summary  \\\n",
       "0  <p>Law enforcement has made an arrest in the c...   \n",
       "1  <p>One-and-done killers have exposed massive s...   \n",
       "2  <p>The disturbing cases of Raymond Rowe and Wi...   \n",
       "3  <p>A deeper dive into the one-and-done-killer ...   \n",
       "4  <p>The identification of Christy Mirack's kill...   \n",
       "\n",
       "                                      summary_detail  \\\n",
       "0  {'type': 'text/html', 'language': None, 'base'...   \n",
       "1  {'type': 'text/html', 'language': None, 'base'...   \n",
       "2  {'type': 'text/html', 'language': None, 'base'...   \n",
       "3  {'type': 'text/html', 'language': None, 'base'...   \n",
       "4  {'type': 'text/html', 'language': None, 'base'...   \n",
       "\n",
       "                                             content subtitle subtitle_detail  \n",
       "0                                                NaN      NaN             NaN  \n",
       "1  [{'type': 'text/html', 'language': None, 'base...      NaN             NaN  \n",
       "2  [{'type': 'text/html', 'language': None, 'base...      NaN             NaN  \n",
       "3  [{'type': 'text/html', 'language': None, 'base...      NaN             NaN  \n",
       "4  [{'type': 'text/html', 'language': None, 'base...      NaN             NaN  \n",
       "\n",
       "[5 rows x 23 columns]"
      ]
     },
     "execution_count": 32,
     "metadata": {},
     "output_type": "execute_result"
    }
   ],
   "source": [
    "df = pd.DataFrame(data.entries)\n",
    "df.head()"
   ]
  },
  {
   "cell_type": "markdown",
   "metadata": {},
   "source": [
    "### 10. Count the number of entries per author and sort them in descending order."
   ]
  },
  {
   "cell_type": "code",
   "execution_count": 52,
   "metadata": {},
   "outputs": [],
   "source": [
    "# No hay columna de autores. Aun así este sería el código:\n",
    "\n",
    "# authors = df.groupby('author', as_index=False).agg({'title':'count'})\n",
    "# authors.columns = ['author', 'entries']\n",
    "# authors.sort_values('entries', ascending=False)"
   ]
  },
  {
   "cell_type": "markdown",
   "metadata": {},
   "source": [
    "### 11. Add a new column to the data frame that contains the length (number of characters) of each entry title. Return a data frame that contains the title, author, and title length of each entry in descending order (longest title length at the top)."
   ]
  },
  {
   "cell_type": "code",
   "execution_count": 51,
   "metadata": {
    "scrolled": true
   },
   "outputs": [
    {
     "data": {
      "text/html": [
       "<div>\n",
       "<style scoped>\n",
       "    .dataframe tbody tr th:only-of-type {\n",
       "        vertical-align: middle;\n",
       "    }\n",
       "\n",
       "    .dataframe tbody tr th {\n",
       "        vertical-align: top;\n",
       "    }\n",
       "\n",
       "    .dataframe thead th {\n",
       "        text-align: right;\n",
       "    }\n",
       "</style>\n",
       "<table border=\"1\" class=\"dataframe\">\n",
       "  <thead>\n",
       "    <tr style=\"text-align: right;\">\n",
       "      <th></th>\n",
       "      <th>title</th>\n",
       "      <th>title_length</th>\n",
       "    </tr>\n",
       "  </thead>\n",
       "  <tbody>\n",
       "    <tr>\n",
       "      <th>33</th>\n",
       "      <td>S1 Ep. 8: Damning New LISK Information + Seaso...</td>\n",
       "      <td>62</td>\n",
       "    </tr>\n",
       "    <tr>\n",
       "      <th>34</th>\n",
       "      <td>LISK Ep. 7: Who Is The Long Island Serial Killer?</td>\n",
       "      <td>49</td>\n",
       "    </tr>\n",
       "    <tr>\n",
       "      <th>41</th>\n",
       "      <td>Introducing Unraveled: Long Island Serial Killer</td>\n",
       "      <td>48</td>\n",
       "    </tr>\n",
       "    <tr>\n",
       "      <th>0</th>\n",
       "      <td>LISK Ep. 9: Breaking - LISK Suspect in Custody</td>\n",
       "      <td>46</td>\n",
       "    </tr>\n",
       "    <tr>\n",
       "      <th>16</th>\n",
       "      <td>Introducing Unraveled: Mystery at the Mansion</td>\n",
       "      <td>45</td>\n",
       "    </tr>\n",
       "  </tbody>\n",
       "</table>\n",
       "</div>"
      ],
      "text/plain": [
       "                                                title  title_length\n",
       "33  S1 Ep. 8: Damning New LISK Information + Seaso...            62\n",
       "34  LISK Ep. 7: Who Is The Long Island Serial Killer?            49\n",
       "41   Introducing Unraveled: Long Island Serial Killer            48\n",
       "0      LISK Ep. 9: Breaking - LISK Suspect in Custody            46\n",
       "16      Introducing Unraveled: Mystery at the Mansion            45"
      ]
     },
     "execution_count": 51,
     "metadata": {},
     "output_type": "execute_result"
    }
   ],
   "source": [
    "# No hay columna de autores, así que lo haré solamente con los títulos:\n",
    "\n",
    "df['title_length'] = df['title'].apply(len)\n",
    "df[['title', 'title_length']].sort_values('title_length', ascending=False).head()"
   ]
  },
  {
   "cell_type": "markdown",
   "metadata": {},
   "source": [
    "### 12. Create a list of entry titles whose summary includes the phrase \"machine learning.\""
   ]
  },
  {
   "cell_type": "code",
   "execution_count": 50,
   "metadata": {},
   "outputs": [
    {
     "name": "stdout",
     "output_type": "stream",
     "text": [
      "[]\n"
     ]
    }
   ],
   "source": [
    "machinelearning = []\n",
    "for entry in data.entries:\n",
    "    summary = entry.get('summary', '')\n",
    "    if 'machine learning' in summary.lower():\n",
    "        machinelearning.append(entry.get('title', ''))\n",
    "\n",
    "print(machinelearning)"
   ]
  },
  {
   "cell_type": "code",
   "execution_count": null,
   "metadata": {},
   "outputs": [],
   "source": []
  }
 ],
 "metadata": {
  "kernelspec": {
   "display_name": "Python 3 (ipykernel)",
   "language": "python",
   "name": "python3"
  },
  "language_info": {
   "codemirror_mode": {
    "name": "ipython",
    "version": 3
   },
   "file_extension": ".py",
   "mimetype": "text/x-python",
   "name": "python",
   "nbconvert_exporter": "python",
   "pygments_lexer": "ipython3",
   "version": "3.10.9"
  }
 },
 "nbformat": 4,
 "nbformat_minor": 2
}
