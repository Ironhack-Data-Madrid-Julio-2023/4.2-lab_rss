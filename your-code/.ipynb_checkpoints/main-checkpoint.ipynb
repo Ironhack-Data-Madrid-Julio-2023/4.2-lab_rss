{
 "cells": [
  {
   "cell_type": "markdown",
   "metadata": {},
   "source": [
    "# Working with RSS Feeds Lab\n",
    "\n",
    "Complete the following set of exercises to solidify your knowledge of parsing RSS feeds and extracting information from them."
   ]
  },
  {
   "cell_type": "code",
   "execution_count": 1,
   "metadata": {},
   "outputs": [],
   "source": [
    "import feedparser"
   ]
  },
  {
   "cell_type": "markdown",
   "metadata": {},
   "source": [
    "### 1. Use feedparser to parse the following RSS feed URL."
   ]
  },
  {
   "cell_type": "code",
   "execution_count": 2,
   "metadata": {},
   "outputs": [],
   "source": [
    "import feedparser\n",
    "\n",
    "url = \"https://www.lanasa.net/rss\"  \n",
    "\n",
    "rss = feedparser.parse(url)\n",
    "\n",
    "# Aquí puedes comenzar a trabajar con el contenido del feed, por ejemplo:\n",
    "# for entry in feed.entries:\n",
    "#    print(entry.title)\n",
    "#    print(entry.link)\n",
    "#    print(entry.published)"
   ]
  },
  {
   "cell_type": "code",
   "execution_count": null,
   "metadata": {},
   "outputs": [],
   "source": []
  },
  {
   "cell_type": "markdown",
   "metadata": {},
   "source": [
    "### 2. Obtain a list of components (keys) that are available for this feed."
   ]
  },
  {
   "cell_type": "code",
   "execution_count": 3,
   "metadata": {},
   "outputs": [
    {
     "data": {
      "text/plain": [
       "dict_keys(['bozo', 'entries', 'feed', 'headers', 'href', 'status', 'encoding', 'bozo_exception', 'version', 'namespaces'])"
      ]
     },
     "execution_count": 3,
     "metadata": {},
     "output_type": "execute_result"
    }
   ],
   "source": [
    "rss.keys()\n",
    "#shif + enter"
   ]
  },
  {
   "cell_type": "markdown",
   "metadata": {},
   "source": [
    "### 3. Obtain a list of components (keys) that are available for the *feed* component of this RSS feed."
   ]
  },
  {
   "cell_type": "code",
   "execution_count": 4,
   "metadata": {},
   "outputs": [
    {
     "data": {
      "text/plain": [
       "dict_keys(['html', 'meta', 'links', 'script', 'style', 'source', 'summary'])"
      ]
     },
     "execution_count": 4,
     "metadata": {},
     "output_type": "execute_result"
    }
   ],
   "source": [
    "rss['feed'].keys()"
   ]
  },
  {
   "cell_type": "markdown",
   "metadata": {},
   "source": [
    "### 4. Extract and print the feed title, subtitle, author, and link."
   ]
  },
  {
   "cell_type": "code",
   "execution_count": 5,
   "metadata": {},
   "outputs": [
    {
     "name": "stdout",
     "output_type": "stream",
     "text": [
      "Título del feed: {'name': 'viewport', 'content': 'width=device-width, initial-scale=1'}\n",
      "Subtítulo del feed: {'class': 'no-js', 'lang': 'en'}\n",
      "Enlace del feed: [{'rel': 'shortcut icon', 'href': 'https://www.lanasa.net/application/files/6616/4720/4828/favicon.ico', 'type': 'image/x-icon'}, {'rel': 'icon', 'href': 'https://www.lanasa.net/application/files/6616/4720/4828/favicon.ico', 'type': 'image/x-icon'}, {'rel': 'canonical', 'href': 'https://www.lanasa.net/page_not_found', 'type': 'text/html'}, {'href': 'https://www.lanasa.net/updates/concrete5-8.5.1/concrete/css/font-awesome.css?ccm_nocache=ca17add95b11d1baf3d74fcd3fa4637fb02c14ba', 'rel': 'stylesheet', 'type': 'text/css', 'media': 'all'}, {'rel': 'stylesheet', 'href': 'https://www.lanasa.net/packages/theme_nasanet/themes/nasanet/css/bootstrap-theme.min.css', 'type': 'text/html'}, {'rel': 'stylesheet', 'href': 'https://www.lanasa.net/packages/theme_nasanet/themes/nasanet/css/star.css', 'type': 'text/html'}, {'rel': 'stylesheet', 'href': 'https://www.lanasa.net/packages/theme_nasanet/themes/nasanet/css/nasanet.css', 'type': 'text/html'}, {'href': 'https://www.lanasa.net/application/files/cache/css/nasanet/main.css?ts=1677692601', 'rel': 'stylesheet', 'type': 'text/css', 'media': 'all'}]\n"
     ]
    }
   ],
   "source": [
    "import feedparser\n",
    "\n",
    "url = 'https://www.lanasa.net/rss'\n",
    "\n",
    "rss = feedparser.parse(url)\n",
    "\n",
    "meta = rss.feed.meta #title me da error, lo sustituyo por meta\n",
    "subtitle = rss.feed.html #subtitle me da error, lo sustituyo por html\n",
    "links = rss.feed.links\n",
    "\n",
    "print(\"Título del feed:\", meta)\n",
    "print(\"Subtítulo del feed:\", subtitle)\n",
    "print(\"Enlace del feed:\", links)\n",
    "\n"
   ]
  },
  {
   "cell_type": "markdown",
   "metadata": {},
   "source": [
    "### 5. Count the number of entries that are contained in this RSS feed."
   ]
  },
  {
   "cell_type": "code",
   "execution_count": 8,
   "metadata": {},
   "outputs": [
    {
     "data": {
      "text/plain": [
       "0"
      ]
     },
     "execution_count": 8,
     "metadata": {},
     "output_type": "execute_result"
    }
   ],
   "source": [
    "len(rss['entries'])\n"
   ]
  },
  {
   "cell_type": "markdown",
   "metadata": {},
   "source": [
    "### 6. Obtain a list of components (keys) available for an entry.\n",
    "\n",
    "*Hint: Remember to index first before requesting the keys*"
   ]
  },
  {
   "cell_type": "code",
   "execution_count": 12,
   "metadata": {},
   "outputs": [
    {
     "name": "stdout",
     "output_type": "stream",
     "text": [
      "No se encontraron entradas en el feed RSS.\n"
     ]
    }
   ],
   "source": [
    "import feedparser\n",
    "\n",
    "url = \"https://www.lanasa.net/rss\"\n",
    "rss = feedparser.parse(url)\n",
    "\n",
    "# Verificar si existen entradas en el feed\n",
    "if rss.entries:\n",
    "    # Accediendo a las claves de la primera entrada\n",
    "    claves_entrada = rss.entries[0].keys()\n",
    "\n",
    "    # Imprimiendo la lista de claves\n",
    "    print(\"Lista de claves para la primera entrada:\")\n",
    "    for clave in claves_entrada:\n",
    "        print(clave)\n",
    "else:\n",
    "    print(\"No se encontraron entradas en el feed RSS.\")"
   ]
  },
  {
   "cell_type": "markdown",
   "metadata": {},
   "source": [
    "### 7. Extract a list of entry titles."
   ]
  },
  {
   "cell_type": "code",
   "execution_count": 14,
   "metadata": {},
   "outputs": [
    {
     "name": "stdout",
     "output_type": "stream",
     "text": [
      "No se encontraron entradas en el feed RSS.\n"
     ]
    }
   ],
   "source": [
    "if rss.entries:\n",
    "    # Extraer una lista de títulos de las entradas\n",
    "    titulos_entradas = [entry.title for entry in rss.entries]\n",
    "\n",
    "    # Imprimir la lista de títulos\n",
    "    print(\"Lista de títulos de las entradas:\")\n",
    "    for titulo in titulos_entradas:\n",
    "        print(titulo)\n",
    "else:\n",
    "    print(\"No se encontraron entradas en el feed RSS.\")"
   ]
  },
  {
   "cell_type": "markdown",
   "metadata": {},
   "source": [
    "### 8. Calculate the percentage of \"Four short links\" entry titles."
   ]
  },
  {
   "cell_type": "code",
   "execution_count": 16,
   "metadata": {
    "scrolled": true
   },
   "outputs": [
    {
     "name": "stdout",
     "output_type": "stream",
     "text": [
      "Percentage of 'Four short links' entry titles: 0\n"
     ]
    }
   ],
   "source": [
    "import feedparser\n",
    "\n",
    "url = \"https://www.lanasa.net/rss\"\n",
    "rss = feedparser.parse(url)\n",
    "\n",
    "entry_count = len(rss.entries) if rss.entries else 0\n",
    "four_short_links_count = 0\n",
    "\n",
    "for entry in rss.entries:\n",
    "    if \"Four short links\" in entry.title:\n",
    "        four_short_links_count += 1\n",
    "\n",
    "percentage = (four_short_links_count / entry_count) * 100 if entry_count != 0 else 0\n",
    "\n",
    "print(\"Percentage of 'Four short links' entry titles:\", percentage)"
   ]
  },
  {
   "cell_type": "markdown",
   "metadata": {},
   "source": [
    "### 9. Create a Pandas data frame from the feed's entries."
   ]
  },
  {
   "cell_type": "code",
   "execution_count": 18,
   "metadata": {},
   "outputs": [
    {
     "name": "stdout",
     "output_type": "stream",
     "text": [
      "Empty DataFrame\n",
      "Columns: []\n",
      "Index: []\n"
     ]
    }
   ],
   "source": [
    "import feedparser\n",
    "import pandas as pd\n",
    "\n",
    "url = \"https://www.lanasa.net/rss\"\n",
    "rss = feedparser.parse(url)\n",
    "\n",
    "data = []\n",
    "\n",
    "for entry in rss.entries:\n",
    "    data.append({'Title': entry.title, 'Published Date': entry.published, 'Summary': entry.summary, 'Link': entry.link})\n",
    "\n",
    "df = pd.DataFrame(data)\n",
    "\n",
    "print(df.head())\n",
    "#en la web elegida no hay entries por eso no dá resultados vacíos pero dejo el código."
   ]
  },
  {
   "cell_type": "markdown",
   "metadata": {},
   "source": [
    "### 10. Count the number of entries per author and sort them in descending order."
   ]
  },
  {
   "cell_type": "code",
   "execution_count": 21,
   "metadata": {},
   "outputs": [],
   "source": [
    "import feedparser\n",
    "from collections import Counter\n",
    "\n",
    "url = \"https://www.lanasa.net/rss\"\n",
    "rss = feedparser.parse(url)\n",
    "\n",
    "author_counts = Counter(entry.author for entry in rss.entries) if rss.entries else Counter()\n",
    "\n",
    "author_counts_sorted = dict(sorted(author_counts.items(), key=lambda x: x[1], reverse=True))\n",
    "\n",
    "for author, count in author_counts_sorted.items():\n",
    "    print(f\"Author: {author}, Entry Count: {count}\")\n",
    "#en la web elegida no hay entries por eso no dá resultados pero dejo el código."
   ]
  },
  {
   "cell_type": "markdown",
   "metadata": {},
   "source": [
    "### 11. Add a new column to the data frame that contains the length (number of characters) of each entry title. Return a data frame that contains the title, author, and title length of each entry in descending order (longest title length at the top)."
   ]
  },
  {
   "cell_type": "code",
   "execution_count": null,
   "metadata": {},
   "outputs": [],
   "source": [
    "url = \"https://www.lanasa.net/rss\"\n",
    "rss = feedparser.parse(url)\n",
    "\n",
    "data = []\n",
    "\n",
    "for entry in rss.entries:\n",
    "    data.append({'Title': entry.title, 'Author': entry.author, 'Title Length': len(entry.title)})#añado columna 'Title Length'\n",
    "\n",
    "df = pd.DataFrame(data)\n",
    "df_sorted = df.sort_values(by='Title Length', ascending=False) #dame el df en orden descendente, el + longest el primero\n",
    "\n",
    "print(df_sorted[['Title', 'Author', 'Title Length']]) #imprímela\n",
    "#en la web elegida no hay entries por eso no dá resultados pero dejo el código."
   ]
  },
  {
   "cell_type": "markdown",
   "metadata": {},
   "source": [
    "### 12. Create a list of entry titles whose summary includes the phrase \"machine learning.\""
   ]
  },
  {
   "cell_type": "code",
   "execution_count": 24,
   "metadata": {},
   "outputs": [
    {
     "name": "stdout",
     "output_type": "stream",
     "text": [
      "[]\n"
     ]
    }
   ],
   "source": [
    "import feedparser\n",
    "\n",
    "url = \"https://www.lanasa.net/rss\"\n",
    "rss = feedparser.parse(url)\n",
    "\n",
    "entry_titles_machine_learning = []\n",
    "\n",
    "for entry in rss.entries:\n",
    "    if \"machine learning\" in entry.summary.lower():\n",
    "        entry_titles_machine_learning.append(entry.title)\n",
    "\n",
    "print(entry_titles_machine_learning)"
   ]
  }
 ],
 "metadata": {
  "kernelspec": {
   "display_name": "Python 3 (ipykernel)",
   "language": "python",
   "name": "python3"
  },
  "language_info": {
   "codemirror_mode": {
    "name": "ipython",
    "version": 3
   },
   "file_extension": ".py",
   "mimetype": "text/x-python",
   "name": "python",
   "nbconvert_exporter": "python",
   "pygments_lexer": "ipython3",
   "version": "3.10.9"
  }
 },
 "nbformat": 4,
 "nbformat_minor": 2
}
