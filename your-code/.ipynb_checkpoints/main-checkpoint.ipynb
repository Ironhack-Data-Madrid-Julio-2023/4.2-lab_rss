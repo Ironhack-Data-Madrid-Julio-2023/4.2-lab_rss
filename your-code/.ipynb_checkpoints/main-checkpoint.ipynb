{
 "cells": [
  {
   "cell_type": "markdown",
   "metadata": {},
   "source": [
    "# Working with RSS Feeds Lab\n",
    "\n",
    "Complete the following set of exercises to solidify your knowledge of parsing RSS feeds and extracting information from them."
   ]
  },
  {
   "cell_type": "code",
   "execution_count": 1,
   "metadata": {},
   "outputs": [
    {
     "name": "stdout",
     "output_type": "stream",
     "text": [
      "Requirement already satisfied: feedparser in /Users/borja/anaconda3/lib/python3.10/site-packages (6.0.10)\n",
      "Requirement already satisfied: sgmllib3k in /Users/borja/anaconda3/lib/python3.10/site-packages (from feedparser) (1.0.0)\n",
      "Note: you may need to restart the kernel to use updated packages.\n"
     ]
    }
   ],
   "source": [
    "%pip install feedparser"
   ]
  },
  {
   "cell_type": "code",
   "execution_count": 2,
   "metadata": {},
   "outputs": [],
   "source": [
    "import feedparser\n",
    "import pandas as pd"
   ]
  },
  {
   "cell_type": "markdown",
   "metadata": {},
   "source": [
    "### 1. Use feedparser to parse the following RSS feed URL."
   ]
  },
  {
   "cell_type": "code",
   "execution_count": 9,
   "metadata": {},
   "outputs": [],
   "source": [
    "reddit = feedparser.parse('https://feeds.simplecast.com/54nAGcIl')"
   ]
  },
  {
   "cell_type": "markdown",
   "metadata": {},
   "source": [
    "### 2. Obtain a list of components (keys) that are available for this feed."
   ]
  },
  {
   "cell_type": "code",
   "execution_count": 5,
   "metadata": {},
   "outputs": [
    {
     "data": {
      "text/plain": [
       "dict_keys(['bozo', 'entries', 'feed', 'headers', 'updated', 'updated_parsed', 'href', 'status', 'encoding', 'bozo_exception', 'version', 'namespaces'])"
      ]
     },
     "execution_count": 5,
     "metadata": {},
     "output_type": "execute_result"
    }
   ],
   "source": [
    "reddit.keys()"
   ]
  },
  {
   "cell_type": "markdown",
   "metadata": {},
   "source": [
    "### 3. Obtain a list of components (keys) that are available for the *feed* component of this RSS feed."
   ]
  },
  {
   "cell_type": "code",
   "execution_count": 12,
   "metadata": {},
   "outputs": [
    {
     "data": {
      "text/plain": [
       "dict_keys(['links', 'generator_detail', 'generator', 'title', 'title_detail', 'subtitle', 'subtitle_detail', 'rights', 'rights_detail', 'language', 'published', 'published_parsed', 'updated', 'updated_parsed', 'image', 'link', 'itunes_type', 'summary', 'summary_detail', 'authors', 'author', 'author_detail', 'itunes_explicit', 'itunes_new-feed-url', 'publisher_detail', 'tags'])"
      ]
     },
     "execution_count": 12,
     "metadata": {},
     "output_type": "execute_result"
    }
   ],
   "source": [
    "reddit['feed'].keys()"
   ]
  },
  {
   "cell_type": "markdown",
   "metadata": {},
   "source": [
    "### 4. Extract and print the feed title, subtitle, author, and link."
   ]
  },
  {
   "cell_type": "code",
   "execution_count": 14,
   "metadata": {},
   "outputs": [
    {
     "name": "stdout",
     "output_type": "stream",
     "text": [
      "The Daily\n",
      "This is what the news should sound like. The biggest stories of our time, told by the best journalists in the world. Hosted by Michael Barbaro and Sabrina Tavernise. Twenty minutes a day, five days a week, ready by 6 a.m.\n",
      "\n",
      "Listen to this podcast in New York Times Audio, our new iOS app for news subscribers. Download now at nytimes.com/audioapp\n",
      "The New York Times\n",
      "https://www.nytimes.com/the-daily\n"
     ]
    }
   ],
   "source": [
    "print(reddit['feed']['title'])\n",
    "print(reddit['feed']['subtitle'])\n",
    "print(reddit['feed']['author'])\n",
    "print(reddit['feed']['link'])"
   ]
  },
  {
   "cell_type": "markdown",
   "metadata": {},
   "source": [
    "### 5. Count the number of entries that are contained in this RSS feed."
   ]
  },
  {
   "cell_type": "code",
   "execution_count": 15,
   "metadata": {},
   "outputs": [
    {
     "data": {
      "text/plain": [
       "26"
      ]
     },
     "execution_count": 15,
     "metadata": {},
     "output_type": "execute_result"
    }
   ],
   "source": [
    "len(reddit['feed'].keys())"
   ]
  },
  {
   "cell_type": "markdown",
   "metadata": {},
   "source": [
    "### 6. Obtain a list of components (keys) available for an entry.\n",
    "\n",
    "*Hint: Remember to index first before requesting the keys*"
   ]
  },
  {
   "cell_type": "code",
   "execution_count": 16,
   "metadata": {},
   "outputs": [
    {
     "data": {
      "text/plain": [
       "dict_keys(['id', 'guidislink', 'title', 'title_detail', 'summary', 'summary_detail', 'published', 'published_parsed', 'authors', 'author', 'author_detail', 'links', 'link', 'content', 'itunes_title', 'itunes_duration', 'subtitle', 'subtitle_detail', 'itunes_explicit', 'itunes_episodetype'])"
      ]
     },
     "execution_count": 16,
     "metadata": {},
     "output_type": "execute_result"
    }
   ],
   "source": [
    "reddit['entries'][0].keys()"
   ]
  },
  {
   "cell_type": "markdown",
   "metadata": {},
   "source": [
    "### 7. Extract a list of entry titles."
   ]
  },
  {
   "cell_type": "code",
   "execution_count": 17,
   "metadata": {},
   "outputs": [
    {
     "name": "stdout",
     "output_type": "stream",
     "text": [
      "['The Charges Against Trump for Conspiring to Overturn the Election', 'The Secret History of Gun Rights', 'Italy’s Giorgia Meloni Charts a Path for the Far Right', 'The Sunday Read: ‘The America That Americans Forget’', 'Menopause Is Having a Moment', 'Affirmative Action for the 1 Percent', 'Hunter Biden’s Day in Court', 'Russia’s Newest Target: The Global Food Supply', 'A One-Man Blockade Against the U.S. Military', 'The Sunday Read: ‘The Trillion- Gallon Question’', 'Can Barbie Be Rebranded as a Feminist Icon?', 'The Man Trying to Save Phoenix From Historic Heat', 'How the Birth Control Pill Got Over the Counter', 'The Writers’ Revolt Against A.I. Companies', 'China’s Economic Rebound Hits a Wall', 'The Sunday Read: ‘The Moral Crisis of America’s Doctors’', 'How Clarence Thomas Came to Reject Affirmative Action', 'How Affirmative Action Changed Their Lives', 'The Great Resignation is Over', 'Many Countries Banned Cluster Munitions. The U.S. Is Sending Them to Ukraine Anyway.', 'Will Threads Kill Twitter?', 'The Sunday Read: ‘The Spy Who Called Me’', 'The Complicated Future of Student Loans', 'Russia After the Rebellion', 'How MrBeast Became the Willy Wonka of YouTube', 'From Serial: ‘The Retrievals’', 'A Clash Between Religious Faith and Gay Rights', 'The Sunday Read: ‘A Week With the Wild Children of the A.I. Boom’', 'The Supreme Court Ends Affirmative Action', 'Is Washington Finally Ready to Take On Big Tech?', 'Suspicion, Cheating and Bans: A.I. Hits America’s Schools', 'Speaker McCarthy Has Lost Control of His House', 'A 36-Hour Rebellion in Russia', 'Understanding Ukraine’s Counteroffensive', 'Lost 2 Miles Below the Ocean', 'The Re-Militarization of Germany', 'Inflation Is Way Down. Is It by Design or Just Luck?', 'The Sunday Read: ‘The High-Risk Feat of Bringing ‘American Born Chinese’ to TV’', 'The Kids Take the Climate Change Fight to Court', 'How Saudi Arabia Took on Pro Golf — and Won', 'Arraigned, Again: Trump’s Federal Court Hearing in Miami', 'A Forced Reckoning in the Restaurant Industry', 'Nuclear Secrets and Taped Conversations: A Look at the Evidence Against Trump.', 'The Sunday Read: ‘The Most Dangerous Person in the World Is Randi Weingarten’', 'Special Episode: A Second Trump Indictment', 'There’s No Escaping Wildfire Smoke', 'A Guide to the Suddenly Crowded Republican Primary', 'Turned Away and Left at Sea', 'The Fight Over Phonics', 'The New Afghanistan, Through the Eyes of Three Women', 'Special Episode: A Crash Course in Dembow, a Misunderstood Pantry Staple and Simple Tips to Keep Calm and Carry On', 'America’s Big City Brain Drain', 'How the G.O.P. Picked Trans Kids as a Rallying Cry', 'Republicans Impeach One of Their Own', 'The Godfather of A.I. Has Some Regrets', 'Special Episode: An Interplanetary Jazz Legend, a Cosmic Vegetable and a Psychic Prodigy', 'The Ticking Clock of a U.S. Debt Default', 'The Headlines: May 26', 'Millions of Dollars, Thousands of Robocalls and 1 Legal Loophole', 'The Headlines: May 25', 'Ukraine Lost in Bakhmut. But It Has Much Bigger Plans.', 'The Headlines: May 24', 'The Supreme Court vs. Andy Warhol', 'The Headlines: May 23', \"Is Trump's Nomination Now Inevitable?\", 'Introducing The Headlines: May 22', 'Special Episode: Classic TV, New Music and a Side of Pasta', 'When the Culture Wars Came for NASA', 'An Anonymous #MeToo Source Goes Public', 'Turkey’s President Fights for Political Survival', 'The Day Title 42 Ended', 'The U.S. Banned Spyware — and Then Kept Trying to Use It', 'The Lifesaving Power of … Paperwork?', 'Biden’s Radical Option to End the Debt Fight', 'Even More Trouble for George Santos', 'Trump Liable for Sexual Abuse', 'A Big Policy Change at the Border', 'A Crisis of Ethics at the Supreme Court', 'The Sunday Read: ‘The School Where the Pandemic Never Ended’', 'How Streaming Hurt Hollywood Writers', 'What if You Could Save Someone From an Overdose?', 'The Democrats’ Dianne Feinstein Problem', 'A Third Bank Implodes. Now What?', 'Kevin McCarthy’s Debt Ceiling Dilemma', 'The Sunday Read: ‘The Agony of Putting Your Life on Hold to Care for Your Parents’', 'The Ballad of ‘Deepfake Drake’', 'Can India Become the Next Global Superpower?', 'Voters Are Wary of Biden. Here’s Why He Might Win Anyway', 'Fox News Fires Its Biggest Star', 'How Two Generals Led Sudan to the Brink of Civil War', 'The Sunday Read: ‘Why Are These Italians Massacring Each Other With Oranges?’', 'Why Low-Ranking Soldiers Have Access to Top Secret Documents', 'The Blockbuster Fox Defamation Trial That Wasn’t', 'Abortion Goes to the Supreme Court (Again)', 'How the I.R.S. Became a Political Boogeyman', 'China and Taiwan: A Torrid Backstory', 'The Sunday Read: ‘The Daring Ruse That Exposed China’s Campaign to Steal American Secrets’', 'Broadway’s Longest-Running Musical Turns Out the Lights', 'What We’re Learning From the Leaked Military Documents', 'How Strong (or Not) Is New York’s Case Against Trump?', 'Inside Russia’s Crackdown on Dissent', 'An Extraordinary Act of Political Retribution in Tennessee', '‘The Run-Up’: The Republican Party Sorts Through Its Mess', 'The Outsourcing of America’s Border Problem', 'America Has a Problem in Africa: China', 'What It Was Like at Donald Trump’s Arraignment', 'The Election That Could Reshape Wisconsin, and the Country', 'Fear and Bravado: Inside Trump’s Reaction to the Indictment', \"The Sunday Read: ‘A Sandwich Shop, a Tent City and an American Crisis'\", 'The Indictment of Donald Trump', 'The Plan to Save Baseball From Boredom', 'Israel’s Far Right Government Backs Down', 'The Fight Over ‘Cop City’', 'A Sweeping Plan to Protect Kids From Social Media', 'The Sunday Read: ‘How Danhausen Became Professional Wrestling’s Strangest Star’', 'Should The Government Pay for Your Bad Climate Decisions?', 'Our Film Critic on Why He’s Done With the Movies', 'Barney Frank on His Role in the Banking Crisis', 'China, Russia and the Risk of a New Cold War', 'How TikTok Became a Matter of National Security', 'The Sunday Read: ‘Spirited Away to Miyazaki Land’', 'Why the Banking Crisis Isn’t Over Yet', 'France’s Battle Over Retirement', 'What to Know About the Covid Lab Leak Theory', 'The Implosion of Silicon Valley Bank', 'What Is E.S.G., and Why Are Republicans So Mad About It?', 'The Sunday Read: ‘Can Germany Be a Great Military Power Again?’', 'Protests and the Future of Democracy in Israel', 'A New Child Labor Crisis in America', 'Who Blew Up the Nord Stream Pipelines?', 'Ron DeSantis’s Rise From Unknown to Heir Apparent', 'How a Derailed Train Galvanized an Ohio Town, and Congress', 'Sunday Special: An Episode of ‘The Coldest Case in Laramie’', 'Why Russia Is Taking Thousands of Ukrainian Children', 'Will the Supreme Court Let Biden Cancel Student Debt?', 'A Threat to Abortion Pills. Plus, the U.S. Shares Secrets', 'Why So Many Buildings Collapsed in Turkey', 'Why Election Denialism Might Cost Fox News $1.6 Billion', 'The Sunday Read: ‘Elon Musk’s Appetite for Destruction’', 'A Year of War in Ukraine', 'A Ruling That Could End the Internet as We Know It', 'The Veterans Fighting to Legalize Psychedelics', 'Why ‘Made in China’ Is Becoming ‘Made in Mexico’', 'Sunday Special: An Episode of ‘Hard Fork’', 'The Online Search Wars Got Scary. Fast.', 'A Crisis Within a Crisis in Syria', 'The Online Search Wars', 'Why the U.S. Keeps Shooting Objects Out of the Sky', 'The Navy’s Very Expensive Mistake', 'The Sunday Read: ‘Women Have Been Misled About Menopause’', 'How Sports Betting Hit the Mainstream in America', 'The Most Empty Downtown in America', 'The Police Unit That Was Supposed to Keep Memphis Safe', 'The Deadly Earthquake in Turkey and Syria', 'A Chinese Balloon and a Diplomatic Showdown', 'The Sunday Read: ‘The Man Who Made Spain the Magic Capital of the World’', 'The End of the Pandemic Emergency in the U.S.', 'A Revolution in How Democrats Pick a President', 'The State of the U.S. Economy in 4 Numbers', '7 States, 1 River and an Agonizing Choice', 'The Death of Tyre Nichols', 'The Sunday Read: ‘Has the Amazon Reached Its “Tipping Point”?’', 'Arrests, Executions and the Iranian Protesters Who Refuse to Give Up', 'An Aggressive New Approach to Childhood Obesity', 'How Nonprofit Hospitals Put Profits Over Patients', 'What Biden Miscalculated About His Classified Documents', 'The Debt Ceiling Showdown, Explained', 'The Sunday Read: ‘Could I Survive the “Quietest Place on Earth”?’', 'A Mother, a Daughter, a Deadly Journey', 'Why the U.S. Is Sending More Powerful Weapons to Ukraine', 'The ‘Enemies List’ at Madison Square Garden', 'China’s Abrupt Reversal of ‘Zero Covid’', 'The Sunday Read: ‘Risking Everything to Offer Abortion Access Across State Lines’', 'The Presidents and the Classified Documents', 'The California Floods', 'A Jan. 6 Moment for Brazil', 'The Southwest Airlines Meltdown', 'Speaker McCarthy. But at What Cost?', 'The Sunday Read: ‘She Fell Nearly 2 Miles, and Walked Away’', 'Consider the Burying Beetle. (Or Else.)', 'The Life and Lies of George Santos', 'Inside Russia’s Military Catastrophe', 'A Crisis of Kevin McCarthy’s Own Making', 'One Man Flees Putin’s Draft: An Update', 'A Post-Roe America: An Update', 'A View of the Beginning of Time: An Update', 'How Two Friends Beat Amazon and Built a Union: An Update', 'On the Road With Ukraine’s Refugees: An Update', 'A Restaurant Critic (Ours) On the Year That Changed Him Forever', 'A Crisis in Peru Signals Trouble for South America', 'The Lives They Lived', 'A Congressional Call to Prosecute Trump', 'How This World Cup Changed Soccer', 'The Sunday Read: ‘He Had a Dark Secret. It Changed His Best Friend’s Life.’', 'Did Artificial Intelligence Just Get Too Smart?', 'Scenes from a Russian Draft Office', 'The Unexpected Ways the Left is Winning in the Abortion Fight', 'The Far-Right Plot to Overthrow Germany’s Government', 'How Layoff News Is Hiding a Hot Job Market', 'The Sunday Read: ‘Ukraine’s 15,000-Mile Lifeline’', 'A Court Case That Could Transform Elections', 'Why Haiti Asked for an Intervention', 'When Book Bans Came to Small Town New Jersey', 'The Last Senate Seat', 'Life in Ukraine as Russia Weaponizes Winter', 'The Sunday Read: ‘How Noah Baumbach Made “White Noise” a Disaster Movie for Our Moment’', 'Who Pays the Bill for Climate Change?', 'A Landmark Jan. 6 Verdict', 'What It’s Like Inside One of China’s Protests', 'A Secret Campaign to Influence the Supreme Court', 'Qatar’s Big Bet on the World Cup', 'Talking Turkey: A Holiday Special Edition', 'The ‘Tripledemic’ Explained', 'Trump Faces a New Special Counsel', 'The Sunday Read: ‘What Does Sustainable Living Look Like? Maybe Like Uruguay’', \"'The Run-Up': The Post-Mortem\", 'The Man Who Was Supposed to Save Crypto', 'The Far Right Rises in Israel', 'A Republican House', 'Another Trump Campaign', 'The Nation’s ‘Report Card’ on Remote Learning', 'The Sunday Read: ‘Young and Homeless in Rural America’', 'How Democrats Defied the Odds', 'The Republican Wave That Wasn’t', 'How Democracy Itself Ended Up on the Ballot in Wisconsin', 'John Fetterman and the Fight for White Working-Class Voters', 'The Sunday Read: ‘Taken Under Fascism, Spain’s “Stolen Babies” Are Learning the Truth’', \"‘The Run-Up': The Grass Roots, Part 2\", 'Can Abortion Still Save the Democrats?', 'Why the Supreme Court Might End Affirmative Action', 'The Man Who Tried to Kidnap Nancy Pelosi', 'Twitter in the Time of Elon Musk', 'Xi Jinping Opens a New Chapter for China', 'The Sunday Read: ‘Why We Take Animal Voyages’', \"'The Run-Up': The Grass Roots, Part 1\", 'Two Futures Face Off in Brazil', 'Is New York (of All Places) About to Go Red?', 'The Trump Subpoena', 'How Europe’s Energy Crisis Exposed Old Fault Lines and New Anxieties', 'Running an Election in the Heart of Election Denialism', 'The Sunday Read: ‘How Yiyun Li Became a Beacon for Readers in Mourning’', \"'The Run-Up': What 12 Years of Gerrymandering Has Done to Wisconsin\", 'The Rapid Downfall of Liz Truss', 'Why Republicans Are Winning Swing Voters', 'Race, Power and the Leaked Recording in Los Angeles', 'Did Hurricane Ian Bust Florida’s Housing Boom?', 'The Personal and Political Saga of Herschel Walker', 'The Sunday Read: ‘Daring to Speak Up About Race in a Divided School District’', \"'The Run-Up': The Stacey Abrams Playbook\", 'The Fear Facer: An Update', \"'The Decision of My Life': Part 3\", 'A Bridge, a Bomb and Putin’s Revenge', 'The Rise of the Single-Family Home', 'The Sunday Read: ‘The Search for Intelligent Life Is About to Get a Lot More Interesting’', \"'The Run-Up': The Blueprint\", 'What Are Tactical Nuclear Weapons, and What if Russia Uses Them?', 'Why Is It So Hard to Hit the Brakes on Inflation?', 'Pakistan, Under Water', 'Another Momentous Term for the Supreme Court', 'The Latino Voters Who Could Decide the Midterms', 'The Sunday Read: ‘The Safe Space That Became a Viral Nightmare’', \"'The Run-Up': The Guardrails\", 'Florida After Hurricane Ian', 'One Man Flees Putin’s Draft', 'An Iranian Uprising Led By Women', 'The Great Pandemic Theft', 'Why Fewer American Children Are Living in Poverty', 'The Sunday Read: ‘The Quest by Circadian Medicine to Make the Most of Our Body Clocks’', \"'The Run-Up': The Republic\", 'The Pastors Being Driven Out by Trumpism', 'Putin’s Escalation of the War in Ukraine', 'How Border Politics Landed in Martha’s Vineyard', 'Why Adnan Syed Was Released From Prison', 'Can the U.K. Remain United Without the Queen?', 'The Sunday Read: “Why Do We Love TikTok Audio Memes? Call it ‘Brainfeel.’”', \"'The Run-Up': The Autopsy\", 'Promise and Peril at the Bottom of the Sea', 'Could a National Abortion Ban Save Republicans?', 'The College Pricing Game', 'Is Ukraine Turning the Tide in the War?', 'Serena Williams’s Final Run', 'The Sunday Read: ‘How the Claremont Institute Became a Nerve Center of the American Right’', 'How Queen Elizabeth II Preserved the Monarchy', 'Is California Jump-Starting the Electric Vehicle Revolution?', 'A Nuclear Power Plant on Ukraine’s Front Lines', \"Introducing: 'The Run-Up'\", \"A User's Guide to the Midterm Elections\", 'Vancouver’s Unconventional Approach to Its Fentanyl Crisis', 'How Gorbachev Changed the World', 'The Parkland Students, Four Years Later', 'Inside the Adolescent Mental Health Crisis', 'Is a Local Prosecutor Making the Strongest Case Against Trump?', 'The Sunday Read: ‘She’s at Brown. Her Heart’s Still in Kabul.’', 'A New Plan for Student Loans', 'Who Killed Daria Dugina?', 'The Rise of Workplace Surveillance', 'The Effort to Punish Women for Having Abortions', 'A Coal Miner’s Political Transformation', 'The Sunday Read: ‘Can Planting a Trillion New Trees Save the World?’', 'Cosmic Questions', 'About Those Documents at Mar-a-Lago', 'The Summer of Airline Chaos', 'The Taliban Takeover, One Year Later', 'The Tax Loophole That Won’t Die', 'The Sunday Read: ‘How One Restaurateur Transformed America’s Energy Industry’', 'Boy Scouts or Girl Scouts?', 'Pregnant at 16', 'The F.B.I. Search of Trump’s Home', 'How Democrats Salvaged a History-Making Bill', 'The Alex Jones Verdict and the Fight Against Disinformation', \"The Sunday Read: 'Why Was Joshua Held for More Than Two Years for Someone Else’s Crimes?'\", 'Vacationing in the Time of Covid', 'How to Interpret the Kansas Referendum on Abortion', 'Why Democrats Are Bankrolling Far-Right Candidates', 'The Killing of bin Laden’s Successor', 'How Monkeypox Went From Containable to Crisis', 'The Sunday Read: ‘Inside the Push to Diversify the Book Business’', 'The Rise of the Conservative Latina', 'How Expecting Inflation Can Actually Create More Inflation', \"How Deshaun Watson Became the N.F.L.'s Biggest Scandal\", 'How Roe’s Demise Could Safeguard Gay Marriage', 'Death of a Crypto Company', 'The Sunday Read: ‘The Books About Sex That Every Family Should Read’', 'Utah’s ‘Environmental Nuclear Bomb’', 'The Case Against Donald Trump', 'How Abortion Bans Are Restricting Miscarriage Care', 'Broken Climate Pledges and Europe’s Heat Wave', 'When Biden Met M.B.S.', 'The Sunday Read: ‘Want to Do Less Time? A Prison Consultant Might Be Able to Help.’', 'A View of the Beginning of Time', 'How Sri Lanka’s Economy Collapsed', 'Could the Midterms Be Tighter Than Expected?', 'Can Elon Musk Get Out of Buying Twitter?', 'On Abortion Laws, It All Goes Back to 2010', 'The Sunday Read: ‘The Rise and Fall of America’s Environmentalist Underground’', 'The Final Days of Boris Johnson', 'An Anti-Abortion Campaigner on the Movement’s Historic Win', 'How Brittney Griner Became a Political Pawn', 'The Promises and Pitfalls of the New Gun Law', 'An Abortion Rights Champion of the 1970s on Life Before and After Roe', 'How Long Will Europe Support Ukraine?', 'An Explosive Jan. 6 Hearing', 'The New U.S. Abortion Map', 'Inside Four Abortion Clinics the Day Roe Ended', 'The Sunday Read: ‘How Houston Moved 25,000 People From the Streets Into Homes of Their Own’', 'Special Episode: Roe v. Wade Is Overturned', 'One Elite High School’s Struggle Over Admissions', 'Bonus: A Major Ruling on Guns', 'The Supreme Court Case That Could Doom U.S. Climate Goals', 'How Biden’s Approval Rating Got So Low', 'Why Is It So Hard to Buy a House in America Right Now?', 'A New Podcast From The Times: First Person', 'What the Jan. 6 Hearings Have Revealed So Far', 'How Worried Should We Be About Monkeypox?', 'The Claws of a Bear Market', 'Senator Chris Murphy on the Bipartisan Gun Safety Deal', 'The Incomplete Picture of the War in Ukraine', 'The Sunday Read: ‘The “E-Pimps” of OnlyFans’', 'The Real Meaning of Chesa Boudin’s Recall', 'The Proud Boys’ Path to Jan. 6', '‘Most Violence Is Not Caused by Mental Illness’', 'Why Polling on Gun Control Gets It Wrong', 'What Depp v. Heard Means for #MeToo', 'The Sunday Read: ‘I’ve Always Struggled With My Weight. Losing It Didn’t Mean Winning.’', 'The Cost of Haiti’s Freedom', 'Lessons in Gun Control From California', 'Portraits of Grief From Uvalde', 'Why the Police Took 78 Minutes to Stop the Uvalde Gunman', 'What Really Caused the Baby Formula Shortage', 'The Big Lie and The Midterms', 'Another Elementary School Massacre', 'Is the U.S. Changing Its Stance on Taiwan?', 'A Tactical Disaster for Russia’s Military', 'The Sunday Read: ‘Can Virtual Reality Help Ease Chronic Pain?’', 'A Better Understanding of Long Covid', 'Inside Operation Lone Star', 'The Battle for Azovstal: A Soldier’s Story', 'The Mexican Model of Abortion Rights', 'The Racist Theory Behind So Many Mass Shootings', 'The Sunday Read: ‘I Lived the #VanLife. It Wasn’t Pretty.’', 'One Million', 'Why Inflation Doesn’t Affect Us All the Same', 'A Post-Roe America, Part 2: The Abortion Providers', 'How Putin Co-opted Russia’s Biggest Holiday', 'The Unseen Trauma of America’s Drone Pilots', 'The Sunday Read: ‘It Was Just a Kayaking Trip. Until It Upended Our Lives.’', 'The Story of Roe v. Wade, Part 2: The Culture Wars (From the Archive)', 'The Story of Roe v. Wade, Part 1: Who Was Jane Roe? (From the Archive)', 'A Post-Roe America, Part 1: The Anti-Abortion Activists', 'A Post-Roe Map of America', 'Is This How Roe Ends?', 'The Mar-a-Lago Midterms', 'Are Unions Making a Comeback?', 'The Sunday Read: ‘This Was Trump Pulling a Putin’', 'The Risks of a New U.S. Approach in Ukraine', 'Most of Us Have Had Covid', 'The Supreme Court Considers a Football Coach’s Prayers', 'How a Sudden Mask Ruling Left the C.D.C. Reeling', 'A Push for Traffic Stop Reform', 'The Sunday Read: ‘How Many Billionaires Are There, Anyway?’', 'France’s Big Decision', 'When Texas Went After Transgender Care, Part 2', 'When Texas Went After Transgender Care, Part 1', 'The Cost of Dissidence in Russia', 'Biden’s Student Loan Dilemma', 'The Sunday Read: ‘The War for the Rainforest’', '27 Years in Solitary Confinement', 'Twitter’s Elon Musk Problem', 'The Next Phase of the War in Ukraine', 'Biden’s Climate Shift', 'How Two Friends Beat Amazon and Built a Union', 'The Sunday Read: ‘The Battle for the Mural — and the Future of Belarus’', 'How Germany’s Approach to Russia Backfired', 'A Covid Mystery in Africa', 'Why Proving War Crimes Is Difficult and Rare', 'How the War in Ukraine is Creating a Global Food Crisis', '‘The Illegality of the Plan Was Obvious’', 'The Sunday Read: ‘They Came to Help Migrants. Now, Europe Has Turned on Them.’', 'Inside Mariupol', 'How Democrats Evened the Congressional Map', 'The Political Lives of Clarence and Ginni Thomas', 'Senator Joe Manchin’s Conflict of Interest', 'Four Million Ukrainians in Limbo', 'The Sunday Read: ‘Nurses Have Finally Learned What They’re Worth’', '‘The Dreams We Had Are Like a Dream’', 'Ukraine Puts Putin’s Playbook to the Test', 'The Confirmation Hearing of Ketanji Brown Jackson', 'Will Sanctioning Oligarchs Change the War?', 'Could the U.S. See Another Covid Wave?', 'The Global Race to Mine the Metal of the Future', 'Four Paths Forward in Ukraine', 'Inflation Lessons From the 1970s', 'The Story Behind a Defining War Photo', 'How Russians See the War in Ukraine', 'The Sunday Read: ‘What Rashida Tlaib Represents’', 'Putin’s Endgame: A Conversation With Fiona Hill', 'Inside Ukraine’s Embattled Cities', 'Will Banning Russian Oil Hurt Russia, or the U.S.?', 'Why Zelensky Poses a Unique Threat to Putin', 'On the Road With Ukraine’s Refugees', 'The Sunday Read: ‘The Waco Biker Shootout Left Nine Dead. Why Was No One Convicted?’', 'The Death of the Competitive Congressional District', 'Why Russia Hasn’t Defeated Ukraine', 'How Europe Came Around on Sanctions', 'In Ukraine, the Men Who Must Stay and Fight', 'The Battle for Kyiv', \"The Sunday Read: 'The Battle for the World’s Most Powerful Cyberweapon'\", 'Ukrainians’ Choice: Fight or Flee?', 'The Russian Invasion Begins', '‘A Knife to the Throat’: Putin’s Logic for Invading Ukraine', 'Russian Troops Advance', '‘Somebody’s Got to Save Us, While We’re Saving Everybody Else’', 'Why U.S. Soldiers Won’t Come to Ukraine’s Rescue', 'An American-Style Protest in Canada', 'How Ukrainians View This Perilous Moment', 'The Rule at the Center of the N.F.L. Discrimination Lawsuit', 'The Sunday Read: ‘Animals That Infect Humans Are Scary. It’s Worse When We Infect Them Back’', 'Introducing ‘The Trojan Horse Affair’', 'The Saga of Joe Rogan', 'Why Democratic Governors Are Turning Against Mask Mandates', 'A Movement to Fight Misinformation... With Misinformation', 'Is Russia Bluffing?', 'Who Else Is Culpable in George Floyd’s Death?', 'The Sunday Read: ‘How A.I. Conquered Poker’', 'A ‘Zero Covid’ Olympics', 'Is ISIS Back on the Rise?', 'The Trump Plan to Seize Voting Machines', 'Did Democrats Make Inflation Worse?', 'We Need to Talk About Covid, Part 2: A Conversation with Dr. Fauci', 'The Sunday Read: ‘The Joys (and Challenges) of Sex After 70’', '‘Who Do You Want Controlling Your Food?’', 'Biden Gets a Supreme Court Pick', 'We Need to Talk About Covid, Part 1', 'How Partying Could Be Boris Johnson’s Undoing', 'Documenting a Death by Euthanasia', 'The Sunday Read: ‘How Disgust Explains Everything’', 'What the ‘Djokovic Affair’ Revealed About Australia', 'Microsoft and the Metaverse', 'A Last-Gasp Push on Voting Rights', 'The Civilian Casualties of America’s Air Wars', 'The Sunday Read: ‘This Isn’t the California I Married’', 'The Life and Legacy of Sidney Poitier', '‘The Kids Are Casualties in a War’', 'Russia and the U.S. Face Off Over Ukraine', 'This Covid Surge Feels Different', 'The Rise and Fall of the Golden Globes', 'The Sunday Read: ‘What if There’s No Such Thing as Closure?’', 'Jan. 6, Part 3: The State of American Democracy', \"Jan. 6, Part 2: Liz Cheney’s Battle Against the 'Big Lie'\", 'Jan. 6, Part 1: ‘The Herd Mentality’', 'Investigating the Prenatal Testing Market', 'Why Omicron Is Counterintuitive', 'Texas After the Storm: An Update', 'A Nursing Home’s First Day Out of Lockdown: An Update', 'A Conversation With a Dogecoin Millionaire: An Update', 'A Capitol Officer Recounts Jan. 6: An Update', 'Stories from the Great American Labor Shortage: An Update', 'The Year in Sound', 'A Covid Testing Crisis, Again', 'Has Manchin Doomed the Build Back Better Plan?', '‘The Decision of My Life’: Part 2', 'The Sunday Read: ‘What Does It Mean to Save a Neighborhood?’', 'What to Expect From the Next Phase of the Pandemic', 'The Future of America’s Abortion Fight', 'An Economic Catastrophe in Afghanistan', 'Why Was Haiti’s President Assassinated?', 'The Outsize Life and Quiet Death of the Steele Dossier', 'The Sunday Read: ‘How the Real Estate Boom Left Black Neighborhoods Behind’', 'The Censoring of Peng Shuai', '‘Kids Are Dying. How Are These Sites Still Allowed?’', 'Why Ukraine Matters to Vladimir Putin', 'A New Strategy for Prosecuting School Shootings', 'The Trial of Ghislaine Maxwell', 'The Sunday Read: ‘The Emily Ratajkowski You’ll Never See’', 'The Life and Legacy of Stephen Sondheim', 'The Supreme Court Considers the Future of Roe', 'Amazon and the Labor Shortage', 'What We Know About the Omicron Variant', 'A Prosecutor’s Winning Strategy in the Ahmaud Arbery Case', 'The Farmers Revolt in India', 'Righting the Historical Wrong of the Claiborne Highway', 'The Acquittal of Kyle Rittenhouse', 'The Sunday Read: ‘Did Covid Change How We Dream?’', 'How Belarus Manufactured a Border Crisis', 'The Economy Is Good. So Why Do We Feel Terrible About It?', 'The School Board Wars, Part 2', 'The School Board Wars, Part 1', 'How the U.S. Hid a Deadly Airstrike', 'The Sunday Read: ‘The Untold Story of Sushi in America’', 'An Interview With Dr. Anthony Fauci', 'The Public Health Officials Under Siege', '‘How Did We Let People Die This Way?’', 'A Conversation With a Virginia Democrat', 'A Case That Could Transform America’s Relationship With Guns', 'The Sunday Read: ‘I Fell in Love With Motorcycles. But Could I Ever Love Sturgis?’', 'The Trial of Kyle Rittenhouse', 'A Rough Election Night for the Democrats', 'A Last Chance to Avert Climate Disaster?', 'The Perilous Politics of Rising Inflation', 'Why Do So Many Traffic Stops Go Wrong?', \"The Sunday Read: 'Fear on Cape Cod as Sharks Hunt Again'\", 'A Delicate Compromise in the Capitol', \"The Trial Over Ahmaud Arbery's Killing\", 'The Story of Kyrsten Sinema', 'Why Spending Too Little Could Backfire on Democrats', 'A Threat to China’s Economy', 'The Sunday Read: ‘Who Is the Bad Art Friend?’', \"Qaddafi's Son is Alive, and He Wants to Take Back Libya\", 'A Showdown in Chicago', 'How a Single Senator Derailed Biden’s Climate Plan', 'The Life and Career of Colin Powell', 'Why Are All Eyes on the Virginia Governor’s Race?', 'The Sunday Read: ‘Laurie Anderson Has a Message for Us Humans’', 'The Great Supply Chain Disruption', '‘No Crime Is Worth That’', '‘The Decision of My Life’', 'Is Child Care a Public Responsibility?', 'Which Towns Are Worth Saving?', 'The Sunday Read: ‘He Was the “Perfect Villain” for Voting Conspiracists’', 'A Troubling C.I.A. Admission', 'The State of the Pandemic', 'The Facebook Whistle-Blower Testifies', 'The Most Important Supreme Court Term in Decades', 'What’s Behind the Ivermectin Frenzy?', 'The Sunday Read: ‘I Had a Chance to Travel Anywhere. Why Did I Pick Spokane?’', '‘They Don’t Understand That We’re Real People’', 'The Democrats Who Might Block Biden’s Infrastructure Plan', 'Controlling Britney Spears', 'A Conversation With an Afghan General', 'Another Crisis at the Border', 'The Sunday Read: ‘Why Was Vicha Ratanapakdee Killed?’', 'Germany, and Europe, After Merkel', 'Redrawing the Map in New York', 'Submarines and Shifting Allegiances', 'A ‘Righteous Strike’', 'One Family’s Fight Against the Dixie Fire', 'The Sunday Read: ‘The Composer at the Frontier of Movie Music’', 'A Broadway Show Comes Back to Life', 'The United States v. Elizabeth Holmes', 'Mexico’s Path to Legalizing Abortion', 'A Hidden Shame in Nursing Homes', 'Biden’s Bet on Vaccine Mandates', \"Special Episode: What Does It Mean to 'Never Forget'?\", '‘We’re Going to Take Over the World’', '‘I’m Part of Something That’s Really Evil’', 'The Summer of Delta', 'How Will the Taliban Rule This Time?', 'How Texas Banned Almost All Abortions', 'New Orleans in the Aftermath of Hurricane Ida', 'The Education Lost to the Pandemic', 'America’s Final Hours in Afghanistan', 'The Tale of California’s Recall Election', 'The Sunday Read: ‘How Long Can We Live?’', 'The Bombings at the Kabul Airport', 'Biden’s Border Dilemma', 'The Race to Evacuate Kabul', 'Why Mexico Is Suing U.S. Gunmakers', 'Children and Covid: Your Questions, Answered', 'The Sunday Read: ‘The Case of the Vanishing Jungle’', 'Why Apple Is About To Search Your Files', 'The Interpreters the U.S. Left Behind in Afghanistan', 'A Devastating Earthquake in Haiti', 'America’s Miscalculations, Afghanistan’s Collapse', 'The Fall of Afghanistan', 'The Sunday Read: ‘I Write About the Law. But Could I Really Help Free a Prisoner?’', 'A ‘Code Red for Humanity’', 'How Washington Now Works', 'The Resignation of Andrew Cuomo', 'The Taliban’s Advance', 'Back to School Amid the Delta Variant', 'The Sunday Read: ‘The Man Who Filed More Than 180 Disability Lawsuits’', 'Voices of the Unvaccinated', 'The End of Andrew Cuomo?', 'Trouble in Tunisia', 'Stories From the Great American Labor Shortage', 'A New Chapter of the Coronavirus', 'The Sunday Read: ‘Is There a Right Way to Act Blind?’', 'From Opinion: Nikole Hannah-Jones and Ta-Nehisi Coates on the Story We Tell About America', 'The Story of Simone Biles', 'Why Is China Expanding Its Nuclear Arsenal?', 'The Saga of Congress’s Jan. 6 Investigation', 'The Vaccine Mandate Conundrum', 'Breakthrough Infections, Explained', 'The Sunday Read: ‘The Little Hedge Fund Taking Down Big Oil’', 'Putting a Price on Pollution', 'Who Killed Haiti’s President?', 'Reacting to Chinese Cyberattacks', 'Facebook vs. the White House', 'Do We Need a Third Covid Shot?', 'The Sunday Read: ‘The Mystery of the $113 Million Deli’', 'State-Sponsored Abuse in Canada', 'Cubans Take to the Streets', 'The Heat Wave That Hit the Pacific Northwest', 'Will a Top Trump Deputy Flip?', 'A City’s Step Toward Reparations', 'From The Sunday Read Archives: ‘Alone at Sea’', 'The Assassination of Haiti’s President', 'The End of America’s 20-Year War', \"'Some Hope Is Better Than Having No Hope'\", 'The Rise of Delta', 'The Debate Over Critical Race Theory', 'A New Era in College Sports', 'Inside the U.F.O. Report', 'The Collapse of Champlain Towers', 'What the Japanese Think of the Olympics', 'The Sunday Read: ‘The Woman Who Made van Gogh’', 'From Opinion: Anthony Fauci Is Pissed Off', 'Day X, Part 5: Defensive Democracy', 'The Struggles of India’s Vaccine Giant', 'Lessons from the Demise of a Voting Rights Bill', 'Policing and the New York Mayoral Race', 'A Crucial Voting Rights Decision', 'The Sunday Read: ‘Finding My Father’', 'Day X, Part 4: Franco A.', 'The Transformation of Ralph Northam', 'The War in Tigray', 'Why Billionaires Pay So Little Tax', 'Apple’s Bet on China', 'From The Sunday Read Archives: ‘My Mustache, My Self’', 'Day X, Part 3: Blind Spot 2.0', 'The Unlikely Pioneer Behind mRNA Vaccines', 'The Bill That United the Senate', 'Who is Hacking the U.S. Economy?', 'Will Netanyahu Fall?', \"The Sunday Read: ‘The Native Scholar Who Wasn't’\", 'Bonus: Ezra Klein Talks to Obama About How America Went From ‘Yes We Can’ to ‘MAGA’', 'Day X, Part 2: In the Stomach', 'Inside the Texas Legislature', 'Joe Manchin’s Motivations', 'The Burning of Black Tulsa', 'Day X, Part 1: Shadow Army?', 'The Saga of Ryanair Flight 4978', 'Why Hamas Keeps Fighting, and Losing', 'A Cheerleader, a Snapchat Post and the Supreme Court', 'The Crumbling of the N.R.A.', 'The Sunday Read: ‘Neanderthals Were People, Too’', 'Presenting This American Life: “The Daily”', 'Two Soldiers, Ten Years', 'Netanyahu and Biden: A History', 'Nine Days in Gaza', 'A Strange Moment for the U.S. Economy', 'Prosecuting the Capitol Rioters', 'From The Sunday Read Archive: ‘Weird Al Yankovic’s Weirdly Enduring Appeal’', 'A Conversation With a Dogecoin Millionaire', 'The Israeli-Palestinian Crisis, Reignited', '‘Ignoring the Lie Emboldens the Liar’', 'Apple vs. Facebook', 'Rural Tennessee’s Vaccine Hesitators', 'From The Sunday Read Archive: ‘The Accusation’', 'Why Herd Immunity Is Slipping Away', 'A Major Ruling From Facebook’s ‘Supreme Court’', 'A Shrinking Society in Japan', 'A Population Slowdown in the U.S.', 'A Vast Web of Vengeance, Part 2', 'The Sunday Read: ‘He Wants to Save Classics From Whiteness. Can the Field Survive?’', 'Introducing: ‘The Improvement Association,’ From the Makers of Serial', 'Odessa, Part 4: Wellness Check', '‘We Have to Prove Democracy Still Works’', 'Fear and Loss: Inside India’s Coronavirus Crisis', 'Can the U.S. Win Back Its Climate Credibility?', 'Why Russia Is Exporting So Much Vaccine', 'The Sunday Read: ‘The “Herald Square Bomber” Who Wasn’t’', 'The Super League That Wasn’t', 'How a ‘Red Flag’ Law Failed in Indiana', 'Guilty of All Charges', 'A Wave of Anti-Transgender Legislation', 'A Difficult Diplomatic Triangle', 'The Sunday Read: ‘Voices Carry’', 'The Agony of Pandemic Parenting', 'The Johnson & Johnson Vaccine Pause Explained', 'A Legal Winning Streak for Religion', 'Cryptocurrency’s Newest Frontier', 'Europe’s Vaccination Problem', 'The Sunday Read: ‘The Ghost Writer’', 'Odessa, Part 3: The Band Bus Quarantine', 'The Case Against Derek Chauvin', 'Targeting Overseas Tax Shelters', 'A Vast Web of Vengeance', 'A Military That Murders Its Own People', 'The Sunday Read: ‘The Beauty of 78.5 Million Followers’', 'Inside the Biden Infrastructure Plan', 'A Union Drive at Amazon', 'A Conversation With Senator Raphael Warnock', 'A National Campaign to Restrict Voting', 'The Trial of Derek Chauvin', \"The Sunday Read: 'Rembrandt in the Blood'\", 'A Nursing Home’s First Day Out of Lockdown', 'The State of Vaccinations', 'Joe Biden’s 30-Year Quest for Gun Control', 'A Food Critic Loses Her Sense of Smell', 'The Cruel Reality of Long Covid-19', \"The Sunday Read: 'Beauty of the Beasts'\", \"Bonus: The N-Word is Both Unspeakable and Ubiquitous. 'Still Processing' is Back, and They're Confronting it.\", 'The Ruthless Rise and Lonely Decline of Andrew Cuomo', 'A Murderous Rampage in Georgia', 'The Fight for (and Against) a $15 Minimum Wage', 'A Wind Farm in Coal Country', 'Life After the Vaccine in Israel', \"The Sunday Read: 'The Case for the Subway'\", 'Odessa, Part 2: Friday Night Lights', 'Diana and Meghan', '‘I Thought I Was Going to Die’: A Capitol Police Officer Recounts Jan. 6', 'A Safety Net for American Children', \"Biden's Dilemmas, Part 2: Children at the Border\", \"The Sunday Read: 'The Lonely Death of George Bell'\", 'Biden’s Dilemmas, Part 1: Punishing Saudi Arabia', 'How Close Is the Pandemic’s End?', 'Can Bill Gates Vaccinate the World?', 'The $1.9 Trillion Stimulus Plan', 'Texas After the Storm', 'The Sunday Read: ‘Sigrid Johnson Was Black. A DNA Test Said She Wasn’t’', 'Odessa, Part 1: The School Year Begins', 'Fate, Domestic Terrorism and the Nomination of Merrick Garland', 'When Covid Hit Nursing Homes, Part 2: ‘They’re Not Giving Us an Ending’', 'When Covid Hit Nursing Homes, Part 1: ‘My Mother Died Alone’', 'The Legacy of Rush Limbaugh', 'The Sunday Read: ‘The Man Who Turned Credit Card Points Into an Empire’', 'Kids and Covid', 'A Battle for the Soul of Rwanda', 'The Blackout in Texas', 'An Impeachment Manager on Trump’s Acquittal', \"The Sunday Read: 'Who's Making All Those Scam Calls?'\", 'France, Islam and ‘Laïcité’', 'A Broken System for Housing the Homeless', 'What Will It Take to Reopen Schools?', 'A Guide to the (Latest) Impeachment Trial', 'Liz Cheney vs. Marjorie Taylor Greene', \"The Sunday Read: 'The Many Lives of Steven Yeun'\", 'The $2.7 Billion Case Against Fox News', 'The End of Democracy in Myanmar', '‘Please, Give Me Back My Daughter’', 'Assessing Biden’s Climate Plan', 'The GameStop Rebellion', \"The Sunday Read: 'The Forgotten Sense'\", 'A Conspiracy Theory Is Proved Wrong', 'The Fate of the Filibuster', 'Why Are U.S. Coronavirus Cases Falling? And Will the Trend Last?', '‘The Skunk at the Picnic’: Dr. Anthony Fauci on Working for Trump', 'Aleksei Navalny and the Future of Russia', 'The Sunday Read: ‘The Amateur Cloud Society That (Sort Of) Rattled the Scientific Community’', 'Biden’s Executive Orders', 'The Inauguration of Joe Biden', '‘Restoring the First Brick of Dignity’: Biden Supporters on His Inauguration', \"'What Kind of Message Is That?': How Republicans See the Attack on the Capitol\", \"The Sunday Read: 'The Valve Turners'\", '‘Rankly Unfit’: The View From a Republican Who Voted to Impeach', 'Impeached, Again', 'Is More Violence Coming?', 'A Swift Impeachment Plan', 'A Pandemic Update: The Variant and the Vaccine Rollout', \"The Sunday Read: 'A Mother and Daughter at the End'\", 'How They Stormed Congress', 'An Assault on the Capitol', 'A Historic Night in Georgia', 'The Georgia Runoffs, Part 2: ‘I Have Zero Confidence in My Vote’', 'The Georgia Runoffs, Part 1: ‘We Are Black Diamonds.’', 'Genie Chance and the Great Alaska Earthquake: An Update', '‘Who Replaces Me?’: An Update', 'A New Way to Mourn: An Update', 'How a Small Bar Battled to Survive the Coronavirus: An Update', \"The Sunday Read: 'Cher Everlasting'\", '24 Hours Inside a Brooklyn Hospital: An Update', 'The Year in Good News', 'The Lives They Lived', 'Delilah', \"The Sunday Read: 'The Movement to Bring Death Closer'\", 'Evicted During the Pandemic', 'Should Facebook Be Broken Up?', 'Hacked, Again', 'America’s First Coronavirus Vaccinations', 'The U.S. Approves a Vaccine', \"The Sunday Read: 'Lovers in Auschwitz, Reunited'\", 'A Guide to Georgia’s Senate Runoffs', 'Why Did the U.S. Turn Down Vaccine Doses?', 'The Beginning of the End of the Pandemic', 'Trump Shut the Door on Migrants. Will Biden Open It?', '‘It Has All Gone Too Far’', 'The Sunday Read: ‘The Social Life of Forests’', 'The President and Pre-Emptive Pardons', '‘Something Terrible Has Happened’', 'Biden’s Cabinet Picks, Part 2: Antony Blinken', 'Biden’s Cabinet Picks, Part 1: Janet Yellen', 'When and How You’ll Get a Vaccine', 'A Day at the Food Pantry', 'A Failed Attempt to Overturn the Election', 'New York City’s 3 Percent Problem', \"The Sunday Read: 'Man to Man'\", 'When the Pandemic Came to Rural Wisconsin', 'The Pandemic Economy in 7 Numbers', 'The Rise, Fall and Resurrection of the Taliban', 'Why Europe Is Flattening the Curve (and the U.S. Isn’t)', 'Division Among the Democrats', \"The Sunday Read: 'Hard Times'\", 'A Non-Transfer of Power', 'A Vaccine Breakthrough', 'The (Unfinished) Battle for the Senate', 'About Those Polls…', 'Celebration and Sorrow: Americans React to the Election', 'The Sunday Read: ‘Lost in the Deep’', 'Special Episode: Joe Biden Wins the Presidency', 'The President’s Damaging Lie', 'Joe Biden Takes the Lead', 'An Unfinished Election', \"The Field: On Election Day, 'Two Different Worlds'\", \"Special Announcement: The Daily's Live Election Day Broadcast\", 'A Viewer’s Guide to Election Night', 'The Sunday Read: ‘Kamala Harris, Mass Incarceration and Me’', 'The Field: The Shy Biden Voters Among Florida’s Seniors', 'The Field: The Specter of Political Violence', 'A Partisan Future for Local News?', 'The Shadow of the 2000 Election', 'The Field: Why Suburban Women Changed Their Minds', \"The Sunday Read: 'My Mustache, My Self'\", 'Sudden Civility: The Final Presidential Debate', 'A Peculiar Way to Pick a President', 'A Misinformation Test for Social Media', 'A Pivotal Senate Race in North Carolina', 'The Field: A Divided Latino Vote in Arizona', \"The Sunday Read: 'Jim Dwyer, About New York'\", 'The Candidates: Joe Biden’s Plans', 'The Candidates: Donald Trump’s Promises', 'The Confirmation Hearing of Amy Coney Barrett', 'The Politics of Pandemic Relief', 'Why the Left Is Losing on Abortion', \"The Sunday Read: 'David's Ankles'\", 'The Field: The Battle for Pennsylvania’s White Working Class', 'Plexiglass and Civility: The Vice-Presidential Debate', 'Where Is This Pandemic Headed?', 'How a Small Bar Battled to Survive the Coronavirus', 'The Latest on the President’s Health', 'One Million Lives', 'Special Edition: The Pandemic Reaches the President', 'The Field: The Fight For Voting Rights in Florida', 'A User’s Guide to Mail-In Voting', 'Chaos and Contempt: The First Presidential Debate', 'The President’s Taxes', 'The Past, Present and Future of Amy Coney Barrett', \"The Sunday Read: 'How Climate Migration Will Reshape America'\", 'The Field: Policing and Power in Minneapolis', 'On the Ground in Louisville', 'A Historic Opening for Anti-Abortion Activists', 'Swing Voters and the Supreme Court Vacancy', 'Part 1: The Life of Ruth Bader Ginsburg', 'Part 2: The Battle Over Her Seat', \"The Sunday Read: 'The Agency'\", 'Special Episode: ‘An Obituary for the Land’', 'A Messy Return to School in New York', 'The Forgotten Refugee Crisis in Europe', 'Quarantine on a College Campus', 'A Deadly Tinderbox', 'Inside Trump’s Immigration Crackdown', \"The Sunday Read: 'The Children in the Shadows'\", 'A Self-Perpetuating Cycle of Wildfires', 'The Killing of Breonna Taylor, Part 2', 'The Killing of Breonna Taylor, Part 1', 'What Happened to Daniel Prude?', 'Bringing the Theater Back to Life', 'Jimmy Lai vs. China', 'A High-Stakes Standoff in Belarus', 'Joe Biden’s Rebuttal', '‘Who Replaces Me?’', \"The Sunday Read: 'In the Line of Fire'\", 'Donald Trump Jr.’s Journey to Republican Stardom', 'On the Ground in Kenosha', 'Trump’s Suburban Strategy', 'Where We Stand on the Pandemic', 'A Surge in Shootings', \"The Sunday Read: 'Sweatpants Forever'\", 'A Pandemic-Proof Bubble?', 'Joe Biden’s 30-Year Quest', 'The President, the Postal Service and the Election', 'A Dinner and a Deal', 'Inside Operation Warp Speed', \"The Sunday Read: 'Unwanted Truths'\", 'Protesting Her Own Employer', 'Why Teachers Aren’t Ready to Reopen Schools', 'A Historic V.P. Decision', 'Cancel Culture, Part 2: A Case Study', 'Cancel Culture, Part 1: Where It Came From', \"The Sunday Read: 'A Speck in the Sea'\", \"Jack Dorsey on Twitter's Mistakes\", 'The Day That Shook Beirut', '‘Stay Black and Die’', 'Is the U.S. Ready to Vote by Mail?', 'Wrongfully Accused by an Algorithm', \"The Sunday Read: 'On Female Rage'\", 'A #MeToo Moment in the Military', 'The Big Tech Hearing', 'Confronting China', 'Why $600 Checks Are Tearing Republicans Apart', 'The Mistakes New York Made', \"The Sunday Read: 'The Accusation'\", 'The Battle for a Baseball Season', 'The Showdown in Portland', 'The Science of School Reopenings', 'The Vaccine Trust Problem', 'The Life and Legacy of John Lewis', \"The Sunday Read: 'The Man Who Cracked the Lottery'\", 'Tilly Remembers Her Grandfather, Three Months On', 'Reopening, Warily: Revisiting Jasmine Lombrage', 'One Meat Plant, One Thousand Infections: Revisiting Achut Deng', \"'It's Like a War.' Revisiting Dr. Fabiano Di Marco.\", 'A Turning Point for Hong Kong', \"The Sunday Read: 'The Decameron Project'\", \"The Fate of Trump's Financial Records\", 'A Missed Warning About Silent Coronavirus Infections', 'Counting the Infected', '‘Their Goal Is the End of America’', 'Four New Insights About the Coronavirus', 'What Went Wrong in Brazil', 'A Russian Plot to Kill U.S. Soldiers', 'A Major Ruling on Abortion', 'A Conversation With a Police Union Leader', \"The Sunday Read: 'The Man Who Saw America'\", 'A Bit of Relief: The Long Distance Chorus', 'A Dilemma in Texas', 'The Voters Trump Is Losing', 'The Epidemic of Unemployment', \"The Battle Over the Democratic Party's Future\", 'How Facebook Is Undermining Black Lives Matter', \"The Sunday Read: 'Facing the Wind'\", 'The History and Meaning of Juneteenth', 'The Latest: The Supreme Court Rules on DACA', 'Who Will Be Joe Biden’s Running Mate?', 'The Killing of Rayshard Brooks', 'A Landmark Supreme Court Ruling', 'What We’ve Learned About the Coronavirus', \"The Sunday Read: 'Getting Out'\", 'Special Episode: The Song That Found Me', 'The Struggle to Teach From Afar', \"Georgia's Election Meltdown\", '‘I Want To Touch the World’', 'The Case For Defunding the Police', 'Why Are Police Attacking Protestors?', \"The Sunday Read: 'The Condition of Black Life Is One of Mourning’\", \"'Rabbit Hole,' Episode 8: 'We Go All'\", \"Why They're Protesting\", 'The Showdown at Lafayette Square', 'The Mayor of Minneapolis', 'The Systems That Protect the Police', 'A Weekend of Pain and Protest', \"'Rabbit Hole,' Episode 7: 'Where We Go One'\", 'Special Episode: The Latest From Minneapolis', 'One Hundred Thousand Lives', 'Space Travel, Privatized', 'Can the Postal Service Survive the Pandemic?', 'The Story of Two Brothers From Mexico', \"'Rabbit Hole,' Episode 6: Impasse\", 'Genie Chance and the Great Alaska Earthquake', 'A Teenager’s Medical Mystery', 'Why Is the Pandemic Killing So Many Black Americans?', 'Trump’s Purge of the Watchdogs', 'Can Government Spending Save the Economy?', \"The Sunday Read: 'Letters of Recommendation'\", \"'Rabbit Hole,' Episode 5: The Accidental Emperor\", 'A Bit of Relief: Reruns, Rituals and Restaurants', 'Reopening, Warily', 'The Saga of Michael Flynn', 'The Constitutional Clash on a Conference Call', \"Boris Johnson's Change of Heart\", 'The Shooting of Ahmaud Arbery', \"The Sunday Read: 'The Iceman in Winter'\", \"'Rabbit Hole,' Episode 4: Headquarters\", \"A Bit of Relief: Rick Steves' Travel Dreams\", 'The Arrival of the ‘Murder Hornet’', 'The Chinese Lab Theory', 'A Socially Distanced Senate', 'Bursting the College Bubble', 'One Meat Plant. One Thousand Infections.', \"The Sunday Read: 'Alone at Sea'\", \"'Rabbit Hole,' Episode 3: Mirror Image\", 'A Bit of Relief: Tea and Toast', 'Tilly Remembers Her Grandfather', 'Biden’s Campaign of Isolation', 'The Governor and the Protester', 'The State of Testing', 'A Glut in Oil', \"The Sunday Read: 'Closing the Restaurant That Was My Life for 20 Years'\", \"'Rabbit Hole,' Episode 2: Looking Down\", 'A Bit of Relief: I Forgive You, New York', 'A New Way to Mourn', 'Getting Off Rikers Island', 'Who’s Organizing the Lockdown Protests?', 'The Supreme Court Rules From Home', 'The Next Year (or Two) of the Pandemic', \"The Sunday Read: 'The Woman Who Might Find Us Another Earth'\", \"Introducing 'Rabbit Hole'\", 'Alexandria Ocasio-Cortez on Progressivism and the Pandemic', 'Kicked Out of China', '24 Hours Inside a Brooklyn Hospital', 'Examining the Allegation Against Joe Biden', 'Voices of the Pandemic', \"The Sunday Read: 'Weird Al Yankovic’s Weirdly Enduring Appeal'\", \"A Bit of Relief: 'Soup Is Soup'\", \"'I Become a Person of Suspicion'\", 'On the Front Lines in New Orleans', 'The Latest: Bernie Sanders Drops Out', 'A Crisis Inside the Navy', \"Wisconsin's Pandemic Primary\", 'A Historic Unemployment Crisis', \"The Sunday Read: 'The Battle Over the Sea-Monkey Fortune'\", \"A Bit of Relief: Introducing 'Sugar Calling'\", 'The Return of the Governor', 'A Conversation With Dr. Anthony Fauci', 'The Race for a Vaccine', 'Why the U.S. Is Running Out of Medical Supplies', 'Back From the Brink', \"The Sunday Read: 'What I Learned When My Husband Got Coronavirus'\", \"A Bit of Relief: Jody's Playlist\", 'A Kids’ Guide to Coronavirus', 'A Historic Stimulus Bill', '‘Raring to Go by Easter’', 'Why the American Approach Is Failing', 'The Pandemic and the Primary', \"The Sunday Read: 'The Mixed-Up Brothers of Bogotá'\", 'A Bit of Relief: Alone Together', 'New York City Grinds to a Halt', 'One City’s Fight to Stop the Virus', 'Gov. Andrew Cuomo: ‘It’s Making Sure We Live Through This.’', 'The Latest: Why President Trump Changed His Tone on the Coronavirus', '‘It’s Like a War’', 'Why This Recession Will Be Different', \"The Sunday Read: 'This Tom Hanks Story Will Make You Feel Less Bad'\", 'Special Episode: A Bit of Relief', 'Learning to Live With the Coronavirus', 'Confronting a Pandemic', 'Why the U.S. Wasn’t Ready for the Coronavirus', 'The Latest: Joe Biden Takes Command', 'The Field: What Happened to Elizabeth Warren?', 'The Latest: Why Markets Crashed on Monday', 'A Test for Abortion Rights', 'The Almost-Peace Deal', 'The Coronavirus Outbreak in Washington State', 'How Super Tuesday Unfolded', 'Inside the Mind of a Super Tuesday Voter', 'Joe Biden’s Big Win', 'The Field: Biden’s Last Hope', 'The Coronavirus Goes Global', 'Why Russia Is Rooting for Both Trump and Sanders', 'The Latest: The South Carolina Debate', 'The Weinstein Jury Believed the Women', 'Can Corporations Stop Climate Change?', 'The Field: An Anti-Endorsement in Nevada', 'The Latest: The Nevada Debate', 'A Criminal Underworld of Child Abuse, Part 2', 'A Criminal Underworld of Child Abuse, Part 1', 'Michael Bloomberg’s Not-So-Secret Weapon', 'The Post-Acquittal Presidency', 'Fear, Fury and the Coronavirus', 'The Results From New Hampshire', 'The Field: The Aftershocks of Iowa in New Hampshire', 'The End of Privacy as We Know It?', 'The Woman Defending Harvey Weinstein', 'Mitt Romney’s Lonely Vote', 'The State of the Union', 'The Latest: What Happened in Iowa?', 'A Very Long Night In Iowa', 'The Field: Iowa’s Electability Complex', 'The Latest: No Witnesses', 'The Lessons of 2016', 'A Virus’s Journey Across China', 'The Latest: The ‘Public Interest’', 'Chuck Schumer on Impeachment, Witnesses and the Truth', 'What John Bolton Knows', 'A Small Town’s Fight Over America’s Biggest Sport', 'The Swing Issue That Could Win a Swing State', 'Harry and Meghan. (And Why Their Saga Matters.)', 'The Latest: ‘Let Us Begin’', 'The Moderates’ Impeachment Moment', 'Lessons From the Last Impeachment Trial', \"Bernie's Big Bet\", 'The Impeachment Trial Begins', 'The Russian Hacking Plan for 2020', 'The Escape of Carlos Ghosn', 'Why Australia Is Burning', 'The Case Against Harvey Weinstein, Part 2', 'The Case Against Harvey Weinstein, Part 1', 'Pelosi’s Impeachment Gamble', 'Why Iran Is in Mourning', 'The Killing of General Qassim Suleimani', 'Boeing’s Broken Dreams', 'The President and the Publisher', 'Our Fear Facer Makes a New Friend', 'Haunted by the Ghost of Michael Jackson', \"'There's No Going Back'\", 'Impeachment Through the Eyes of a Child', 'By Challenging Evangelicals, She Changed Them', 'Year in Sound', 'The Candidates: Joe Biden', 'The Impeachment of President Donald J. Trump', 'The Latest: Impeachment Vote Update, 5:30 P.M. Eastern', 'A Fight Over How to Fight Anti-Semitism', 'The Latest: The Rules', 'Switching Sides in Britain', 'A Secret History of the War in Afghanistan', 'The Latest: Country Over Party', 'The Candidates: Elizabeth Warren', 'The Fate of Boris and Brexit', 'The Articles of Impeachment', '‘Absolutely No Mercy’', 'The Latest: The Mueller Question', 'A Woman’s Journey Through China’s Detention Camps', 'The Candidates: Bernie Sanders', 'The Latest: ‘Do You Hate the President?’', 'America’s Education Problem', 'The Latest: But Is It Impeachable?', 'A Louder, Messier Phase of Impeachment', 'A Deadly Crackdown in Iran', 'Why So Many Hospitals Are Suing Their Patients', 'The Jungle Prince, Chapter 3: A House in Yorkshire', 'The Jungle Prince, Chapter 2: The Hunting Lodge', 'The Jungle Prince, Chapter 1: The Railway Station', 'What the Bidens Actually Did in Ukraine', 'Why Trump Still Believes (Wrongly) That Ukraine Hacked the D.N.C.', 'What Should Happen to the Navy SEAL Chief?', 'The Latest: A Call to ‘Fox & Friends’', 'The Candidates: Pete Buttigieg', 'The Latest: The Irregular Channel', '‘We Followed the President’s Orders’', 'The Latest: ‘Everyone Was in the Loop’', 'What Happened to Kamala Harris?', 'The Latest: A Republican Strategy Revealed', 'A Broken Promise on Taxes', 'The Latest: The Week Ahead in the Impeachment Hearings', 'The Spectacular Rise and Fall of WeWork', 'The Latest: ‘It’s Very Intimidating’', 'Capitalism on Trial in Chile', 'The Latest: A New Word for What Trump Did', 'A Public Hearing, and a Feud Over Ukraine', 'The Latest: An Ideal Witness for the Democrats', 'A Third Grader’s Guide to the Impeachment Hearings', 'A Small Act of Rebellion', 'Why Military Assistance for Ukraine Matters', 'The Saga of Gordon Sondland', '‘Because of Sex’', 'How Impeachment Consumed a Governor’s Race', 'Who’s Actually Electable in 2020?', 'The Democratic Showdown in Iowa', 'A Vote on Impeachment', 'What Boeing Knew', 'The Promise and Peril of Vaping, Part 2: The Story of Juul', 'The Life and Death of Abu Bakr al-Baghdadi', 'The Promise and Peril of Vaping, Part 1: A Mystery in Nebraska', '‘A Prophet’: The Zeal of Bernie Sanders Supporters', 'A Victim of the Shadow Government', 'The ‘Most Damning’ Impeachment Testimony Yet', 'Trapped in Syria, Part 2: A Plea to Parliament', 'Trapped in Syria, Part 1: A Father’s Fight', 'The Week Diplomats Broke Their Silence', 'A Foreseen Calamity in Syria', 'The Moderates Strike Back: The 4th Democratic Debate', 'The Effort to Discredit the U.S. Ambassador to Ukraine', 'The Story of a Kurdish General', '‘1619,’ Episode 5: The Land of Our Fathers, Part 2', 'Why China Went to War With the N.B.A.', \"Republicans' 'Dead Chicken' Strategy on Impeachment\", 'The Freshmen: Elissa Slotkin Confronts the Impeachment Backlash', 'Is the U.S. Betraying Its Kurdish Allies?', 'A ‘Crazy’ Plan: How U.S. Diplomats Discussed the Pressure on Ukraine', '‘1619,’ Episode 5: The Land of Our Fathers, Part 1', 'When #MeToo Went on Trial', 'How Rudy Giuliani’s Ukraine Operation Backfired', 'Pageantry in Beijing. Firebombs in Hong Kong.', 'The Impeachment Dilemma for Republicans', 'How the Whistle-Blower Complaint Almost Didn’t Happen', 'A Special Episode for Kids: The Fear Facer', 'The Whistle-Blower’s Complaint', '‘I Would Like You to Do Us a Favor’', 'An Impeachment Inquiry Begins', 'A Conversation With a Border Patrol Agent', 'The President, Joe Biden and Ukraine', 'Anatomy of a Warren Rally', 'Keeping Harvey Weinstein’s Secrets, Part 2: Gloria Allred', 'Keeping Harvey Weinstein’s Secrets, Part 1: Lisa Bloom', 'Who Really Attacked Saudi Arabia?', 'The C.I.A. Spy Inside the Kremlin', '‘1619,’ Episode 4: How the Bad Blood Started', 'The Third Democratic Debate', 'An Interview With Andrew Yang, the Outsider at Tonight’s Democratic Debate', 'John Bolton Is Fired. Or Did He Resign?', 'A Historic Peace Plan Collapses', 'Parliament Strikes Back in Britain', '‘1619,’ Episode 3: The Birth of American Music', 'The Secret Push to Strike Iran', 'Walmart Enters the Gun Control Debate', 'The Sudden-Death Phase of the Democratic Primary', 'A Potential Peace Deal With the Taliban', '’1619,’ Episode 2: The Economy That Slavery Built', 'Political Mayhem in Britain and Italy', 'Why Uber Still Can’t Make a Profit', 'Why the Amazon Is Burning', 'How the U.S.-China Trade War Hurts the Rest of the World', 'The First Women to Report Jeffrey Epstein', 'Introducing ‘1619,’ a New York Times Audio Series', 'What the 2020 Campaign Sounds Like', 'What American C.E.O.s Are Worried About', 'Senator Kirsten Gillibrand on Not Regretting Al Franken', 'Bankrolling the Anti-Immigration Movement', 'Russia’s Mystery Missile', 'Is China Really Freeing Uighurs?', 'Inside Hong Kong’s Airport', 'The Epstein Investigation, Now That He’s Dead', 'The Freshmen: Mikie Sherrill', 'The Crackdown on Kashmir', 'Two Cities in Mourning', 'Osama bin Laden’s Successor', 'Shutting Down 8chan', 'Two Days, Two Cities, Two Massacres', 'How the Democratic Debates Narrow the Field', 'The Economy Is Booming. Or Is It?', 'What Does Kamala Harris Stand For?', 'The Origins of Boeing’s 737 Max Crisis', 'A Plan to End Partisan Gerrymandering', 'The Next Chapter of the Epstein Story', 'Robert Mueller’s Testimony', '‘Send Her Back’: White Voters and Trump’s Path to Re-election', 'Special Edition: A Guide to the Mueller Hearings', 'The Fight Over Planned Parenthood’s Future', 'The Making of Boris Johnson', 'The Almost Moon Man', 'The Political Crisis in Puerto Rico', 'The Myth That Busing Failed', 'A Decision in the Eric Garner Case', 'Trump and ‘the Squad’', 'Waiting for the Immigration Raids', 'Can Gun Makers Be Held Accountable for Mass Shootings?', 'The President and the Census', 'The Plan to Elect Republican Women', 'United States v. Jeffrey Epstein', 'The Trial of a Navy SEAL Chief', 'When a G.M. Plant Shut Down in Ohio', 'Joe Biden’s Record on Race', 'What Iran Is Learning From North Korea', 'Inside the Migrant Detention Center in Clint, Tex.', 'A Clash Over Inclusion at Pride', 'The Democratic Debates', 'Corroborating E. Jean Carroll', 'A Guide to the Democratic Debates', 'The Likelihood of Impeachment', 'A Military Crackdown in Sudan', 'The Standoff With Iran', 'Why Asylum Seekers Are Being Sent Back to Mexico', 'Trump’s Re-election Rally', 'Hacking the Russian Power Grid', 'Why Hong Kong Is Still Protesting', 'Part 5: Can Liberal Democracy Survive in Europe?', 'Part 4: Poland’s Culture Wars', 'Part 3: ‘Italy First’', 'Part 2: The French Rebellion', 'Part 1: The Battle for Europe', 'A New Way to Solve a Murder, Part 2: The Future of Genetic Privacy', 'A New Way to Solve a Murder, Part 1: The Genetic Detectives', 'This Drug Could End H.I.V. Why Hasn’t It?', 'How a Secret U.S. Cyberweapon Backfired', 'The Legacy of Rachel Held Evans', 'Death, Profit and Disclosure at a Children’s Hospital', 'Robert Mueller Breaks His Silence', 'The White House Plan to Change Climate Science', 'What Actually Happened to New York’s Taxi Drivers', 'Confronting a Childhood Abuser', 'The Bank That Kept Saying Yes to Trump', 'A Growing Call for Impeachment', 'The Rise of Modi: India’s Rightward Turn', 'The Legal Vulnerability of Roe v. Wade', 'A Direct Challenge to Roe v. Wade in Alabama', 'Caught in the Middle of the Trade War', 'The President Takes On China, Alone', 'The Freshmen: Rashida Tlaib, Part 2', 'John Bolton’s Plan for Iran', 'A Founder of Facebook Says It’s Time to Break It Up', 'Holding the Attorney General in Contempt', '$1 Billion in Losses: A Decade of Trump’s Taxes', 'The Chinese Surveillance State, Part 2', 'The Chinese Surveillance State, Part 1', 'A Secret Dossier in Venezuela', 'The Senate Testimony of William Barr', 'A Dictator’s Fall in Sudan', 'A Crisis at the N.R.A.', 'Why the Supreme Court Is Ruling on the Census', 'How the Measles Outbreak Started', 'A Secret in the Navy SEALs', 'The Terrorist Attacks in Sri Lanka', 'The Whistle-Blowers at Boeing', 'How Trump’s Protector Became Mueller’s Best Witness', 'The Mueller Report Is Released', 'The Abortion Wars, Part 2: The Illinois Option', 'The Abortion Wars, Part 1: The Last Clinic in Missouri', 'The Rise and Fall of Carlos Ghosn', 'The Moral Complexities of Working With Julian Assange', 'Israel’s Election, Through the Eyes of a Young Palestinian', 'Netanyahu Won. The Two-State Solution Lost.', 'When the Lights Went Out in Venezuela', 'The Brief, Controversial Tenure of Kirstjen Nielsen', 'A Russian Assassin Tells His Story', 'The Battle to Control the Murdoch Media Empire', 'New Insights Into the Mueller Report', 'Trump Wanted to Scrap Obamacare. His Party Didn’t.', 'Why Did New York’s Most Selective Public High School Admit Only 7 Black Students?', 'The Agony of Being Theresa May', 'One Family’s Story of Survival and Loss in New Zealand', 'Prosecuting R. Kelly', 'Israel’s Indispensable Prime Minister?', 'Why Didn’t Mueller Decide on Obstruction?', 'Coordination: Not Established. Obstruction: More Complicated.', 'Special Edition: Robert Mueller Submits His Report', 'How New Zealand Banned Assault Rifles in Six Days', 'A Path to Curing H.I.V.', '‘Trump of the Tropics’: How Brazil’s President Came to Power', 'Two Crashes, a Single Jet: The Story of Boeing’s 737 Max', 'The Mosque Attacks in New Zealand', 'The Family That Profited From the Opioid Crisis', 'Bribing Their Way Into College', 'How ‘Medicare for All’ Would Work (or Not Work)', 'Part 3: What to Expect When You’re Expecting (the Mueller Report)', 'Part 2: What to Expect When You’re Expecting (the Mueller Report)', 'Reckoning With the Real Michael Jackson', 'Promise and Peril of the Green New Deal', 'Silicon Valley’s Military Dilemma', 'What Happened to Lindsey Graham?', 'Part 1: What to Expect When You’re Expecting (the Mueller Report)', 'Why the North Korea Deal Fell Apart (Again)', 'The Testimony of Michael Cohen', 'A Fraudulent Election in North Carolina', 'What Hollywood Keeps Getting Wrong About Race', 'Why Controlling 5G Could Mean Controlling the World', 'The American Women Who Joined ISIS', 'How New York Lost Amazon', 'The Democratic Presidential Field (So Far)', 'The Democrats and Israel', 'Avoiding a Shutdown (by Declaring an Emergency)', 'The Parkland Students, One Year Later', 'No Heat, No Power: How a Federal Jail Failed Its Inmates', 'Why Chief Justice Roberts Just Protected Abortion Rights', 'The Standoff Over Food and Power in Venezuela', 'Democrats Wanted Zero Tolerance for Misconduct. Then Came Virginia.', 'The Overlooked Scandal of Priests Sexually Abusing Nuns', 'What Past State of the Union Speeches Tell Us About the Future', 'What Motivates Mitch McConnell?', 'Making Peace With the Taliban', 'The President and the Publisher', 'The Perils of Reporting on an Investigation of the President', 'How Democrats Will Govern (Now That Government Is Open)', 'Dispatches From the Border, Part 2', 'The Story of Roger Stone and WikiLeaks', 'One Country, Two Presidents: The Crisis in Venezuela', 'ISIS Has Lost Its Land. What About Its Power?', 'The Confrontation at the Lincoln Memorial', 'The Freshmen: Rashida Tlaib, Part 1', 'A Rift Over Power and Privilege in the Women’s March', 'A Republican Congressman From Texas Who Opposes the Wall', 'William Barr Under Oath', 'Trump’s Pick for Attorney General', 'Dispatches From the Border, Part 1', 'What a Border Sheriff Thinks About the Wall', 'The Republicans’ Shutdown Strategy', 'Trump’s Prime-Time Address', 'Is There a Crisis at the Border?', 'Trump’s Plan to Withdraw Troops From Syria', 'Day 1 of a Democratic Majority', 'Chuck Schumer on the Wall, the Shutdown and the Era of Divided Government', 'What Will Democrats Do With Their New Power?', 'An Ongoing Look Into the Origins of Trump’s Wealth', 'A Mother Talks to Her Sons About Brett Kavanaugh', 'The Scars of Family Separation', 'For a Family Divided by the Korean War, a New Chapter', 'The Year in Sound: An Audio Time Capsule of 2018', 'The Latest Showdown Over a Shutdown', 'Senator Claire McCaskill on Losing Missouri and the Politics of Purity', 'The Ethics of Genetically Editing Babies', 'A Year in the Russia Investigation', '‘The Most Significant Campaign Contributions’ in U.S. History', 'Undocumented and Working for Trump', 'The Rise of Right-Wing Extremism, and How U.S. Law Enforcement Ignored It', 'Why Republicans Want a Criminal Justice Overhaul', 'Waiting for Brexit', 'The Business of Selling Your Location', 'The Photo of the Yemeni Girl', 'Watering Down Democrats’ Power in Wisconsin', 'What the West Got Wrong About China, Part 2', 'What the West Got Wrong About China, Part 1', 'The Legacy of George Bush', 'Why Michael Cohen Lied to Congress', 'Nancy Pelosi’s Last Fight', 'What’s Going On With Paul Manafort?', 'The U.S. as a Place of Refuge', 'The Human Toll of Instant Delivery', 'Deployed in the U.S., Just Waiting for the Caravan', 'Why U.S. Bombs Are Falling in Yemen', 'How El Chapo Ended Up in a Brooklyn Courtroom', 'What Facebook Knew and Tried to Hide', 'A Conversation With a Freshman Democrat', 'The Plan to Discredit the Florida Recount', 'Diplomacy and Deception From North Korea', 'The California Wildfires', 'How the Democrats Flipped the House', 'Why Trump Is Firing Sessions Now', 'What Happened in the Midterm Elections', 'A Field Guide to Today’s Elections', 'White, Evangelical and Worried About Trump', 'The Problem With Polls', '“I Am Not an Internet Troll”', 'The Business of Internet Outrage', 'The Re-emergence of American Anti-Semitism', 'A Shooting at the Tree of Life Synagogue', 'The Voters Both Parties Are Ignoring', 'How 1994 Gave Us Today’s Politics', 'The Migrant Caravan and the Midterms', 'Why Trump Can’t Quit Mohammed bin Salman', 'Who’s Allowed to Vote in Georgia?', 'A New Climate Tipping Point', 'Letting Louis C.K. Back Onstage', 'The Battle for Missouri, Part 2: The Moderate', 'The Battle for Missouri, Part 1: The Anti-Abortion Democrat', 'The State of the Midterms (and the Country)', 'The Police Shooting That Rocked Chicago', 'The Disappearance of a Saudi Journalist', 'Who Is Believed and Who Is Blamed?', 'The Dilemma for Red-State Democrats', 'A Supreme Court With Justice Kavanaugh', 'What the F.B.I. Found (and Didn’t Find)', 'The F.B.I.’s Kavanaugh Investigation', 'How Trump Really Got Rich', 'Kavanaugh’s Classmates Speak Out', 'The Anguish of Jeff Flake', 'The Blasey-Kavanaugh Hearing', 'Today’s Hearing: Trial or Job Interview?', 'Revisiting What Happened to Anita Hill', 'The Conservative Divide Over Kavanaugh', 'Rod Rosenstein’s Insurrection', '10 Years After the Financial Crisis', 'A High School Assault', 'Will Dr. Blasey Testify?', 'The Accusation Against Brett Kavanaugh', 'A Dispatch From the Center of the Storm', 'Lost in the Storm, Part 2', 'Lost in the Storm, Part 1', 'The Spy Who Provoked Putin', 'Bob Woodward on Trump, Nixon and Anonymity', 'An Interview With George Papadopoulos', 'The Kavanaugh Documents', 'The Anonymous Senior Administration Official', 'A Chaotic Opening Day for Brett Kavanaugh', 'A 30-Year Plan to Transform the Courts', 'When We Almost Stopped Climate Change', 'An Unexpected Upset in Florida', 'An Execution in Nebraska', 'The War Inside the Catholic Church', 'The Paradoxes of John McCain', 'Special Episode: The Last “Year of the Woman”', '“Divided,” Part 2: The Chaos of Reunification', 'The Man Who Wrote Mueller’s Rules', 'Implicating the President', '“Divided,” Part 1: How Family Separations Started', 'Robert Mueller’s Unlikely Witness', 'Nancy Pelosi’s Dilemma', 'A Culture of Secrecy That Perpetuated Abuse', 'The Economic Cost of Authoritarian Rule', 'Unearthing the Truth in Myanmar', 'A Year of Reckoning in Charlottesville', \"The Trump Voters We Don't Talk About\", 'A New Path for Presidential Pardons', 'Paul Ryan’s Exit Interview', 'A Scorched-Earth Strategy in Ohio', 'The Rise of Michael Avenatti', 'How Paul Manafort’s Plans Backfired', 'The Strange Case of QAnon', 'The Fight Over 3-D-Printed Guns', 'The Democrats’ Comeback Plan', 'Why the A.C.L.U. Wants to Be More Like the N.R.A.', 'The ‘Ineligible’ Families', 'Which to Believe: Trump’s Words, or His Acts?', 'The Tariff War', 'Roe v. Wade, Part 2: The Culture Wars', 'Roe v. Wade, Part 1: Who Was Jane Roe?', 'Facebook’s Plan to Police the Truth', 'The Other Russian Interference', 'How Trump Withstands So Many Controversies', 'Trump Sides With Putin', 'Why Believing Putin Will Be Hard This Time', 'Why Peter Strzok Wanted to Testify', 'The (Misunderstood) Story of NATO', 'Brett Kavanaugh’s Change of Heart', 'Trump Picks Brett Kavanaugh', 'Trump’s Supreme Court Finalists', 'One Family’s Reunification Story', 'How the Opioid Crisis Started', 'Assigning Blame in the Opioid Epidemic', 'Susan Collins on Roe v. Wade and the Next Justice', 'Justice Kennedy’s Last Decision', 'The Supreme Court Loses Its Swing Vote', 'The Supreme Court Upholds Trump’s Travel Ban', 'The Rampant Problem of Pregnancy Discrimination, Part 2', 'The Rampant Problem of Pregnancy Discrimination, Part 1', 'What Migrants Are Fleeing', 'The Daily Presents “Caliphate,” Chapter 10', 'The World Cup’s Mysterious Path to Russia', 'Trump Ends His Child Separation Practice', 'Father and Son, Forced Apart at the Border', 'How Separating Migrant Families Became U.S. Policy', 'Cracking Down on Leaks', 'The Daily Presents “Caliphate,” Chapter 9, Part 2', 'The Daily Presents “Caliphate,” Chapter 9, Part 1', 'The Report on the F.B.I.’s Clinton Inquiry', 'The Narrowing Path to Asylum', 'What Trump Gave Kim', 'A Historic Handshake', 'Alienating Allies and Wooing Enemies', 'The Daily Presents “Caliphate,” Chapter 8', '“Charm City,” Part 5: What’s Behind the Black Box?', '“Charm City,” Part 4: The Police Scandal That Shook Baltimore', '“Charm City,” Part 3: The Lure of the Streets', '“Charm City,” Part 2: The Legacy of Zero-Tolerance Policing', '“Charm City,” Part 1: Baltimore After Freddie Gray', 'The Daily Presents “Caliphate,” Chapter 7', 'When Democratic Newcomers Challenge the Party Line', 'The Truth Behind #WhereAreTheChildren', 'Was Kevin Cooper Framed for Murder?', 'What Trump Learned From Clinton’s Impeachment', 'The Daily Presents “Caliphate,” Chapter 6', '“Dear Mr. Chairman …”', 'Putting “Fake News” on Trial', 'A Crossroads for the Democratic Party', 'Rod Rosenstein’s Impossible Choice', 'North Korea’s Fear? Becoming Libya', 'The Daily Presents “Caliphate,” Chapter 5', 'Does Mueller Have a Plan for Trump?', 'A Child of Gaza Becomes a Political Symbol', 'When Facebook Rumors Incite Real Violence', 'Two Views of the U.S. Embassy in Jerusalem', 'The Prospect of Peace With North Korea', 'The Daily Presents “Caliphate,” Chapter 4', 'A Life-or-Death Crisis for Black Mothers', 'The C.I.A.’s Moral Reckoning', 'The Breakdown of the Iran Nuclear Deal', 'Gina Haspel and the Shadow of Torture', 'The Return of Rudy Giuliani', 'The Daily Presents “Caliphate,” Chapter 3', 'The Hunt for the Golden State Killer', \"Sexual Harassment's Toll on Careers\", \"The Taxi Driver's Plight\", 'Mueller’s Questions for Trump', 'A Family Divided by the Korean War', 'The Daily Presents “Caliphate,” Chapter 2', 'The Cosby Verdict and #MeToo', 'Trump’s Travel Ban Goes to the Supreme Court', 'The Allegations Against Ronny Jackson', \"Hong Kong's Missing Bookseller\", 'After a Suspected Chemical Attack, a Syrian Tells His Story', 'James Comey Opens Up About Ego, Distrust and More', 'Introducing “Caliphate,” a New York Times Audio Series', 'Wednesday, Apr. 18, 2018', 'Tuesday, Apr. 17, 2018', 'Monday, Apr. 16, 2018', 'Friday, Apr. 13, 2018', 'Thursday, Apr. 12, 2018', 'Wednesday, Apr. 11, 2018', 'Tuesday, Apr. 10, 2018', 'Monday, Apr. 9, 2018', 'Friday, Apr. 6, 2018', 'Thursday, Apr. 5, 2018', 'Wednesday, Apr. 4, 2018', 'Tuesday, Apr. 3, 2018', 'Monday, Apr. 2, 2018', 'Friday, March 30, 2018', 'Thursday, March 29, 2018', 'Wednesday, March 28, 2018', 'Tuesday, March 27, 2018', 'Monday, March 26, 2018', 'Friday, March 23, 2018', 'Thursday, March 22, 2018', 'Wednesday, Mar. 21, 2018', 'Tuesday, Mar. 20, 2018', 'Monday, Mar. 19, 2018', 'Friday, Mar. 16, 2018', 'Thursday, Mar. 15, 2018', 'Wednesday, Mar. 14, 2018', 'Tuesday, Mar. 13, 2018', 'Monday, Mar. 12, 2018', 'Friday, Mar. 9, 2018', 'Thursday, Mar. 8, 2018', 'Wednesday, Mar. 7, 2018', 'Tuesday, Mar. 6, 2018', 'Monday, Mar. 5, 2018', 'Friday, Mar. 2, 2018', 'Thursday, Mar. 1, 2018', 'Wednesday, Feb. 28, 2018', 'Tuesday, Feb. 27, 2018', 'Monday, Feb. 26, 2018', 'Friday, Feb. 23, 2018', 'Thursday, Feb. 22, 2018', 'Wednesday, Feb. 21, 2018', 'Tuesday, Feb. 20, 2018', 'Monday, Feb. 19, 2018', 'Friday, Feb. 16, 2018', 'Thursday, Feb. 15, 2018', 'Wednesday, Feb. 14, 2018', 'Tuesday, Feb. 13, 2018', 'Monday, Feb. 12, 2018', 'Friday, Feb. 9, 2018', 'Thursday, Feb. 8, 2018', 'Wednesday, Feb. 7, 2018', 'Tuesday, Feb. 6, 2018', 'Monday, Feb. 5, 2018', 'Friday, Feb. 2, 2018', 'Thursday, Feb. 1, 2018', 'Wednesday, Jan. 31, 2018', 'Tuesday, Jan. 30, 2018', 'Monday, Jan. 29, 2018', 'Friday, Jan. 26, 2018', 'Thursday, Jan. 25, 2018', 'Wednesday, Jan. 24, 2018', 'Tuesday,  Jan. 23, 2018', 'Monday, Jan. 22, 2018', 'Friday, Jan. 19, 2018', 'Thursday, Jan. 18, 2018', 'Wednesday, Jan. 17, 2018', 'Tuesday, Jan. 16, 2018', 'Friday, Jan. 12, 2018', 'Thursday, Jan. 11, 2018', 'Wednesday, Jan. 10, 2018', 'Tuesday, Jan. 9, 2018', 'Monday, Jan. 8, 2018', 'Friday, Jan. 5, 2018', 'Thursday, Jan. 4, 2018', 'Wednesday, Jan. 3, 2018', 'Tuesday, Jan. 2, 2018', 'Friday, Dec. 29, 2017', 'Thursday, Dec. 28, 2017', 'Wednesday, Dec. 27, 2017', 'Tuesday, Dec. 26, 2017', 'Special Episode: The Year in Sound', 'Thursday, Dec. 21, 2017', 'Wednesday, Dec. 20, 2017', 'Tuesday, Dec. 19, 2017', 'Monday, Dec 18, 2017', 'Friday, Dec. 15, 2017', 'Thursday, Dec. 14, 2017', 'Wednesday, Dec. 13, 2017', 'Tuesday, Dec. 12, 2017', 'Monday, Dec. 11, 2017', 'Friday, Dec. 8, 2017', 'Thursday, Dec. 7, 2017', 'Wednesday, Dec. 6, 2017', 'Tuesday, Dec. 5, 2017', 'Monday, Dec. 4, 2017', 'Special Edition: Flynn Pleads Guilty', 'Friday, Dec. 1, 2017', 'Thursday, Nov. 30, 2017', 'Wednesday, Nov. 29, 2017', 'Tuesday, Nov. 28, 2017', 'Monday, Nov.27, 2017', 'Wednesday, Nov. 22, 2017', 'Tuesday, Nov. 21, 2017', 'Monday, Nov. 20, 2017', 'Special Episode: The Daily for Kids', 'Friday, Nov. 17, 2017', 'Thursday, Nov. 16, 2017', 'Wednesday, Nov. 15, 2017', 'Tuesday, Nov. 14, 2017', 'Monday, Nov. 13, 2017', 'Friday, Nov. 10, 2017', 'Thursday, Nov. 9, 2017', 'Wednesday, Nov. 8, 2017', 'Tuesday, Nov. 7, 2017', 'Monday, Nov. 6, 2017', 'Friday, Nov. 3, 2017', 'Thursday, Nov. 2, 2017', 'Wednesday, Nov. 1, 2017', 'Tuesday, Oct. 31, 2017', 'Monday, Oct. 30, 2017', 'Friday, Oct. 27, 2017', 'Thursday, Oct. 26, 2017', 'Wednesday, Oct. 25, 2017', 'Tuesday, Oct. 24, 2017', 'Monday, Oct. 23, 2017', 'Friday, Oct. 20, 2017', 'Thursday, Oct. 19, 2017', 'Wednesday, Oct. 18, 2017', 'Tuesday, Oct. 17, 2017', 'Monday, Oct. 16, 2017', 'Friday, Oct. 13, 2017', 'Thursday, Oct. 12, 2017', 'Wednesday, Oct. 11, 2017', 'Tuesday, Oct. 10, 2017', 'Monday, Oct. 9, 2017', 'Friday, Oct. 6, 2017', 'Thursday, Oct. 5, 2017', 'Wednesday, Oct. 4, 2017', 'Tuesday, Oct. 3, 2017', 'Monday, Oct. 2, 2017', 'Friday, Sept. 29, 2017', 'Thursday, Sept. 28, 2017', 'Wednesday, Sept.27, 2017', 'Tuesday, Sept. 26, 2017', 'Monday, Sept. 25, 2017', 'Friday, Sept. 22, 2017', 'Thursday, Sept. 21, 2017', 'Wednesday, Sept. 20, 2017', 'Tuesday, Sept. 19, 2017', 'Monday, Sept.18, 2017', 'Friday, Sept.15, 2017', 'Thursday, Sept. 14, 2017', 'Wednesday, Sept. 13, 2017', 'Tuesday, Sept.12,  2017', 'Monday, Sept. 11, 2017', 'Friday, Sept. 8, 2017', 'Thursday, Sept. 7, 2017', 'Wednesday, Sept. 6, 2017', 'Tuesday, Sept. 5, 2017', 'Bonus: Senator Jeff Flake Interview', 'Thursday, Aug 31, 2017', 'Wednesday, Aug 30, 2017', 'Tuesday, Aug 29, 2017', 'Monday, Aug 28, 2017', 'Friday, Aug. 25,  2017', 'Thursday, Aug. 24,  2017', 'Wednesday, Aug. 23,  2017', 'Tuesday, Aug. 22,  2017', 'Monday, Aug. 21,  2017', 'Special Edition: The Fall of Steve Bannon', 'Friday, Aug. 18,  2017', 'Thursday, Aug. 17,  2017', 'Wednesday, Aug. 16,  2017', 'Tuesday, Aug. 15, 2017', 'Monday, Aug. 14, 2017', 'Friday, Aug 11, 2017', 'Thursday, Aug 10, 2017', 'Wednesday, Aug 9, 2017', 'Tuesday, Aug. 8, 2017', 'Monday, Aug. 7, 2017', 'Friday, Aug. 4, 2017', 'Thursday, Aug. 3, 2017', 'Wednesday, Aug. 2, 2017', 'Tuesday, Aug. 1, 2017', \"Bonus: Introducing 'The New Washington'\", 'Monday, July 31, 2017', 'Friday, July 28, 2017', 'Thursday, July 27, 2017', 'Wednesday, July 26, 2017', 'Tuesday, July 25, 2017', 'Monday, July 24, 2017', 'Friday, July 21, 2017', 'Thursday, July 20, 2017', 'Wednesday, July 19, 2017', 'Tuesday, July 18, 2017', 'Monday, July 17, 2017', 'Friday, July 14, 2017', 'Thursday, July 13, 2017', 'Wednesday, July 12, 2017', 'Tuesday, July 11, 2017', 'Monday, July 10, 2017', 'Friday, July 7, 2017', 'Thursday, July 6, 2017', 'Wednesday, July 5, 2017', 'Friday, June 30, 2017', 'Thursday, June 29, 2017', 'Wednesday, June 28, 2017', 'Tuesday, June 27, 2017', 'Monday, June 26, 2017', 'Friday, June 23, 2017', 'Thursday, June 22, 2017', 'Wednesday, June 21, 2017', 'Tuesday, June 20, 2017', 'Monday, June 19, 2017', 'Friday, June 16, 2017', 'Thursday, June 15, 2017', 'Wednesday, June 14, 2017', 'Tuesday, June 13, 2017', 'Monday, June 12, 2017', 'Friday, June 9, 2017', 'Thursday, June 8, 2017', 'Wednesday, June 7, 2017', 'Tuesday, June 6, 2017', 'Monday, June 5, 2017', 'Friday, June 2, 2017', 'Thursday, June 1, 2017', 'Wednesday, May 31, 2017', 'Tuesday, May 30, 2017', 'Friday, May 26, 2017', 'Thursday, May 25, 2017', 'Wednesday, May 24, 2017', 'Tuesday, May 23, 2017', 'Monday, May 22, 2017', 'Special Edition: ‘Nut Job’', 'Friday, May 19, 2017', 'Thursday, May 18, 2017', 'Wednesday, May 17, 2017', 'Tuesday, May 16, 2017', 'Monday, May 15, 2017', 'Friday, May 12, 2017', 'Thursday, May 11, 2017', 'Refresher: James Comey and the 2016 Election', 'Wednesday, May 10, 2017', 'Tuesday, May 9, 2017', 'Monday, May 8, 2017', 'Friday, May 5, 2017', 'Thursday, May 4, 2017', 'Wednesday, May 3, 2017', 'Tuesday, May 2, 2017', 'Monday, May 1, 2017', 'Friday, April 28, 2017', 'Thursday, April 27, 2017', 'Wednesday, April 26, 2017', 'Tuesday, April 25, 2017', 'Monday, April 24, 2017', 'Friday, April 21, 2017', 'Thursday, April 20, 2017', 'Wednesday, April 19, 2017', 'Tuesday, April 18, 2017', 'Monday, April 17, 2017', 'Friday, April 14, 2017', 'Thursday, April 13, 2017', 'Wednesday, April 12, 2017', 'Tuesday, April 11, 2017', 'Monday, April 10, 2017', 'Friday, April 7, 2017', 'Thursday, April 6, 2017', 'Wednesday, April 5, 2017', 'Tuesday, April 4, 2017', 'Monday, April 3, 2017', 'Friday, March 31, 2017', 'Thursday, March 30, 2017', 'Wednesday, March 29, 2017', 'Tuesday, March 28, 2017', 'Monday, March 27, 2017', 'Friday, March 24, 2017', 'Thursday, March 23, 2017', 'Wednesday, March 22, 2017', 'Tuesday, March 21, 2017', 'Monday, March 20, 2017', 'Friday, March 17, 2017', 'Thursday, March 16, 2017', 'Wednesday, March 15, 2017', 'Tuesday, March 14, 2017', 'Monday, March 13, 2017', 'Friday, March 10, 2017', 'Thursday, March 9, 2017', 'Wednesday, March 8, 2017', 'Tuesday, March 7, 2017', 'Monday, March 6, 2017', 'Friday, March 3, 2017', 'Thursday, March 2, 2017', 'Wednesday, Mar. 1, 2017', 'Tuesday, Feb. 28, 2017', 'Monday, Feb. 27, 2017', 'Friday, Feb. 24, 2017', 'Thursday, Feb. 23, 2017', 'Wednesday, Feb. 22, 2017', 'Tuesday, Feb. 21, 2017', 'Friday, Feb. 17, 2017', 'Thursday, Feb. 16, 2017', 'Wednesday, Feb. 15, 2017', 'Tuesday, Feb. 14, 2017', 'Monday, Feb. 13, 2017', 'Friday, Feb. 10, 2017', 'Thursday, Feb. 9. 2017', 'Wednesday, Feb. 8, 2017', 'Tuesday, Feb. 7, 2017', 'Monday, Feb. 6, 2017', 'Friday, Feb. 3, 2017', 'Thursday, Feb. 2, 2017', 'Wednesday, Feb. 1, 2017', 'Coming Soon: “The Daily”']\n"
     ]
    }
   ],
   "source": [
    "titulos = [reddit.entries[i].title for i in range(len(reddit.entries))]\n",
    "print(titulos)"
   ]
  },
  {
   "cell_type": "markdown",
   "metadata": {},
   "source": [
    "### 8. Calculate the percentage of \"Four short links\" entry titles."
   ]
  },
  {
   "cell_type": "code",
   "execution_count": null,
   "metadata": {},
   "outputs": [],
   "source": []
  },
  {
   "cell_type": "markdown",
   "metadata": {},
   "source": [
    "### 9. Create a Pandas data frame from the feed's entries."
   ]
  },
  {
   "cell_type": "code",
   "execution_count": 19,
   "metadata": {},
   "outputs": [],
   "source": [
    "data = pd.DataFrame(reddit.entries)"
   ]
  },
  {
   "cell_type": "code",
   "execution_count": 20,
   "metadata": {},
   "outputs": [
    {
     "data": {
      "text/html": [
       "<div>\n",
       "<style scoped>\n",
       "    .dataframe tbody tr th:only-of-type {\n",
       "        vertical-align: middle;\n",
       "    }\n",
       "\n",
       "    .dataframe tbody tr th {\n",
       "        vertical-align: top;\n",
       "    }\n",
       "\n",
       "    .dataframe thead th {\n",
       "        text-align: right;\n",
       "    }\n",
       "</style>\n",
       "<table border=\"1\" class=\"dataframe\">\n",
       "  <thead>\n",
       "    <tr style=\"text-align: right;\">\n",
       "      <th></th>\n",
       "      <th>id</th>\n",
       "      <th>guidislink</th>\n",
       "      <th>title</th>\n",
       "      <th>title_detail</th>\n",
       "      <th>summary</th>\n",
       "      <th>summary_detail</th>\n",
       "      <th>published</th>\n",
       "      <th>published_parsed</th>\n",
       "      <th>authors</th>\n",
       "      <th>author</th>\n",
       "      <th>...</th>\n",
       "      <th>link</th>\n",
       "      <th>content</th>\n",
       "      <th>itunes_title</th>\n",
       "      <th>itunes_duration</th>\n",
       "      <th>subtitle</th>\n",
       "      <th>subtitle_detail</th>\n",
       "      <th>itunes_explicit</th>\n",
       "      <th>itunes_episodetype</th>\n",
       "      <th>itunes_episode</th>\n",
       "      <th>image</th>\n",
       "    </tr>\n",
       "  </thead>\n",
       "  <tbody>\n",
       "    <tr>\n",
       "      <th>0</th>\n",
       "      <td>e01b3eb5-e679-47d1-98ca-deb2302be1a7</td>\n",
       "      <td>False</td>\n",
       "      <td>The Charges Against Trump for Conspiring to Ov...</td>\n",
       "      <td>{'type': 'text/plain', 'language': None, 'base...</td>\n",
       "      <td>On Tuesday afternoon, the special counsel Jack...</td>\n",
       "      <td>{'type': 'text/plain', 'language': None, 'base...</td>\n",
       "      <td>Wed, 2 Aug 2023 09:45:00 +0000</td>\n",
       "      <td>(2023, 8, 2, 9, 45, 0, 2, 214, 0)</td>\n",
       "      <td>[{'name': 'The New York Times', 'email': 'thed...</td>\n",
       "      <td>The New York Times</td>\n",
       "      <td>...</td>\n",
       "      <td>https://www.nytimes.com/the-daily</td>\n",
       "      <td>[{'type': 'text/html', 'language': None, 'base...</td>\n",
       "      <td>The Charges Against Trump for Conspiring to Ov...</td>\n",
       "      <td>00:26:25</td>\n",
       "      <td>On Tuesday afternoon, the special counsel Jack...</td>\n",
       "      <td>{'type': 'text/plain', 'language': None, 'base...</td>\n",
       "      <td>None</td>\n",
       "      <td>full</td>\n",
       "      <td>NaN</td>\n",
       "      <td>NaN</td>\n",
       "    </tr>\n",
       "    <tr>\n",
       "      <th>1</th>\n",
       "      <td>3f6e5473-d26a-4c9c-bb97-6e17e5b00260</td>\n",
       "      <td>False</td>\n",
       "      <td>The Secret History of Gun Rights</td>\n",
       "      <td>{'type': 'text/plain', 'language': None, 'base...</td>\n",
       "      <td>How did the National Rifle Association, Americ...</td>\n",
       "      <td>{'type': 'text/plain', 'language': None, 'base...</td>\n",
       "      <td>Tue, 1 Aug 2023 09:45:00 +0000</td>\n",
       "      <td>(2023, 8, 1, 9, 45, 0, 1, 213, 0)</td>\n",
       "      <td>[{'name': 'The New York Times', 'email': 'thed...</td>\n",
       "      <td>The New York Times</td>\n",
       "      <td>...</td>\n",
       "      <td>https://www.nytimes.com/the-daily</td>\n",
       "      <td>[{'type': 'text/html', 'language': None, 'base...</td>\n",
       "      <td>The Secret History of Gun Rights</td>\n",
       "      <td>00:26:57</td>\n",
       "      <td>How did the National Rifle Association, Americ...</td>\n",
       "      <td>{'type': 'text/plain', 'language': None, 'base...</td>\n",
       "      <td>None</td>\n",
       "      <td>full</td>\n",
       "      <td>NaN</td>\n",
       "      <td>NaN</td>\n",
       "    </tr>\n",
       "    <tr>\n",
       "      <th>2</th>\n",
       "      <td>6a349a51-f9de-4fd0-820d-e8a9f137b199</td>\n",
       "      <td>False</td>\n",
       "      <td>Italy’s Giorgia Meloni Charts a Path for the F...</td>\n",
       "      <td>{'type': 'text/plain', 'language': None, 'base...</td>\n",
       "      <td>Last year, Giorgia Meloni, an Italian far-righ...</td>\n",
       "      <td>{'type': 'text/plain', 'language': None, 'base...</td>\n",
       "      <td>Mon, 31 Jul 2023 09:45:00 +0000</td>\n",
       "      <td>(2023, 7, 31, 9, 45, 0, 0, 212, 0)</td>\n",
       "      <td>[{'name': 'The New York Times', 'email': 'thed...</td>\n",
       "      <td>The New York Times</td>\n",
       "      <td>...</td>\n",
       "      <td>https://www.nytimes.com/the-daily</td>\n",
       "      <td>[{'type': 'text/html', 'language': None, 'base...</td>\n",
       "      <td>Italy’s Giorgia Meloni Charts a Path for the F...</td>\n",
       "      <td>00:31:31</td>\n",
       "      <td>Last year, Giorgia Meloni, an Italian far-righ...</td>\n",
       "      <td>{'type': 'text/plain', 'language': None, 'base...</td>\n",
       "      <td>None</td>\n",
       "      <td>full</td>\n",
       "      <td>NaN</td>\n",
       "      <td>NaN</td>\n",
       "    </tr>\n",
       "    <tr>\n",
       "      <th>3</th>\n",
       "      <td>b4282e9e-bbb4-43cb-80ca-49a76f0d9c2f</td>\n",
       "      <td>False</td>\n",
       "      <td>The Sunday Read: ‘The America That Americans F...</td>\n",
       "      <td>{'type': 'text/plain', 'language': None, 'base...</td>\n",
       "      <td>On the weekends, when Roy Gamboa was a little ...</td>\n",
       "      <td>{'type': 'text/plain', 'language': None, 'base...</td>\n",
       "      <td>Sun, 30 Jul 2023 10:00:00 +0000</td>\n",
       "      <td>(2023, 7, 30, 10, 0, 0, 6, 211, 0)</td>\n",
       "      <td>[{'name': 'The New York Times', 'email': 'thed...</td>\n",
       "      <td>The New York Times</td>\n",
       "      <td>...</td>\n",
       "      <td>https://www.nytimes.com/the-daily</td>\n",
       "      <td>[{'type': 'text/html', 'language': None, 'base...</td>\n",
       "      <td>The Sunday Read: ‘The America That Americans F...</td>\n",
       "      <td>01:43:56</td>\n",
       "      <td>On the weekends, when Roy Gamboa was a little ...</td>\n",
       "      <td>{'type': 'text/plain', 'language': None, 'base...</td>\n",
       "      <td>None</td>\n",
       "      <td>full</td>\n",
       "      <td>NaN</td>\n",
       "      <td>NaN</td>\n",
       "    </tr>\n",
       "    <tr>\n",
       "      <th>4</th>\n",
       "      <td>bacbf190-63d7-446c-a92e-4b15823e482f</td>\n",
       "      <td>False</td>\n",
       "      <td>Menopause Is Having a Moment</td>\n",
       "      <td>{'type': 'text/plain', 'language': None, 'base...</td>\n",
       "      <td>Some of the worst symptoms of menopause — incl...</td>\n",
       "      <td>{'type': 'text/plain', 'language': None, 'base...</td>\n",
       "      <td>Fri, 28 Jul 2023 09:45:00 +0000</td>\n",
       "      <td>(2023, 7, 28, 9, 45, 0, 4, 209, 0)</td>\n",
       "      <td>[{'name': 'The New York Times', 'email': 'thed...</td>\n",
       "      <td>The New York Times</td>\n",
       "      <td>...</td>\n",
       "      <td>https://www.nytimes.com/the-daily</td>\n",
       "      <td>[{'type': 'text/html', 'language': None, 'base...</td>\n",
       "      <td>Menopause Is Having a Moment</td>\n",
       "      <td>00:32:08</td>\n",
       "      <td>Some of the worst symptoms of menopause — incl...</td>\n",
       "      <td>{'type': 'text/plain', 'language': None, 'base...</td>\n",
       "      <td>None</td>\n",
       "      <td>full</td>\n",
       "      <td>NaN</td>\n",
       "      <td>NaN</td>\n",
       "    </tr>\n",
       "  </tbody>\n",
       "</table>\n",
       "<p>5 rows × 22 columns</p>\n",
       "</div>"
      ],
      "text/plain": [
       "                                     id  guidislink  \\\n",
       "0  e01b3eb5-e679-47d1-98ca-deb2302be1a7       False   \n",
       "1  3f6e5473-d26a-4c9c-bb97-6e17e5b00260       False   \n",
       "2  6a349a51-f9de-4fd0-820d-e8a9f137b199       False   \n",
       "3  b4282e9e-bbb4-43cb-80ca-49a76f0d9c2f       False   \n",
       "4  bacbf190-63d7-446c-a92e-4b15823e482f       False   \n",
       "\n",
       "                                               title  \\\n",
       "0  The Charges Against Trump for Conspiring to Ov...   \n",
       "1                   The Secret History of Gun Rights   \n",
       "2  Italy’s Giorgia Meloni Charts a Path for the F...   \n",
       "3  The Sunday Read: ‘The America That Americans F...   \n",
       "4                       Menopause Is Having a Moment   \n",
       "\n",
       "                                        title_detail  \\\n",
       "0  {'type': 'text/plain', 'language': None, 'base...   \n",
       "1  {'type': 'text/plain', 'language': None, 'base...   \n",
       "2  {'type': 'text/plain', 'language': None, 'base...   \n",
       "3  {'type': 'text/plain', 'language': None, 'base...   \n",
       "4  {'type': 'text/plain', 'language': None, 'base...   \n",
       "\n",
       "                                             summary  \\\n",
       "0  On Tuesday afternoon, the special counsel Jack...   \n",
       "1  How did the National Rifle Association, Americ...   \n",
       "2  Last year, Giorgia Meloni, an Italian far-righ...   \n",
       "3  On the weekends, when Roy Gamboa was a little ...   \n",
       "4  Some of the worst symptoms of menopause — incl...   \n",
       "\n",
       "                                      summary_detail  \\\n",
       "0  {'type': 'text/plain', 'language': None, 'base...   \n",
       "1  {'type': 'text/plain', 'language': None, 'base...   \n",
       "2  {'type': 'text/plain', 'language': None, 'base...   \n",
       "3  {'type': 'text/plain', 'language': None, 'base...   \n",
       "4  {'type': 'text/plain', 'language': None, 'base...   \n",
       "\n",
       "                         published                    published_parsed  \\\n",
       "0   Wed, 2 Aug 2023 09:45:00 +0000   (2023, 8, 2, 9, 45, 0, 2, 214, 0)   \n",
       "1   Tue, 1 Aug 2023 09:45:00 +0000   (2023, 8, 1, 9, 45, 0, 1, 213, 0)   \n",
       "2  Mon, 31 Jul 2023 09:45:00 +0000  (2023, 7, 31, 9, 45, 0, 0, 212, 0)   \n",
       "3  Sun, 30 Jul 2023 10:00:00 +0000  (2023, 7, 30, 10, 0, 0, 6, 211, 0)   \n",
       "4  Fri, 28 Jul 2023 09:45:00 +0000  (2023, 7, 28, 9, 45, 0, 4, 209, 0)   \n",
       "\n",
       "                                             authors              author  ...  \\\n",
       "0  [{'name': 'The New York Times', 'email': 'thed...  The New York Times  ...   \n",
       "1  [{'name': 'The New York Times', 'email': 'thed...  The New York Times  ...   \n",
       "2  [{'name': 'The New York Times', 'email': 'thed...  The New York Times  ...   \n",
       "3  [{'name': 'The New York Times', 'email': 'thed...  The New York Times  ...   \n",
       "4  [{'name': 'The New York Times', 'email': 'thed...  The New York Times  ...   \n",
       "\n",
       "                                link  \\\n",
       "0  https://www.nytimes.com/the-daily   \n",
       "1  https://www.nytimes.com/the-daily   \n",
       "2  https://www.nytimes.com/the-daily   \n",
       "3  https://www.nytimes.com/the-daily   \n",
       "4  https://www.nytimes.com/the-daily   \n",
       "\n",
       "                                             content  \\\n",
       "0  [{'type': 'text/html', 'language': None, 'base...   \n",
       "1  [{'type': 'text/html', 'language': None, 'base...   \n",
       "2  [{'type': 'text/html', 'language': None, 'base...   \n",
       "3  [{'type': 'text/html', 'language': None, 'base...   \n",
       "4  [{'type': 'text/html', 'language': None, 'base...   \n",
       "\n",
       "                                        itunes_title itunes_duration  \\\n",
       "0  The Charges Against Trump for Conspiring to Ov...        00:26:25   \n",
       "1                   The Secret History of Gun Rights        00:26:57   \n",
       "2  Italy’s Giorgia Meloni Charts a Path for the F...        00:31:31   \n",
       "3  The Sunday Read: ‘The America That Americans F...        01:43:56   \n",
       "4                       Menopause Is Having a Moment        00:32:08   \n",
       "\n",
       "                                            subtitle  \\\n",
       "0  On Tuesday afternoon, the special counsel Jack...   \n",
       "1  How did the National Rifle Association, Americ...   \n",
       "2  Last year, Giorgia Meloni, an Italian far-righ...   \n",
       "3  On the weekends, when Roy Gamboa was a little ...   \n",
       "4  Some of the worst symptoms of menopause — incl...   \n",
       "\n",
       "                                     subtitle_detail itunes_explicit  \\\n",
       "0  {'type': 'text/plain', 'language': None, 'base...            None   \n",
       "1  {'type': 'text/plain', 'language': None, 'base...            None   \n",
       "2  {'type': 'text/plain', 'language': None, 'base...            None   \n",
       "3  {'type': 'text/plain', 'language': None, 'base...            None   \n",
       "4  {'type': 'text/plain', 'language': None, 'base...            None   \n",
       "\n",
       "  itunes_episodetype itunes_episode image  \n",
       "0               full            NaN   NaN  \n",
       "1               full            NaN   NaN  \n",
       "2               full            NaN   NaN  \n",
       "3               full            NaN   NaN  \n",
       "4               full            NaN   NaN  \n",
       "\n",
       "[5 rows x 22 columns]"
      ]
     },
     "execution_count": 20,
     "metadata": {},
     "output_type": "execute_result"
    }
   ],
   "source": [
    "data.head()"
   ]
  },
  {
   "cell_type": "markdown",
   "metadata": {},
   "source": [
    "### 10. Count the number of entries per author and sort them in descending order."
   ]
  },
  {
   "cell_type": "code",
   "execution_count": null,
   "metadata": {},
   "outputs": [],
   "source": []
  },
  {
   "cell_type": "markdown",
   "metadata": {},
   "source": [
    "### 11. Add a new column to the data frame that contains the length (number of characters) of each entry title. Return a data frame that contains the title, author, and title length of each entry in descending order (longest title length at the top)."
   ]
  },
  {
   "cell_type": "code",
   "execution_count": 21,
   "metadata": {},
   "outputs": [
    {
     "data": {
      "text/html": [
       "<div>\n",
       "<style scoped>\n",
       "    .dataframe tbody tr th:only-of-type {\n",
       "        vertical-align: middle;\n",
       "    }\n",
       "\n",
       "    .dataframe tbody tr th {\n",
       "        vertical-align: top;\n",
       "    }\n",
       "\n",
       "    .dataframe thead th {\n",
       "        text-align: right;\n",
       "    }\n",
       "</style>\n",
       "<table border=\"1\" class=\"dataframe\">\n",
       "  <thead>\n",
       "    <tr style=\"text-align: right;\">\n",
       "      <th></th>\n",
       "      <th>title</th>\n",
       "      <th>title_length</th>\n",
       "    </tr>\n",
       "  </thead>\n",
       "  <tbody>\n",
       "    <tr>\n",
       "      <th>50</th>\n",
       "      <td>Special Episode: A Crash Course in Dembow, a M...</td>\n",
       "      <td>114</td>\n",
       "    </tr>\n",
       "    <tr>\n",
       "      <th>732</th>\n",
       "      <td>Bonus: The N-Word is Both Unspeakable and Ubiq...</td>\n",
       "      <td>109</td>\n",
       "    </tr>\n",
       "    <tr>\n",
       "      <th>779</th>\n",
       "      <td>The Sunday Read: ‘The Amateur Cloud Society Th...</td>\n",
       "      <td>92</td>\n",
       "    </tr>\n",
       "    <tr>\n",
       "      <th>456</th>\n",
       "      <td>The Sunday Read: ‘Animals That Infect Humans A...</td>\n",
       "      <td>92</td>\n",
       "    </tr>\n",
       "    <tr>\n",
       "      <th>344</th>\n",
       "      <td>The Sunday Read: ‘How Houston Moved 25,000 Peo...</td>\n",
       "      <td>91</td>\n",
       "    </tr>\n",
       "  </tbody>\n",
       "</table>\n",
       "</div>"
      ],
      "text/plain": [
       "                                                 title  title_length\n",
       "50   Special Episode: A Crash Course in Dembow, a M...           114\n",
       "732  Bonus: The N-Word is Both Unspeakable and Ubiq...           109\n",
       "779  The Sunday Read: ‘The Amateur Cloud Society Th...            92\n",
       "456  The Sunday Read: ‘Animals That Infect Humans A...            92\n",
       "344  The Sunday Read: ‘How Houston Moved 25,000 Peo...            91"
      ]
     },
     "execution_count": 21,
     "metadata": {},
     "output_type": "execute_result"
    }
   ],
   "source": [
    "data['title_length'] = data['title'].apply(len)\n",
    "data[['title', 'title_length']].sort_values('title_length', ascending=False).head()"
   ]
  },
  {
   "cell_type": "markdown",
   "metadata": {},
   "source": [
    "### 12. Create a list of entry titles whose summary includes the phrase \"machine learning.\""
   ]
  },
  {
   "cell_type": "code",
   "execution_count": null,
   "metadata": {},
   "outputs": [],
   "source": []
  },
  {
   "cell_type": "code",
   "execution_count": null,
   "metadata": {},
   "outputs": [],
   "source": []
  }
 ],
 "metadata": {
  "kernelspec": {
   "display_name": "Python 3 (ipykernel)",
   "language": "python",
   "name": "python3"
  },
  "language_info": {
   "codemirror_mode": {
    "name": "ipython",
    "version": 3
   },
   "file_extension": ".py",
   "mimetype": "text/x-python",
   "name": "python",
   "nbconvert_exporter": "python",
   "pygments_lexer": "ipython3",
   "version": "3.10.9"
  }
 },
 "nbformat": 4,
 "nbformat_minor": 2
}
