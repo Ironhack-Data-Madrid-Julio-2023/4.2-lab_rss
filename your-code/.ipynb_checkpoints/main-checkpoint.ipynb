{
 "cells": [
  {
   "cell_type": "markdown",
   "metadata": {},
   "source": [
    "# Working with RSS Feeds Lab\n",
    "\n",
    "Complete the following set of exercises to solidify your knowledge of parsing RSS feeds and extracting information from them."
   ]
  },
  {
   "cell_type": "code",
   "execution_count": 1,
   "metadata": {},
   "outputs": [],
   "source": [
    "import feedparser"
   ]
  },
  {
   "cell_type": "markdown",
   "metadata": {},
   "source": [
    "### 1. Use feedparser to parse the following RSS feed URL."
   ]
  },
  {
   "cell_type": "code",
   "execution_count": 2,
   "metadata": {},
   "outputs": [],
   "source": [
    "nytimes = feedparser.parse('https://feeds.simplecast.com/54nAGcIl')"
   ]
  },
  {
   "cell_type": "code",
   "execution_count": 3,
   "metadata": {},
   "outputs": [
    {
     "name": "stdout",
     "output_type": "stream",
     "text": [
      "{'links': [{'href': 'https://feeds.simplecast.com/54nAGcIl', 'rel': 'self', 'title': 'MP3 Audio', 'type': 'application/atom+xml'}, {'href': 'https://simplecast.superfeedr.com/', 'rel': 'hub', 'type': 'text/html'}, {'rel': 'alternate', 'type': 'text/html', 'href': 'https://www.nytimes.com/the-daily'}], 'generator_detail': {'name': 'https://simplecast.com'}, 'generator': 'https://simplecast.com', 'title': 'The Daily', 'title_detail': {'type': 'text/plain', 'language': None, 'base': 'https://feeds.simplecast.com/54nAGcIl', 'value': 'The Daily'}, 'subtitle': 'This is what the news should sound like. The biggest stories of our time, told by the best journalists in the world. Hosted by Michael Barbaro and Sabrina Tavernise. Twenty minutes a day, five days a week, ready by 6 a.m.\\n\\nListen to this podcast in New York Times Audio, our new iOS app for news subscribers. Download now at nytimes.com/audioapp', 'subtitle_detail': {'type': 'text/html', 'language': None, 'base': 'https://feeds.simplecast.com/54nAGcIl', 'value': 'This is what the news should sound like. The biggest stories of our time, told by the best journalists in the world. Hosted by Michael Barbaro and Sabrina Tavernise. Twenty minutes a day, five days a week, ready by 6 a.m.\\n\\nListen to this podcast in New York Times Audio, our new iOS app for news subscribers. Download now at nytimes.com/audioapp'}, 'rights': '© 2020-2021 THE NEW YORK TIMES COMPANY; The New York Times encourages the use of RSS feeds for personal use in a news reader or as part of a non-commercial blog, subject to your agreement to our Terms of Service.', 'rights_detail': {'type': 'text/plain', 'language': None, 'base': 'https://feeds.simplecast.com/54nAGcIl', 'value': '© 2020-2021 THE NEW YORK TIMES COMPANY; The New York Times encourages the use of RSS feeds for personal use in a news reader or as part of a non-commercial blog, subject to your agreement to our Terms of Service.'}, 'language': 'en', 'published': 'Tue, 1 Aug 2023 09:45:00 +0000', 'published_parsed': time.struct_time(tm_year=2023, tm_mon=8, tm_mday=1, tm_hour=9, tm_min=45, tm_sec=0, tm_wday=1, tm_yday=213, tm_isdst=0), 'updated': 'Tue, 1 Aug 2023 09:46:00 +0000', 'updated_parsed': time.struct_time(tm_year=2023, tm_mon=8, tm_mday=1, tm_hour=9, tm_min=46, tm_sec=0, tm_wday=1, tm_yday=213, tm_isdst=0), 'image': {'href': 'https://image.simplecastcdn.com/images/03d8b493-87fc-4bd1-931f-8a8e9b945d8a/2cce5659-f647-4366-b318-46e4b67afcfa/3000x3000/c81936f538106550b804e7e4fe2c236319bab7fba37941a6e8f7e5c3d3048b88fc5b2182fb790f7d446bdc820406456c94287f245db89d8656c105d5511ec3de.jpeg?aid=rss_feed'}, 'link': 'https://www.nytimes.com/the-daily', 'itunes_type': 'episodic', 'summary': 'This is what the news should sound like. The biggest stories of our time, told by the best journalists in the world. Hosted by Michael Barbaro and Sabrina Tavernise. Twenty minutes a day, five days a week, ready by 6 a.m.\\n\\nListen to this podcast in New York Times Audio, our new iOS app for news subscribers. Download now at nytimes.com/audioapp', 'summary_detail': {'type': 'text/plain', 'language': None, 'base': 'https://feeds.simplecast.com/54nAGcIl', 'value': 'This is what the news should sound like. The biggest stories of our time, told by the best journalists in the world. Hosted by Michael Barbaro and Sabrina Tavernise. Twenty minutes a day, five days a week, ready by 6 a.m.\\n\\nListen to this podcast in New York Times Audio, our new iOS app for news subscribers. Download now at nytimes.com/audioapp'}, 'authors': [{'name': 'The New York Times', 'email': 'thedaily@nytimes.com'}], 'author': 'The New York Times', 'author_detail': {'name': 'The New York Times', 'email': 'thedaily@nytimes.com'}, 'itunes_explicit': None, 'itunes_new-feed-url': 'https://feeds.simplecast.com/54nAGcIl', 'publisher_detail': {'name': 'The New York Times', 'email': 'thedaily@nytimes.com'}, 'tags': [{'term': 'News', 'scheme': 'http://www.itunes.com/', 'label': None}, {'term': 'Daily News', 'scheme': 'http://www.itunes.com/', 'label': None}]}\n"
     ]
    }
   ],
   "source": [
    "print(nytimes['feed'])"
   ]
  },
  {
   "cell_type": "markdown",
   "metadata": {},
   "source": [
    "### 2. Obtain a list of components (keys) that are available for this feed."
   ]
  },
  {
   "cell_type": "code",
   "execution_count": 4,
   "metadata": {},
   "outputs": [
    {
     "data": {
      "text/plain": [
       "dict_keys(['bozo', 'entries', 'feed', 'headers', 'etag', 'updated', 'updated_parsed', 'href', 'status', 'encoding', 'version', 'namespaces'])"
      ]
     },
     "execution_count": 4,
     "metadata": {},
     "output_type": "execute_result"
    }
   ],
   "source": [
    " nytimes.keys()"
   ]
  },
  {
   "cell_type": "markdown",
   "metadata": {},
   "source": [
    "### 3. Obtain a list of components (keys) that are available for the *feed* component of this RSS feed."
   ]
  },
  {
   "cell_type": "code",
   "execution_count": 5,
   "metadata": {},
   "outputs": [
    {
     "data": {
      "text/plain": [
       "['bozo',\n",
       " 'entries',\n",
       " 'feed',\n",
       " 'headers',\n",
       " 'etag',\n",
       " 'updated',\n",
       " 'updated_parsed',\n",
       " 'href',\n",
       " 'status',\n",
       " 'encoding',\n",
       " 'version',\n",
       " 'namespaces']"
      ]
     },
     "execution_count": 5,
     "metadata": {},
     "output_type": "execute_result"
    }
   ],
   "source": [
    "nytimeslist = list(nytimes.keys())\n",
    "nytimeslist"
   ]
  },
  {
   "cell_type": "markdown",
   "metadata": {},
   "source": [
    "### 4. Extract and print the feed title, subtitle, author, and link."
   ]
  },
  {
   "cell_type": "code",
   "execution_count": 10,
   "metadata": {
    "scrolled": true
   },
   "outputs": [
    {
     "name": "stdout",
     "output_type": "stream",
     "text": [
      "The Daily\n",
      "\n",
      "This is what the news should sound like. The biggest stories of our time, told by the best journalists in the world. Hosted by Michael Barbaro and Sabrina Tavernise. Twenty minutes a day, five days a week, ready by 6 a.m.\n",
      "\n",
      "Listen to this podcast in New York Times Audio, our new iOS app for news subscribers. Download now at nytimes.com/audioapp\n",
      "\n",
      "The New York Times\n",
      "\n",
      "https://www.nytimes.com/the-daily\n"
     ]
    }
   ],
   "source": [
    "nytimes.feed.keys()\n",
    "\n",
    "print (nytimes.feed.title)\n",
    "print ('')\n",
    "print (nytimes.feed.subtitle)\n",
    "print ('')\n",
    "print (nytimes.feed.author)\n",
    "print ('')\n",
    "print (nytimes.feed.link)"
   ]
  },
  {
   "cell_type": "markdown",
   "metadata": {},
   "source": [
    "### 5. Count the number of entries that are contained in this RSS feed."
   ]
  },
  {
   "cell_type": "code",
   "execution_count": 14,
   "metadata": {},
   "outputs": [
    {
     "data": {
      "text/plain": [
       "1902"
      ]
     },
     "execution_count": 14,
     "metadata": {},
     "output_type": "execute_result"
    }
   ],
   "source": [
    "len(nytimes.entries)"
   ]
  },
  {
   "cell_type": "markdown",
   "metadata": {},
   "source": [
    "### 6. Obtain a list of components (keys) available for an entry.\n",
    "\n",
    "*Hint: Remember to index first before requesting the keys*"
   ]
  },
  {
   "cell_type": "code",
   "execution_count": 17,
   "metadata": {},
   "outputs": [
    {
     "data": {
      "text/plain": [
       "dict_keys(['id', 'guidislink', 'title', 'title_detail', 'summary', 'summary_detail', 'published', 'published_parsed', 'authors', 'author', 'author_detail', 'links', 'link', 'content', 'itunes_title', 'itunes_duration', 'subtitle', 'subtitle_detail', 'itunes_explicit', 'itunes_episodetype'])"
      ]
     },
     "execution_count": 17,
     "metadata": {},
     "output_type": "execute_result"
    }
   ],
   "source": [
    "nytimes.entries[0].keys()"
   ]
  },
  {
   "cell_type": "markdown",
   "metadata": {},
   "source": [
    "### 7. Extract a list of entry titles."
   ]
  },
  {
   "cell_type": "code",
   "execution_count": 18,
   "metadata": {},
   "outputs": [
    {
     "data": {
      "text/plain": [
       "['id',\n",
       " 'guidislink',\n",
       " 'title',\n",
       " 'title_detail',\n",
       " 'summary',\n",
       " 'summary_detail',\n",
       " 'published',\n",
       " 'published_parsed',\n",
       " 'authors',\n",
       " 'author',\n",
       " 'author_detail',\n",
       " 'links',\n",
       " 'link',\n",
       " 'content',\n",
       " 'itunes_title',\n",
       " 'itunes_duration',\n",
       " 'subtitle',\n",
       " 'subtitle_detail',\n",
       " 'itunes_explicit',\n",
       " 'itunes_episodetype']"
      ]
     },
     "execution_count": 18,
     "metadata": {},
     "output_type": "execute_result"
    }
   ],
   "source": [
    "list(nytimes.entries[0].keys())"
   ]
  },
  {
   "cell_type": "markdown",
   "metadata": {},
   "source": [
    "### 8. Calculate the percentage of \"Four short links\" entry titles."
   ]
  },
  {
   "cell_type": "code",
   "execution_count": null,
   "metadata": {},
   "outputs": [],
   "source": []
  },
  {
   "cell_type": "markdown",
   "metadata": {},
   "source": [
    "### 9. Create a Pandas data frame from the feed's entries."
   ]
  },
  {
   "cell_type": "code",
   "execution_count": 19,
   "metadata": {},
   "outputs": [],
   "source": [
    "import pandas as pd"
   ]
  },
  {
   "cell_type": "code",
   "execution_count": 20,
   "metadata": {},
   "outputs": [
    {
     "name": "stdout",
     "output_type": "stream",
     "text": [
      "                                                     id  guidislink  \\\n",
      "0                  3f6e5473-d26a-4c9c-bb97-6e17e5b00260       False   \n",
      "1                  6a349a51-f9de-4fd0-820d-e8a9f137b199       False   \n",
      "2                  b4282e9e-bbb4-43cb-80ca-49a76f0d9c2f       False   \n",
      "3                  bacbf190-63d7-446c-a92e-4b15823e482f       False   \n",
      "4                  3e818886-9ecf-4ca9-992c-ac45d931f420       False   \n",
      "...                                                 ...         ...   \n",
      "1897  gid://art19-episode-locator/V0/hEU3jczQz949Kcm...       False   \n",
      "1898  gid://art19-episode-locator/V0/In2dGOFxV52Kl-p...       False   \n",
      "1899  gid://art19-episode-locator/V0/1ft_DGtLLsokwij...       False   \n",
      "1900  gid://art19-episode-locator/V0/8fJKNp6i648MNqY...       False   \n",
      "1901  gid://art19-episode-locator/V0/dBmW5PqKxnbikwB...       False   \n",
      "\n",
      "                                                  title  \\\n",
      "0                      The Secret History of Gun Rights   \n",
      "1     Italy’s Giorgia Meloni Charts a Path for the F...   \n",
      "2     The Sunday Read: ‘The America That Americans F...   \n",
      "3                          Menopause Is Having a Moment   \n",
      "4                  Affirmative Action for the 1 Percent   \n",
      "...                                                 ...   \n",
      "1897                               Monday, Feb. 6, 2017   \n",
      "1898                               Friday, Feb. 3, 2017   \n",
      "1899                             Thursday, Feb. 2, 2017   \n",
      "1900                            Wednesday, Feb. 1, 2017   \n",
      "1901                           Coming Soon: “The Daily”   \n",
      "\n",
      "                                                summary  \\\n",
      "0     How did the National Rifle Association, Americ...   \n",
      "1     Last year, Giorgia Meloni, an Italian far-righ...   \n",
      "2     On the weekends, when Roy Gamboa was a little ...   \n",
      "3     Some of the worst symptoms of menopause — incl...   \n",
      "4     A major new study has revealed just how much e...   \n",
      "...                                                 ...   \n",
      "1897  What single figure connects the 2008 financial...   \n",
      "1898  The biggest story in sports meets the biggest ...   \n",
      "1899  Who is influencing our new president’s views o...   \n",
      "1900  In a ceremony made for prime-time television, ...   \n",
      "1901  This is how the news should sound. Fifteen min...   \n",
      "\n",
      "                            published  \\\n",
      "0      Tue, 1 Aug 2023 09:45:00 +0000   \n",
      "1     Mon, 31 Jul 2023 09:45:00 +0000   \n",
      "2     Sun, 30 Jul 2023 10:00:00 +0000   \n",
      "3     Fri, 28 Jul 2023 09:45:00 +0000   \n",
      "4     Thu, 27 Jul 2023 09:45:00 +0000   \n",
      "...                               ...   \n",
      "1897   Mon, 6 Feb 2017 10:21:45 +0000   \n",
      "1898   Fri, 3 Feb 2017 10:31:13 +0000   \n",
      "1899   Thu, 2 Feb 2017 10:40:19 +0000   \n",
      "1900   Wed, 1 Feb 2017 10:18:28 +0000   \n",
      "1901  Tue, 17 Jan 2017 21:19:47 +0000   \n",
      "\n",
      "                                                authors              author  \\\n",
      "0     [{'name': 'The New York Times', 'email': 'thed...  The New York Times   \n",
      "1     [{'name': 'The New York Times', 'email': 'thed...  The New York Times   \n",
      "2     [{'name': 'The New York Times', 'email': 'thed...  The New York Times   \n",
      "3     [{'name': 'The New York Times', 'email': 'thed...  The New York Times   \n",
      "4     [{'name': 'The New York Times', 'email': 'thed...  The New York Times   \n",
      "...                                                 ...                 ...   \n",
      "1897  [{'name': 'The New York Times', 'email': 'thed...  The New York Times   \n",
      "1898  [{'name': 'The New York Times', 'email': 'thed...  The New York Times   \n",
      "1899  [{'name': 'The New York Times', 'email': 'thed...  The New York Times   \n",
      "1900  [{'name': 'The New York Times', 'email': 'thed...  The New York Times   \n",
      "1901  [{'name': 'The New York Times', 'email': 'thed...  The New York Times   \n",
      "\n",
      "                                                  links  \\\n",
      "0     [{'rel': 'alternate', 'type': 'text/html', 'hr...   \n",
      "1     [{'rel': 'alternate', 'type': 'text/html', 'hr...   \n",
      "2     [{'rel': 'alternate', 'type': 'text/html', 'hr...   \n",
      "3     [{'rel': 'alternate', 'type': 'text/html', 'hr...   \n",
      "4     [{'rel': 'alternate', 'type': 'text/html', 'hr...   \n",
      "...                                                 ...   \n",
      "1897  [{'rel': 'alternate', 'type': 'text/html', 'hr...   \n",
      "1898  [{'rel': 'alternate', 'type': 'text/html', 'hr...   \n",
      "1899  [{'rel': 'alternate', 'type': 'text/html', 'hr...   \n",
      "1900  [{'rel': 'alternate', 'type': 'text/html', 'hr...   \n",
      "1901  [{'rel': 'alternate', 'type': 'text/html', 'hr...   \n",
      "\n",
      "                                   link  \\\n",
      "0     https://www.nytimes.com/the-daily   \n",
      "1     https://www.nytimes.com/the-daily   \n",
      "2     https://www.nytimes.com/the-daily   \n",
      "3     https://www.nytimes.com/the-daily   \n",
      "4     https://www.nytimes.com/the-daily   \n",
      "...                                 ...   \n",
      "1897  https://www.nytimes.com/the-daily   \n",
      "1898  https://www.nytimes.com/the-daily   \n",
      "1899  https://www.nytimes.com/the-daily   \n",
      "1900  https://www.nytimes.com/the-daily   \n",
      "1901  https://www.nytimes.com/the-daily   \n",
      "\n",
      "                                                content  \\\n",
      "0     [{'type': 'text/html', 'language': None, 'base...   \n",
      "1     [{'type': 'text/html', 'language': None, 'base...   \n",
      "2     [{'type': 'text/html', 'language': None, 'base...   \n",
      "3     [{'type': 'text/html', 'language': None, 'base...   \n",
      "4     [{'type': 'text/html', 'language': None, 'base...   \n",
      "...                                                 ...   \n",
      "1897  [{'type': 'text/html', 'language': None, 'base...   \n",
      "1898  [{'type': 'text/html', 'language': None, 'base...   \n",
      "1899  [{'type': 'text/html', 'language': None, 'base...   \n",
      "1900  [{'type': 'text/html', 'language': None, 'base...   \n",
      "1901  [{'type': 'text/html', 'language': None, 'base...   \n",
      "\n",
      "                                           itunes_title itunes_duration  \\\n",
      "0                      The Secret History of Gun Rights        00:26:57   \n",
      "1     Italy’s Giorgia Meloni Charts a Path for the F...        00:31:31   \n",
      "2     The Sunday Read: ‘The America That Americans F...        01:43:56   \n",
      "3                          Menopause Is Having a Moment        00:32:08   \n",
      "4                  Affirmative Action for the 1 Percent        00:38:24   \n",
      "...                                                 ...             ...   \n",
      "1897                               Monday, Feb. 6, 2017        00:19:31   \n",
      "1898                               Friday, Feb. 3, 2017        00:16:30   \n",
      "1899                             Thursday, Feb. 2, 2017        00:22:10   \n",
      "1900                            Wednesday, Feb. 1, 2017        00:19:32   \n",
      "1901                           Coming Soon: “The Daily”        00:03:09   \n",
      "\n",
      "                                               subtitle itunes_explicit  \\\n",
      "0     How did the National Rifle Association, Americ...            None   \n",
      "1     Last year, Giorgia Meloni, an Italian far-righ...            None   \n",
      "2     On the weekends, when Roy Gamboa was a little ...            None   \n",
      "3     Some of the worst symptoms of menopause — incl...            None   \n",
      "4     A major new study has revealed just how much e...            None   \n",
      "...                                                 ...             ...   \n",
      "1897  What single figure connects the 2008 financial...            None   \n",
      "1898  The biggest story in sports meets the biggest ...            None   \n",
      "1899  Who is influencing our new president’s views o...            None   \n",
      "1900  In a ceremony made for prime-time television, ...            None   \n",
      "1901  This is how the news should sound. Fifteen min...            None   \n",
      "\n",
      "     itunes_episodetype  \n",
      "0                  full  \n",
      "1                  full  \n",
      "2                  full  \n",
      "3                  full  \n",
      "4                  full  \n",
      "...                 ...  \n",
      "1897               full  \n",
      "1898               full  \n",
      "1899               full  \n",
      "1900               full  \n",
      "1901               full  \n",
      "\n",
      "[1902 rows x 15 columns]\n"
     ]
    }
   ],
   "source": [
    "data = []\n",
    "\n",
    "for entry in nytimes.entries:\n",
    "    \n",
    "    entry_data = {\n",
    "        'id': entry.get('id', ''),\n",
    "        'guidislink': entry.get('guidislink', ''),\n",
    "        'title': entry.get('title', ''),\n",
    "        'summary': entry.get('summary', ''),\n",
    "        'published': entry.get('published', ''),\n",
    "        'authors': entry.get('authors', ''),\n",
    "        'author': entry.get('author', ''),\n",
    "        'links': entry.get('links', ''),\n",
    "        'link': entry.get('link', ''),\n",
    "        'content': entry.get('content', ''),\n",
    "        'itunes_title': entry.get('itunes_title', ''),\n",
    "        'itunes_duration': entry.get('itunes_duration', ''),\n",
    "        'subtitle': entry.get('subtitle', ''),\n",
    "        'itunes_explicit': entry.get('itunes_explicit', ''),\n",
    "        'itunes_episodetype': entry.get('itunes_episodetype', '')\n",
    "    }\n",
    "    data.append(entry_data)\n",
    "\n",
    "df = pd.DataFrame(data)\n",
    "\n",
    "print(df)"
   ]
  },
  {
   "cell_type": "markdown",
   "metadata": {},
   "source": [
    "### 10. Count the number of entries per author and sort them in descending order."
   ]
  },
  {
   "cell_type": "code",
   "execution_count": 22,
   "metadata": {},
   "outputs": [
    {
     "name": "stdout",
     "output_type": "stream",
     "text": [
      "The New York Times    1902\n",
      "dtype: int64\n"
     ]
    }
   ],
   "source": [
    "authors = []\n",
    "\n",
    "for entry in nytimes.entries:\n",
    "    authors.append(entry.get('author', ''))\n",
    "\n",
    "author_series = pd.Series(authors)\n",
    "\n",
    "entry_counts = author_series.value_counts().sort_values(ascending=False)\n",
    "\n",
    "print(entry_counts)"
   ]
  },
  {
   "cell_type": "markdown",
   "metadata": {},
   "source": [
    "### 11. Add a new column to the data frame that contains the length (number of characters) of each entry title. Return a data frame that contains the title, author, and title length of each entry in descending order (longest title length at the top)."
   ]
  },
  {
   "cell_type": "code",
   "execution_count": 23,
   "metadata": {},
   "outputs": [
    {
     "name": "stdout",
     "output_type": "stream",
     "text": [
      "                                                  title              author  \\\n",
      "49    Special Episode: A Crash Course in Dembow, a M...  The New York Times   \n",
      "731   Bonus: The N-Word is Both Unspeakable and Ubiq...  The New York Times   \n",
      "778   The Sunday Read: ‘The Amateur Cloud Society Th...  The New York Times   \n",
      "455   The Sunday Read: ‘Animals That Infect Humans A...  The New York Times   \n",
      "343   The Sunday Read: ‘How Houston Moved 25,000 Peo...  The New York Times   \n",
      "...                                                 ...                 ...   \n",
      "1015                                      A Glut in Oil  The New York Times   \n",
      "1126                                      Year in Sound  The New York Times   \n",
      "807                                       Hacked, Again  The New York Times   \n",
      "379                                         One Million  The New York Times   \n",
      "803                                             Delilah  The New York Times   \n",
      "\n",
      "      title_length  \n",
      "49             114  \n",
      "731            109  \n",
      "778             92  \n",
      "455             92  \n",
      "343             91  \n",
      "...            ...  \n",
      "1015            13  \n",
      "1126            13  \n",
      "807             13  \n",
      "379             11  \n",
      "803              7  \n",
      "\n",
      "[1902 rows x 3 columns]\n"
     ]
    }
   ],
   "source": [
    "data = []\n",
    "\n",
    "for entry in nytimes.entries:\n",
    "    entry_data = {\n",
    "        'title': entry.get('title', ''),\n",
    "        'author': entry.get('author', ''),\n",
    "    }\n",
    "    data.append(entry_data)\n",
    "\n",
    "df = pd.DataFrame(data)\n",
    "\n",
    "df['title_length'] = df['title'].apply(len)\n",
    "\n",
    "sorted_df = df.sort_values(by='title_length', ascending=False)\n",
    "\n",
    "result_df = sorted_df[['title', 'author', 'title_length']]\n",
    "\n",
    "print(result_df)"
   ]
  },
  {
   "cell_type": "markdown",
   "metadata": {},
   "source": [
    "### 12. Create a list of entry titles whose summary includes the phrase \"machine learning.\""
   ]
  },
  {
   "cell_type": "code",
   "execution_count": 25,
   "metadata": {},
   "outputs": [
    {
     "name": "stdout",
     "output_type": "stream",
     "text": [
      "[]\n"
     ]
    }
   ],
   "source": [
    "\n",
    "machinelearning = []\n",
    "\n",
    "for entry in nytimes.entries:\n",
    "    summary = entry.get('summary', '')\n",
    "    if \"machine learning\" in summary.lower():\n",
    "        machinelearning.append(entry.get('title', ''))\n",
    "\n",
    "print(machinelearning)"
   ]
  },
  {
   "cell_type": "code",
   "execution_count": null,
   "metadata": {},
   "outputs": [],
   "source": []
  }
 ],
 "metadata": {
  "kernelspec": {
   "display_name": "Python 3 (ipykernel)",
   "language": "python",
   "name": "python3"
  },
  "language_info": {
   "codemirror_mode": {
    "name": "ipython",
    "version": 3
   },
   "file_extension": ".py",
   "mimetype": "text/x-python",
   "name": "python",
   "nbconvert_exporter": "python",
   "pygments_lexer": "ipython3",
   "version": "3.10.9"
  }
 },
 "nbformat": 4,
 "nbformat_minor": 2
}
